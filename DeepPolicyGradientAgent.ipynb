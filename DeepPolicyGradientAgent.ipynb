{
  "nbformat": 4,
  "nbformat_minor": 0,
  "metadata": {
    "colab": {
      "name": "Copy of DeepPolicyGradientAgent.ipynb",
      "version": "0.3.2",
      "provenance": [],
      "collapsed_sections": []
    },
    "kernelspec": {
      "name": "python3",
      "display_name": "Python 3"
    },
    "accelerator": "GPU"
  },
  "cells": [
    {
      "metadata": {
        "id": "E1xEu0vh3bjA",
        "colab_type": "text"
      },
      "cell_type": "markdown",
      "source": [
        "# Basic Policy Gradients (REINFORCE) example in PyTorch\n",
        "\n",
        "Adaptation of lab 6 by Víctor Campos to PyTorch"
      ]
    },
    {
      "metadata": {
        "id": "li_2jpmJ3ycI",
        "colab_type": "text"
      },
      "cell_type": "markdown",
      "source": [
        "## Installing dependences\n",
        "\n"
      ]
    },
    {
      "metadata": {
        "id": "CJnFUY6Y35Ln",
        "colab_type": "code",
        "colab": {
          "base_uri": "https://localhost:8080/",
          "height": 34
        },
        "outputId": "cab797df-6ca0-4fbf-fbfc-2177a36e5adc"
      },
      "cell_type": "code",
      "source": [
        "!apt-get update > /dev/null\n",
        "!apt-get install -y python-numpy python-dev cmake zlib1g-dev libjpeg-dev xvfb ffmpeg xorg-dev python-opengl libboost-all-dev libsdl2-dev swig > /dev/null\n",
        "!pip install gym pyvirtualdisplay > /dev/null\n"
      ],
      "execution_count": 1,
      "outputs": [
        {
          "output_type": "stream",
          "text": [
            "Extracting templates from packages: 100%\n"
          ],
          "name": "stdout"
        }
      ]
    },
    {
      "metadata": {
        "id": "D3_ZIa8o5tVO",
        "colab_type": "text"
      },
      "cell_type": "markdown",
      "source": [
        "## Torch + torchvision installation (Py3.6)"
      ]
    },
    {
      "metadata": {
        "id": "rSHEuxRA4gWK",
        "colab_type": "code",
        "colab": {
          "base_uri": "https://localhost:8080/",
          "height": 54
        },
        "outputId": "f24acc58-6287-4a3e-9178-39e4c9eb91e8"
      },
      "cell_type": "code",
      "source": [
        "!pip3 install http://download.pytorch.org/whl/cu80/torch-0.4.1-cp36-cp36m-linux_x86_64.whl > /dev/null\n",
        "!pip3 install torchvision > /dev/null\n",
        "!apt-get install python-opengl > /dev/null"
      ],
      "execution_count": 2,
      "outputs": [
        {
          "output_type": "stream",
          "text": [
            "tcmalloc: large alloc 1073750016 bytes == 0x55e98000 @  0x7f9ca3b322a4 0x591a07 0x5b5d56 0x502e9a 0x506859 0x502209 0x502f3d 0x506859 0x504c28 0x502540 0x502f3d 0x506859 0x504c28 0x502540 0x502f3d 0x506859 0x504c28 0x502540 0x502f3d 0x507641 0x502209 0x502f3d 0x506859 0x504c28 0x502540 0x502f3d 0x507641 0x504c28 0x502540 0x502f3d 0x507641\n"
          ],
          "name": "stdout"
        }
      ]
    },
    {
      "metadata": {
        "id": "WblMXvtt4EbT",
        "colab_type": "code",
        "colab": {}
      },
      "cell_type": "code",
      "source": [
        "import torch # Check if everything is OK"
      ],
      "execution_count": 0,
      "outputs": []
    },
    {
      "metadata": {
        "id": "Y1xLPUdl6HL9",
        "colab_type": "text"
      },
      "cell_type": "markdown",
      "source": [
        "## Setting up the environment"
      ]
    },
    {
      "metadata": {
        "id": "py16tP786OMU",
        "colab_type": "code",
        "outputId": "c7dcbd68-53f2-4ffb-a52c-3448f550a37a",
        "colab": {
          "base_uri": "https://localhost:8080/",
          "height": 106
        }
      },
      "cell_type": "code",
      "source": [
        "import gym\n",
        "import math\n",
        "import random\n",
        "import numpy as np\n",
        "\n",
        "# Some stuff that we will need to visualize the simulations in the notebook\n",
        "import matplotlib.pyplot as plt\n",
        "import matplotlib.animation\n",
        "from IPython.display import HTML\n",
        "\n",
        "# Start virtual display\n",
        "from pyvirtualdisplay import Display\n",
        "display = Display(visible=0, size=(1024, 768))\n",
        "display.start()\n",
        "import os\n",
        "os.environ[\"DISPLAY\"] = \":\" + str(display.display) + \".\" + str(display.screen)\n",
        "from collections import namedtuple\n",
        "from itertools import count\n",
        "from PIL import Image\n",
        "\n",
        "import torch\n",
        "import torch.nn as nn\n",
        "import torch.optim as optim\n",
        "import torch.nn.functional as F\n",
        "import torchvision.transforms as T\n",
        "from torch.autograd import Variable\n",
        "import torch.nn.utils as utils\n",
        "from torch.distributions import Categorical\n",
        "\n",
        "env = gym.make('CartPole-v0')\n",
        "\n",
        "print(\"Action space (discrete): {}\".format( env.action_space.n))\n",
        "print(\"Observation space (discrete): {}\".format( env.observation_space))\n",
        "\n",
        "# if gpu is to be used\n",
        "device = torch.device(\"cuda\" if torch.cuda.is_available() else \"cpu\")"
      ],
      "execution_count": 4,
      "outputs": [
        {
          "output_type": "stream",
          "text": [
            "Action space (discrete): 2\n",
            "Observation space (discrete): Box(4,)\n"
          ],
          "name": "stdout"
        },
        {
          "output_type": "stream",
          "text": [
            "/usr/local/lib/python3.6/dist-packages/gym/envs/registration.py:14: PkgResourcesDeprecationWarning: Parameters to load are deprecated.  Call .resolve and .require separately.\n",
            "  result = entry_point.load(False)\n"
          ],
          "name": "stderr"
        }
      ]
    },
    {
      "metadata": {
        "id": "MIuiPqyn68SP",
        "colab_type": "text"
      },
      "cell_type": "markdown",
      "source": [
        "## Create the model\n",
        "\n",
        "Definition of the models tried accepting both image or env observations"
      ]
    },
    {
      "metadata": {
        "id": "wkfM9M5c7Dvr",
        "colab_type": "code",
        "colab": {}
      },
      "cell_type": "code",
      "source": [
        "class PolicyNN(nn.Module):\n",
        "  def __init__(self,obs_dim=4, num_actions=2):\n",
        "    super(PolicyNN, self).__init__()\n",
        "    self.fc1 = nn.Sequential(\n",
        "      nn.Linear(obs_dim, 16),\n",
        "      nn.Tanh())\n",
        "    self.fc2 = nn.Sequential(\n",
        "      nn.Linear(16, 16),\n",
        "      nn.Tanh())\n",
        "    self.fc3 =  nn.Linear(16, num_actions)\n",
        "\n",
        "  def forward(self, x):\n",
        "    x = self.fc1(x)\n",
        "    x = self.fc2(x)\n",
        "    logprobs = self.fc3(x)\n",
        "    return F.softmax(logprobs)\n",
        "  \n",
        "class PolicyNN_V2(nn.Module):\n",
        "  def __init__(self,obs_dim=4, num_actions=2):\n",
        "    super(PolicyNN_V2, self).__init__()\n",
        "    self.fc1 = nn.Sequential(\n",
        "      nn.Linear(obs_dim, 16),\n",
        "      nn.ReLU())\n",
        "    self.fc2 = nn.Sequential(\n",
        "      nn.Linear(16, 32),\n",
        "      nn.ReLU())\n",
        "    self.fc3 =  nn.Linear(32, num_actions)\n",
        "\n",
        "  def forward(self, x):\n",
        "    x = self.fc1(x)\n",
        "    x = self.fc2(x)\n",
        "    logprobs = self.fc3(x)\n",
        "    return F.softmax(logprobs)\n",
        "  \n",
        "  \n",
        "class ImagePolicy(nn.Module):\n",
        "\n",
        "    def __init__(self):\n",
        "        super(ImagePolicy, self).__init__()\n",
        "        self.conv1 = nn.Conv2d(3, 16, kernel_size=5, stride=2)\n",
        "        self.bn1 = nn.BatchNorm2d(16)\n",
        "        self.conv2 = nn.Conv2d(16, 32, kernel_size=5, stride=2)\n",
        "        self.bn2 = nn.BatchNorm2d(32)\n",
        "        self.conv3 = nn.Conv2d(32, 32, kernel_size=5, stride=2)\n",
        "        self.bn3 = nn.BatchNorm2d(32)\n",
        "        self.head = nn.Sequential(\n",
        "            nn.Linear(448, 512),\n",
        "            nn.Dropout(),\n",
        "            nn.Linear(512, 2))\n",
        "            \n",
        "                              \n",
        "\n",
        "    def forward(self, x):\n",
        "        #print (\"input size: {} \\n\".format(x.size()))\n",
        "        x = F.relu(self.bn1(self.conv1(x)))\n",
        "        x = F.relu(self.bn2(self.conv2(x)))\n",
        "        x = F.relu(self.bn3(self.conv3(x)))\n",
        "        res= F.softmax(self.head(x.view(x.size(0), -1)))\n",
        "        #print (\"Soft out: {}\".format(res))\n",
        "        return res"
      ],
      "execution_count": 0,
      "outputs": []
    },
    {
      "metadata": {
        "id": "yP9_A9zf_VMu",
        "colab_type": "text"
      },
      "cell_type": "markdown",
      "source": [
        ""
      ]
    },
    {
      "metadata": {
        "id": "PwZuaZw5_WCf",
        "colab_type": "code",
        "colab": {}
      },
      "cell_type": "code",
      "source": [
        "import sys\n",
        "\n",
        "\n",
        "resize = T.Compose([T.ToPILImage(),\n",
        "                    T.Resize(40, interpolation=Image.CUBIC),\n",
        "                    T.ToTensor()])\n",
        "\n",
        "class Agent:\n",
        "  '''\n",
        "  Implements reinforce algorithm\n",
        "  Param:\n",
        "  - Config file example:\n",
        "     env = \"CartPole-v0\" # Choose your env (not checked if working xddd)\n",
        "    seed = 0  # for reproducibility0\n",
        "    gamma = 0.99  # discount factor for future rewards\n",
        "    batch_size = 64  # in trajectories (episodes)\n",
        "    learning_rate = 0.0001\n",
        "    use_images = True Use env states or rgb frames from env.render\n",
        "  \n",
        "  - Additional params\n",
        "  - decay -> Learning rate decay--> configured to reduce lr by 0.3 after each 1000 episodes\n",
        "  - use_entropies -> use entropy normalization, TODO: add decay factor also\n",
        "  '''\n",
        "  def __init__(self, config, use_entropies = True, decay= False, relu= True):\n",
        "    # Get configs and init model, optimizer, lr decay scheduler...\n",
        "    self.use_images = config.use_images\n",
        "    if self.use_images:\n",
        "      self.pi = ImagePolicy()\n",
        "      self.env = gym.make(config.env).unwrapped\n",
        "    else:\n",
        "      self.env = gym.make(config.env)\n",
        "      if relu:\n",
        "        self.pi = PolicyNN_V2()\n",
        "      else:\n",
        "        self.pi = PolicyNN()\n",
        "    \n",
        "    \n",
        "    self.gamma = config.gamma  # discount factor for future rewards\n",
        "    self.batch_size = config.batch_size  # in 4trajectories (episodes)\n",
        "    self.optimizer = torch.optim.Adam(self.pi.parameters(), lr=config.learning_rate) # optiii\n",
        "    self.use_entropies= use_entropies\n",
        "    # Set random seed for reproducibility\n",
        "    self.env.seed(config.seed)\n",
        "    #torch.manual_seed(config.seed)\n",
        "    self.decay=decay\n",
        "    if decay:\n",
        "       self.decay_lr= optim.lr_scheduler.StepLR(self.optimizer, step_size=int(1000/self.batch_size), gamma=0.5)\n",
        "\n",
        "    self.pi.train() # DONT FORGET TO PUT MODEL TO TRAIN ON INIT!!!!!!!\n",
        "    # This is based on the code from gym.\n",
        "    self.screen_width = 600\n",
        "  \n",
        "  \n",
        "  def save(self, filename):\n",
        "    \"\"\" Save policy weights to a ***.h5 file. \"\"\"\n",
        "    self.pi.save_state_dict(filename)\n",
        "    #self.pi.save_weights(filename)\n",
        "    \n",
        "  def load(self, filename):\n",
        "    \"\"\" Load policy weights from a ***.h5 file. \"\"\"\n",
        "    #self.pi.load_weights(filename)\n",
        "    self.pi.load_state_dict(torch.load(filename))\n",
        "    \n",
        "  def get_cart_location(self):\n",
        "    world_width = self.env.x_threshold * 2\n",
        "    scale = self.screen_width / world_width\n",
        "    return int(self.env.state[0] * scale + self.screen_width / 2.0)  # MIDDLE OF CART\n",
        "   \n",
        "  def get_screen(self):\n",
        "    screen = self.env.render(mode='rgb_array').transpose(\n",
        "        (2, 0, 1))  # transpose into torch order (CHW)\n",
        "    # Strip off the top and bottom of the screen\n",
        "    screen = screen[:, 160:320]\n",
        "    view_width = 320\n",
        "    cart_location = self.get_cart_location()\n",
        "    if cart_location < view_width // 2:\n",
        "        slice_range = slice(view_width)\n",
        "    elif cart_location > (self.screen_width - view_width // 2):\n",
        "        slice_range = slice(-view_width, None)\n",
        "    else:\n",
        "        slice_range = slice(cart_location - view_width // 2,\n",
        "                            cart_location + view_width // 2)\n",
        "    # Strip off the edges, so that we have a square image centered on a cart\n",
        "    screen = screen[:, :, slice_range]\n",
        "    # Convert to float, rescare, convert to torch tensor\n",
        "    # (this doesn't require a copy)\n",
        "    screen = np.ascontiguousarray(screen, dtype=np.float32) / 255\n",
        "    screen = torch.from_numpy(screen)\n",
        "    # Resize, and add a batch dimension (BCHW)\n",
        "    return resize(screen).unsqueeze(0)\n",
        "\n",
        "  def select_action(self, state):\n",
        "    probs = self.pi(Variable(state))    \n",
        "    c = Categorical(probs)\n",
        "    action = probs.multinomial(num_samples=1).data\n",
        "    prob = probs[:, action[0,0]].view(1, -1)\n",
        "    log_prob = prob.log()\n",
        "    entropy = - (probs*probs.log()).sum()\n",
        "    return action[0], log_prob, entropy\n",
        "  \n",
        "  def play(self, render):\n",
        "    \"\"\" \n",
        "    Run the trained policy on the env. \n",
        "    Returns the rewards and the rendered frames for visualization.\n",
        "    \"\"\"\n",
        "    # put model to eval\n",
        "    self.pi.eval()\n",
        "    state = torch.Tensor([self.env.reset()])\n",
        "    if self.use_images:\n",
        "      last_screen = self.get_screen()\n",
        "    done = False\n",
        "    rews, frames = [], []\n",
        "    while not done:\n",
        "      if render:\n",
        "        frames.append(self.env.render(mode='rgb_array'))\n",
        "      # We need to convert ob to a tensor, and add a batch dimension...\n",
        "      # ... and remove it again once we are done with TF ops\n",
        "      if self.use_images:\n",
        "        action, log_prob, entropy  = self.select_action(last_screen)\n",
        "      else:\n",
        "        action, log_prob, entropy  = self.select_action(state)\n",
        "      next_state, rew, done, info = self.env.step(action.numpy()[0])\n",
        "      state = torch.Tensor([next_state])\n",
        "      if self.use_images:\n",
        "        last_screen = self.get_screen()- last_screen\n",
        "      rews.append(rew)\n",
        "    return rews, frames\n",
        "  \n",
        "  def _discount_rewards(self, rews):\n",
        "    \"\"\" \n",
        "    Compute discounted rewards recursively. \n",
        "    Recall that with discount, r_t = sum_{k=t}^{T} gamma^{k-t} * r_k\n",
        "    \"\"\"\n",
        "    discounted_rews = []\n",
        "    last_r = 0.\n",
        "    for r in reversed(rews):\n",
        "      last_r = last_r * self.gamma + r\n",
        "      discounted_rews.append(last_r)\n",
        "    discounted_rews.reverse()\n",
        "    return discounted_rews\n",
        "  \n",
        "\n",
        "  def _compute_gradients_torch(self, rewards, log_probs, entropies, n_ep):\n",
        "    \"\"\"\n",
        "    Implement the policy gradient in Torch. In order to do so with automatic\n",
        "    differentiation, we need to build a surrogate loss whose gradient is \n",
        "    the policy gradient.\n",
        "    This is achieved by taking the logprob of the selected action and \n",
        "    scaling it by the discounted reward and adding it the entropy factor ( or substracting depending on the view).\n",
        "\"\"\"\n",
        "    R = torch.zeros(1, 1)\n",
        "    self.pi.train() #ojuu que el posarem a val a la funcio play\n",
        "    loss = 0\n",
        "    for i in reversed(range(len(rewards))):\n",
        "        if n_ep<1000: \n",
        "          a=0.0001\n",
        "        else:\n",
        "          a=0\n",
        "        R = self.gamma * R + rewards[i]\n",
        "        if self.use_entropies:\n",
        "          loss = loss - (log_probs[i]*(Variable(R).expand_as(log_probs[i]))).sum() - a*entropies[i].sum()\n",
        "        else:\n",
        "          loss = loss - (log_probs[i]*(Variable(R).expand_as(log_probs[i]))).sum() \n",
        "\n",
        "        \n",
        "        \n",
        "    self.optimizer.zero_grad()\n",
        "    loss.backward()\n",
        "    utils.clip_grad_norm(self.pi.parameters(), 40*self.batch_size)\n",
        "    self.optimizer.step()\n",
        "    if self.decay:\n",
        "      self.decay_lr.step()\n",
        "    return rewards, loss\n",
        "                         \n",
        "  def train(self, num_episodes):\n",
        "    \"\"\"\n",
        "    Training loop:\n",
        "      1. Collect experience by running the policy on the env\n",
        "      2. Estimate the policy gradient with samples\n",
        "      3. Update the policy and go back to (1)\n",
        "    \"\"\"\n",
        "    rew_hist=[]\n",
        "    eval_cum_rews_history=[]\n",
        "    entropies = []\n",
        "    log_probs = []\n",
        "    losses=[]\n",
        "    rewards = []\n",
        "    for i_episode in range(num_episodes):\n",
        "        state = torch.Tensor([self.env.reset()])\n",
        "        if self.use_images:\n",
        "          last_screen = self.get_screen()\n",
        "\n",
        "        done=False\n",
        "        while not done: #PLAY PLAY\n",
        "            if self.use_images:\n",
        "              action, log_prob, entropy = self.select_action(last_screen)\n",
        "            else:\n",
        "              action, log_prob, entropy = self.select_action(state)\n",
        "            action = action\n",
        "            next_state, reward, done, _ = self.env.step(action.numpy()[0])\n",
        "            entropies.append(entropy)\n",
        "            log_probs.append(log_prob)\n",
        "            rewards.append(reward)\n",
        "            state = torch.Tensor([next_state])\n",
        "            if self.use_images:\n",
        "              last_screen = self.get_screen()- last_screen\n",
        "\n",
        "            if done:\n",
        "                break\n",
        "        if i_episode%self.batch_size==0: #UPDATE GRADIENTSSSS AND VAL THE AGENT WITH ONE EPISODE\n",
        "            ep_rew,loss=self._compute_gradients_torch(rewards, log_probs, entropies, i_episode+1)\n",
        "\n",
        "            rew_hist.append(ep_rew)\n",
        "            eval_rews, _ = self.play(render=False)\n",
        "            eval_cum_rew = np.sum(eval_rews)\n",
        "            eval_cum_rews_history.append(eval_cum_rew)\n",
        "            losses.append(loss)\n",
        "            entropies = []\n",
        "            log_probs = []\n",
        "            rewards = []\n",
        "            torch.save(self.pi.state_dict(), 'wpt.pkl')\n",
        "            sys.stdout.write('\\r%s %s %s %s %s %s %s %s' % ('Train rew avg: ', np.array(ep_rew).sum()/self.batch_size, ' val: ', eval_cum_rew, 'Episode: ',i_episode, '        ', '              '))\n",
        "            sys.stdout.flush()\n",
        "\n",
        "    return eval_cum_rews_history, losses\n"
      ],
      "execution_count": 0,
      "outputs": []
    },
    {
      "metadata": {
        "id": "LR-HUmPupSKj",
        "colab_type": "code",
        "outputId": "daf33824-4547-4dc6-d3d0-2b7b416d8a11",
        "colab": {
          "base_uri": "https://localhost:8080/",
          "height": 633
        }
      },
      "cell_type": "code",
      "source": [
        "\n",
        "class CartPoleConfig:\n",
        "  env = \"CartPole-v0\"\n",
        "  seed = 0  # for reproducibility0\n",
        "  gamma = 0.99  # discount factor for future rewards\n",
        "  batch_size = 1  # in trajectories (episodes)\n",
        "  learning_rate = 0.001\n",
        "  use_images = False\n",
        "  \n",
        "\n",
        "entropic_agent = Agent(CartPoleConfig, relu=True, use_entropies = True)\n",
        "agent = Agent(CartPoleConfig, relu=True, use_entropies = False)\n",
        "\n",
        "n_experiments = 1\n",
        "entropic_rewards=[]\n",
        "normal_rewards= []\n",
        "# Training on 3000 episodes takes around 3:30min on CPU\n",
        "for _i in range(n_experiments):\n",
        "  print(\"Experiment: {}\".format(_i+1))\n",
        "  reward,loss = agent.train(num_episodes=2500)\n",
        "  print (\" Loss: {} Reward: {} \\n\".format(reward, loss))\n",
        "  loss=[]\n",
        "  normal_rewards.append(reward)\n",
        "  agent=0\n",
        "  reward,loss = entropic_agent.train(num_episodes=2500)\n",
        "  loss=[]\n",
        "  entropic_rewards.append(reward)\n",
        "  #upss, dont forget to go back to dumb agent!!!\n",
        "  entropic_agent = Agent(CartPoleConfig, relu=True)\n",
        "  agent = Agent(CartPoleConfig, relu=False)\n",
        "  print(\"Entropic Loss: {} Reward: {} \\n\".format(reward, loss))\n",
        "  CartPoleConfig.seed+=1\n",
        " \n"
      ],
      "execution_count": 0,
      "outputs": [
        {
          "output_type": "stream",
          "text": [
            "Experiment: 1\n",
            "Train rew avg:  16.0  val:  16.0 Episode:  8                        "
          ],
          "name": "stdout"
        },
        {
          "output_type": "stream",
          "text": [
            "/usr/local/lib/python3.6/dist-packages/gym/envs/registration.py:14: PkgResourcesDeprecationWarning: Parameters to load are deprecated.  Call .resolve and .require separately.\n",
            "  result = entry_point.load(False)\n",
            "/usr/local/lib/python3.6/dist-packages/ipykernel_launcher.py:33: UserWarning: Implicit dimension choice for softmax has been deprecated. Change the call to include dim=X as an argument.\n",
            "/usr/local/lib/python3.6/dist-packages/ipykernel_launcher.py:167: UserWarning: torch.nn.utils.clip_grad_norm is now deprecated in favor of torch.nn.utils.clip_grad_norm_.\n"
          ],
          "name": "stderr"
        },
        {
          "output_type": "stream",
          "text": [
            "Train rew avg:  30.0  val:  57.0 Episode:  399                        "
          ],
          "name": "stdout"
        },
        {
          "output_type": "error",
          "ename": "KeyboardInterrupt",
          "evalue": "ignored",
          "traceback": [
            "\u001b[0;31m---------------------------------------------------------------------------\u001b[0m",
            "\u001b[0;31mKeyboardInterrupt\u001b[0m                         Traceback (most recent call last)",
            "\u001b[0;32m<ipython-input-15-bc7c44bc1813>\u001b[0m in \u001b[0;36m<module>\u001b[0;34m()\u001b[0m\n\u001b[1;32m     18\u001b[0m \u001b[0;32mfor\u001b[0m \u001b[0m_i\u001b[0m \u001b[0;32min\u001b[0m \u001b[0mrange\u001b[0m\u001b[0;34m(\u001b[0m\u001b[0mn_experiments\u001b[0m\u001b[0;34m)\u001b[0m\u001b[0;34m:\u001b[0m\u001b[0;34m\u001b[0m\u001b[0;34m\u001b[0m\u001b[0m\n\u001b[1;32m     19\u001b[0m   \u001b[0mprint\u001b[0m\u001b[0;34m(\u001b[0m\u001b[0;34m\"Experiment: {}\"\u001b[0m\u001b[0;34m.\u001b[0m\u001b[0mformat\u001b[0m\u001b[0;34m(\u001b[0m\u001b[0m_i\u001b[0m\u001b[0;34m+\u001b[0m\u001b[0;36m1\u001b[0m\u001b[0;34m)\u001b[0m\u001b[0;34m)\u001b[0m\u001b[0;34m\u001b[0m\u001b[0;34m\u001b[0m\u001b[0m\n\u001b[0;32m---> 20\u001b[0;31m   \u001b[0mreward\u001b[0m\u001b[0;34m,\u001b[0m\u001b[0mloss\u001b[0m \u001b[0;34m=\u001b[0m \u001b[0magent\u001b[0m\u001b[0;34m.\u001b[0m\u001b[0mtrain\u001b[0m\u001b[0;34m(\u001b[0m\u001b[0mnum_episodes\u001b[0m\u001b[0;34m=\u001b[0m\u001b[0;36m2500\u001b[0m\u001b[0;34m)\u001b[0m\u001b[0;34m\u001b[0m\u001b[0;34m\u001b[0m\u001b[0m\n\u001b[0m\u001b[1;32m     21\u001b[0m   \u001b[0mprint\u001b[0m \u001b[0;34m(\u001b[0m\u001b[0;34m\" Loss: {} Reward: {} \\n\"\u001b[0m\u001b[0;34m.\u001b[0m\u001b[0mformat\u001b[0m\u001b[0;34m(\u001b[0m\u001b[0mreward\u001b[0m\u001b[0;34m,\u001b[0m \u001b[0mloss\u001b[0m\u001b[0;34m)\u001b[0m\u001b[0;34m)\u001b[0m\u001b[0;34m\u001b[0m\u001b[0;34m\u001b[0m\u001b[0m\n\u001b[1;32m     22\u001b[0m   \u001b[0mloss\u001b[0m\u001b[0;34m=\u001b[0m\u001b[0;34m[\u001b[0m\u001b[0;34m]\u001b[0m\u001b[0;34m\u001b[0m\u001b[0;34m\u001b[0m\u001b[0m\n",
            "\u001b[0;32m<ipython-input-14-c14e1dead64e>\u001b[0m in \u001b[0;36mtrain\u001b[0;34m(self, num_episodes)\u001b[0m\n\u001b[1;32m    207\u001b[0m                 \u001b[0;32mbreak\u001b[0m\u001b[0;34m\u001b[0m\u001b[0;34m\u001b[0m\u001b[0m\n\u001b[1;32m    208\u001b[0m         \u001b[0;32mif\u001b[0m \u001b[0mi_episode\u001b[0m\u001b[0;34m%\u001b[0m\u001b[0mself\u001b[0m\u001b[0;34m.\u001b[0m\u001b[0mbatch_size\u001b[0m\u001b[0;34m==\u001b[0m\u001b[0;36m0\u001b[0m\u001b[0;34m:\u001b[0m \u001b[0;31m#UPDATE GRADIENTSSSS AND VAL THE AGENT WITH ONE EPISODE\u001b[0m\u001b[0;34m\u001b[0m\u001b[0;34m\u001b[0m\u001b[0m\n\u001b[0;32m--> 209\u001b[0;31m             \u001b[0mep_rew\u001b[0m\u001b[0;34m,\u001b[0m\u001b[0mloss\u001b[0m\u001b[0;34m=\u001b[0m\u001b[0mself\u001b[0m\u001b[0;34m.\u001b[0m\u001b[0m_compute_gradients_torch\u001b[0m\u001b[0;34m(\u001b[0m\u001b[0mrewards\u001b[0m\u001b[0;34m,\u001b[0m \u001b[0mlog_probs\u001b[0m\u001b[0;34m,\u001b[0m \u001b[0mentropies\u001b[0m\u001b[0;34m,\u001b[0m \u001b[0mi_episode\u001b[0m\u001b[0;34m+\u001b[0m\u001b[0;36m1\u001b[0m\u001b[0;34m)\u001b[0m\u001b[0;34m\u001b[0m\u001b[0;34m\u001b[0m\u001b[0m\n\u001b[0m\u001b[1;32m    210\u001b[0m \u001b[0;34m\u001b[0m\u001b[0m\n\u001b[1;32m    211\u001b[0m             \u001b[0mrew_hist\u001b[0m\u001b[0;34m.\u001b[0m\u001b[0mappend\u001b[0m\u001b[0;34m(\u001b[0m\u001b[0mep_rew\u001b[0m\u001b[0;34m)\u001b[0m\u001b[0;34m\u001b[0m\u001b[0;34m\u001b[0m\u001b[0m\n",
            "\u001b[0;32m<ipython-input-14-c14e1dead64e>\u001b[0m in \u001b[0;36m_compute_gradients_torch\u001b[0;34m(self, rewards, log_probs, entropies, n_ep)\u001b[0m\n\u001b[1;32m    159\u001b[0m           \u001b[0mloss\u001b[0m \u001b[0;34m=\u001b[0m \u001b[0mloss\u001b[0m \u001b[0;34m-\u001b[0m \u001b[0;34m(\u001b[0m\u001b[0mlog_probs\u001b[0m\u001b[0;34m[\u001b[0m\u001b[0mi\u001b[0m\u001b[0;34m]\u001b[0m\u001b[0;34m*\u001b[0m\u001b[0;34m(\u001b[0m\u001b[0mVariable\u001b[0m\u001b[0;34m(\u001b[0m\u001b[0mR\u001b[0m\u001b[0;34m)\u001b[0m\u001b[0;34m.\u001b[0m\u001b[0mexpand_as\u001b[0m\u001b[0;34m(\u001b[0m\u001b[0mlog_probs\u001b[0m\u001b[0;34m[\u001b[0m\u001b[0mi\u001b[0m\u001b[0;34m]\u001b[0m\u001b[0;34m)\u001b[0m\u001b[0;34m)\u001b[0m\u001b[0;34m)\u001b[0m\u001b[0;34m.\u001b[0m\u001b[0msum\u001b[0m\u001b[0;34m(\u001b[0m\u001b[0;34m)\u001b[0m \u001b[0;34m-\u001b[0m \u001b[0ma\u001b[0m\u001b[0;34m*\u001b[0m\u001b[0mentropies\u001b[0m\u001b[0;34m[\u001b[0m\u001b[0mi\u001b[0m\u001b[0;34m]\u001b[0m\u001b[0;34m.\u001b[0m\u001b[0msum\u001b[0m\u001b[0;34m(\u001b[0m\u001b[0;34m)\u001b[0m\u001b[0;34m\u001b[0m\u001b[0;34m\u001b[0m\u001b[0m\n\u001b[1;32m    160\u001b[0m         \u001b[0;32melse\u001b[0m\u001b[0;34m:\u001b[0m\u001b[0;34m\u001b[0m\u001b[0;34m\u001b[0m\u001b[0m\n\u001b[0;32m--> 161\u001b[0;31m           \u001b[0mloss\u001b[0m \u001b[0;34m=\u001b[0m \u001b[0mloss\u001b[0m \u001b[0;34m-\u001b[0m \u001b[0;34m(\u001b[0m\u001b[0mlog_probs\u001b[0m\u001b[0;34m[\u001b[0m\u001b[0mi\u001b[0m\u001b[0;34m]\u001b[0m\u001b[0;34m*\u001b[0m\u001b[0;34m(\u001b[0m\u001b[0mVariable\u001b[0m\u001b[0;34m(\u001b[0m\u001b[0mR\u001b[0m\u001b[0;34m)\u001b[0m\u001b[0;34m.\u001b[0m\u001b[0mexpand_as\u001b[0m\u001b[0;34m(\u001b[0m\u001b[0mlog_probs\u001b[0m\u001b[0;34m[\u001b[0m\u001b[0mi\u001b[0m\u001b[0;34m]\u001b[0m\u001b[0;34m)\u001b[0m\u001b[0;34m)\u001b[0m\u001b[0;34m)\u001b[0m\u001b[0;34m.\u001b[0m\u001b[0msum\u001b[0m\u001b[0;34m(\u001b[0m\u001b[0;34m)\u001b[0m\u001b[0;34m\u001b[0m\u001b[0;34m\u001b[0m\u001b[0m\n\u001b[0m\u001b[1;32m    162\u001b[0m \u001b[0;34m\u001b[0m\u001b[0m\n\u001b[1;32m    163\u001b[0m \u001b[0;34m\u001b[0m\u001b[0m\n",
            "\u001b[0;31mKeyboardInterrupt\u001b[0m: "
          ]
        }
      ]
    },
    {
      "metadata": {
        "id": "vQm13wRFperH",
        "colab_type": "code",
        "outputId": "6e49a46a-5f76-4881-d64d-4d5fb19ad5ba",
        "colab": {
          "base_uri": "https://localhost:8080/",
          "height": 228
        }
      },
      "cell_type": "code",
      "source": [
        "#!sudo pip3 install PyOpenGL\n",
        "#!sudo pip3 install piglet\n",
        "#!sudo pip3 install pyglet\n",
        "\n",
        "\n",
        "class CartPoleConfig:\n",
        "  env = \"CartPole-v0\"\n",
        "  seed = 0  # for reproducibility0\n",
        "  gamma = 0.99  # discount factor for future rewards\n",
        "  batch_size = 16  # in trajectories (episodes)\n",
        "  learning_rate = 0.0001\n",
        "  use_images = True\n",
        "  \n",
        "\n",
        "entropic_agent = Agent(CartPoleConfig, use_entropies=True)\n",
        "agent = Agent(CartPoleConfig, use_entropies=False)\n",
        "\n",
        "n_experiments = 1\n",
        "entropic_rewards=[]\n",
        "normal_rewards= []\n",
        "# Training on 3000 episodes takes around 3:30min on CPU\n",
        "for _i in range(n_experiments):\n",
        "  print(\"Experiment: {}\".format(_i+1))\n",
        "  reward,loss = agent.train(num_episodes=1)\n",
        "  print (\" Loss: {} Reward: {} \\n\".format(reward, loss))\n",
        "  \n",
        "  normal_rewards.append(reward)\n",
        "  reward,loss = entropic_agent.train(num_episodes=3500)\n",
        "  entropic_rewards.append(reward)\n",
        "  #upss, dont forget to go back to dumb agent!!!\n",
        "  entropic_agent = Agent(CartPoleConfig, use_entropies=True)\n",
        "  agent = Agent(CartPoleConfig, use_entropies=False)\n",
        "  print(\"Entropic Loss: {} Reward: {} \\n\".format(reward, loss))\n",
        "  CartPoleConfig.seed+=1\n",
        "  break\n"
      ],
      "execution_count": 9,
      "outputs": [
        {
          "output_type": "stream",
          "text": [
            "/usr/local/lib/python3.6/dist-packages/gym/envs/registration.py:14: PkgResourcesDeprecationWarning: Parameters to load are deprecated.  Call .resolve and .require separately.\n",
            "  result = entry_point.load(False)\n"
          ],
          "name": "stderr"
        },
        {
          "output_type": "stream",
          "text": [
            "Experiment: 1\n"
          ],
          "name": "stdout"
        },
        {
          "output_type": "stream",
          "text": [
            "/usr/local/lib/python3.6/dist-packages/ipykernel_launcher.py:58: UserWarning: Implicit dimension choice for softmax has been deprecated. Change the call to include dim=X as an argument.\n"
          ],
          "name": "stderr"
        },
        {
          "output_type": "stream",
          "text": [
            "\rTrain rew avg:  1.3125  val:  20.0 Episode:  0                        "
          ],
          "name": "stdout"
        },
        {
          "output_type": "stream",
          "text": [
            "/usr/local/lib/python3.6/dist-packages/ipykernel_launcher.py:169: UserWarning: torch.nn.utils.clip_grad_norm is now deprecated in favor of torch.nn.utils.clip_grad_norm_.\n"
          ],
          "name": "stderr"
        },
        {
          "output_type": "stream",
          "text": [
            " Loss: [20.0] Reward: [tensor(145.4342, grad_fn=<ThSubBackward>)] \n",
            "\n",
            "Train rew avg:  25.5  val:  17.0 Episode:  3488                        Entropic Loss: [37.0, 40.0, 38.0, 38.0, 23.0, 18.0, 21.0, 65.0, 43.0, 15.0, 16.0, 14.0, 15.0, 19.0, 25.0, 24.0, 11.0, 77.0, 17.0, 21.0, 48.0, 11.0, 18.0, 26.0, 17.0, 19.0, 20.0, 32.0, 11.0, 16.0, 22.0, 11.0, 12.0, 14.0, 17.0, 29.0, 10.0, 23.0, 22.0, 35.0, 16.0, 81.0, 13.0, 21.0, 14.0, 35.0, 11.0, 14.0, 42.0, 46.0, 34.0, 12.0, 30.0, 38.0, 25.0, 10.0, 25.0, 29.0, 11.0, 17.0, 28.0, 56.0, 24.0, 11.0, 14.0, 11.0, 17.0, 22.0, 62.0, 16.0, 21.0, 15.0, 25.0, 32.0, 23.0, 27.0, 31.0, 25.0, 32.0, 35.0, 16.0, 20.0, 24.0, 16.0, 11.0, 30.0, 29.0, 11.0, 33.0, 22.0, 25.0, 11.0, 13.0, 27.0, 28.0, 23.0, 25.0, 10.0, 22.0, 10.0, 20.0, 11.0, 15.0, 18.0, 24.0, 26.0, 14.0, 18.0, 30.0, 9.0, 14.0, 12.0, 34.0, 13.0, 31.0, 16.0, 18.0, 26.0, 17.0, 21.0, 63.0, 25.0, 32.0, 14.0, 51.0, 13.0, 28.0, 36.0, 13.0, 18.0, 65.0, 13.0, 18.0, 25.0, 14.0, 20.0, 21.0, 11.0, 17.0, 14.0, 11.0, 22.0, 21.0, 12.0, 20.0, 15.0, 22.0, 24.0, 17.0, 18.0, 18.0, 12.0, 23.0, 8.0, 18.0, 13.0, 23.0, 17.0, 38.0, 50.0, 23.0, 10.0, 26.0, 10.0, 14.0, 11.0, 25.0, 14.0, 18.0, 47.0, 21.0, 22.0, 12.0, 16.0, 43.0, 19.0, 20.0, 11.0, 49.0, 26.0, 17.0, 12.0, 13.0, 18.0, 23.0, 16.0, 28.0, 12.0, 19.0, 18.0, 16.0, 22.0, 9.0, 14.0, 33.0, 14.0, 25.0, 32.0, 13.0, 42.0, 23.0, 20.0, 26.0, 21.0, 12.0, 14.0, 14.0, 12.0, 17.0, 23.0, 11.0, 15.0, 18.0, 18.0, 12.0, 15.0, 9.0, 10.0, 17.0] Reward: [tensor(39.2640, grad_fn=<ThSubBackward>), tensor(17149.5469, grad_fn=<ThSubBackward>), tensor(18797.0957, grad_fn=<ThSubBackward>), tensor(13633.1670, grad_fn=<ThSubBackward>), tensor(18928.3750, grad_fn=<ThSubBackward>), tensor(26559.5605, grad_fn=<ThSubBackward>), tensor(17557.9512, grad_fn=<ThSubBackward>), tensor(18991.2090, grad_fn=<ThSubBackward>), tensor(18230.2852, grad_fn=<ThSubBackward>), tensor(19441.0879, grad_fn=<ThSubBackward>), tensor(14208.4502, grad_fn=<ThSubBackward>), tensor(22336.0156, grad_fn=<ThSubBackward>), tensor(22770.2402, grad_fn=<ThSubBackward>), tensor(14202.4834, grad_fn=<ThSubBackward>), tensor(22034.4160, grad_fn=<ThSubBackward>), tensor(18720.7676, grad_fn=<ThSubBackward>), tensor(18409.8320, grad_fn=<ThSubBackward>), tensor(14981.4326, grad_fn=<ThSubBackward>), tensor(20915.3066, grad_fn=<ThSubBackward>), tensor(18913.1172, grad_fn=<ThSubBackward>), tensor(22117.9824, grad_fn=<ThSubBackward>), tensor(17513.6680, grad_fn=<ThSubBackward>), tensor(16241.5576, grad_fn=<ThSubBackward>), tensor(17740.7207, grad_fn=<ThSubBackward>), tensor(26893.9141, grad_fn=<ThSubBackward>), tensor(18890.4277, grad_fn=<ThSubBackward>), tensor(14699.0586, grad_fn=<ThSubBackward>), tensor(16236.4600, grad_fn=<ThSubBackward>), tensor(18855.3672, grad_fn=<ThSubBackward>), tensor(22826.6328, grad_fn=<ThSubBackward>), tensor(20011.0859, grad_fn=<ThSubBackward>), tensor(13041.2080, grad_fn=<ThSubBackward>), tensor(22654.8008, grad_fn=<ThSubBackward>), tensor(21409.3574, grad_fn=<ThSubBackward>), tensor(22946.3633, grad_fn=<ThSubBackward>), tensor(14490.6289, grad_fn=<ThSubBackward>), tensor(23236.7109, grad_fn=<ThSubBackward>), tensor(17629.9297, grad_fn=<ThSubBackward>), tensor(14592.4365, grad_fn=<ThSubBackward>), tensor(21346.3887, grad_fn=<ThSubBackward>), tensor(13514.6201, grad_fn=<ThSubBackward>), tensor(17407.6152, grad_fn=<ThSubBackward>), tensor(20374.8965, grad_fn=<ThSubBackward>), tensor(17405.0410, grad_fn=<ThSubBackward>), tensor(22164.2559, grad_fn=<ThSubBackward>), tensor(19451.1230, grad_fn=<ThSubBackward>), tensor(15834.5439, grad_fn=<ThSubBackward>), tensor(19447.9941, grad_fn=<ThSubBackward>), tensor(17871.6914, grad_fn=<ThSubBackward>), tensor(17782.0781, grad_fn=<ThSubBackward>), tensor(19729.5234, grad_fn=<ThSubBackward>), tensor(28076.9883, grad_fn=<ThSubBackward>), tensor(14109.6494, grad_fn=<ThSubBackward>), tensor(15308.0254, grad_fn=<ThSubBackward>), tensor(20483.0332, grad_fn=<ThSubBackward>), tensor(14686.4150, grad_fn=<ThSubBackward>), tensor(21786.3086, grad_fn=<ThSubBackward>), tensor(23175.1660, grad_fn=<ThSubBackward>), tensor(16382.6426, grad_fn=<ThSubBackward>), tensor(20188.7637, grad_fn=<ThSubBackward>), tensor(21488.6504, grad_fn=<ThSubBackward>), tensor(18302.3242, grad_fn=<ThSubBackward>), tensor(22003.8945, grad_fn=<ThSubBackward>), tensor(16934.7930, grad_fn=<ThSubBackward>), tensor(26125.1504, grad_fn=<ThSubBackward>), tensor(17714.7578, grad_fn=<ThSubBackward>), tensor(21710.4141, grad_fn=<ThSubBackward>), tensor(17592.4590, grad_fn=<ThSubBackward>), tensor(25185.8965, grad_fn=<ThSubBackward>), tensor(16765.2363, grad_fn=<ThSubBackward>), tensor(19977.0391, grad_fn=<ThSubBackward>), tensor(17904.4375, grad_fn=<ThSubBackward>), tensor(16134.1816, grad_fn=<ThSubBackward>), tensor(15689.5391, grad_fn=<ThSubBackward>), tensor(16408.4102, grad_fn=<ThSubBackward>), tensor(14805.8398, grad_fn=<ThSubBackward>), tensor(19892.9805, grad_fn=<ThSubBackward>), tensor(21711.9902, grad_fn=<ThSubBackward>), tensor(22647.9453, grad_fn=<ThSubBackward>), tensor(22349.3145, grad_fn=<ThSubBackward>), tensor(17283.6582, grad_fn=<ThSubBackward>), tensor(15715.6025, grad_fn=<ThSubBackward>), tensor(15953.8193, grad_fn=<ThSubBackward>), tensor(14272.8818, grad_fn=<ThSubBackward>), tensor(22804.3652, grad_fn=<ThSubBackward>), tensor(21325.2188, grad_fn=<ThSubBackward>), tensor(14871.0674, grad_fn=<ThSubBackward>), tensor(15810.2500, grad_fn=<ThSubBackward>), tensor(19595.8379, grad_fn=<ThSubBackward>), tensor(12868.9561, grad_fn=<ThSubBackward>), tensor(21458.6426, grad_fn=<ThSubBackward>), tensor(17187.9414, grad_fn=<ThSubBackward>), tensor(13901.3164, grad_fn=<ThSubBackward>), tensor(15465.6406, grad_fn=<ThSubBackward>), tensor(19885.7715, grad_fn=<ThSubBackward>), tensor(19771.2363, grad_fn=<ThSubBackward>), tensor(17308.8262, grad_fn=<ThSubBackward>), tensor(13913.5879, grad_fn=<ThSubBackward>), tensor(16685.5703, grad_fn=<ThSubBackward>), tensor(16232.1465, grad_fn=<ThSubBackward>), tensor(10946.1250, grad_fn=<ThSubBackward>), tensor(26218.8770, grad_fn=<ThSubBackward>), tensor(13214.6982, grad_fn=<ThSubBackward>), tensor(18277.7578, grad_fn=<ThSubBackward>), tensor(19733.0879, grad_fn=<ThSubBackward>), tensor(19292.4609, grad_fn=<ThSubBackward>), tensor(23309.0488, grad_fn=<ThSubBackward>), tensor(18135.0176, grad_fn=<ThSubBackward>), tensor(19152.7012, grad_fn=<ThSubBackward>), tensor(16048.1660, grad_fn=<ThSubBackward>), tensor(12370.7500, grad_fn=<ThSubBackward>), tensor(18451.1562, grad_fn=<ThSubBackward>), tensor(14101.6436, grad_fn=<ThSubBackward>), tensor(19371.8652, grad_fn=<ThSubBackward>), tensor(15987.8750, grad_fn=<ThSubBackward>), tensor(18782.7070, grad_fn=<ThSubBackward>), tensor(12700.2021, grad_fn=<ThSubBackward>), tensor(15812.0732, grad_fn=<ThSubBackward>), tensor(16233.1338, grad_fn=<ThSubBackward>), tensor(19885.0078, grad_fn=<ThSubBackward>), tensor(20032.5625, grad_fn=<ThSubBackward>), tensor(15512.1611, grad_fn=<ThSubBackward>), tensor(24668.2324, grad_fn=<ThSubBackward>), tensor(12872.5762, grad_fn=<ThSubBackward>), tensor(17718.8418, grad_fn=<ThSubBackward>), tensor(14371.3340, grad_fn=<ThSubBackward>), tensor(18521.0078, grad_fn=<ThSubBackward>), tensor(16151.8125, grad_fn=<ThSubBackward>), tensor(14016.8398, grad_fn=<ThSubBackward>), tensor(17739.7617, grad_fn=<ThSubBackward>), tensor(20855.9824, grad_fn=<ThSubBackward>), tensor(15418.6689, grad_fn=<ThSubBackward>), tensor(21991.8477, grad_fn=<ThSubBackward>), tensor(22639.0215, grad_fn=<ThSubBackward>), tensor(20378.4922, grad_fn=<ThSubBackward>), tensor(21869.3242, grad_fn=<ThSubBackward>), tensor(20286.3477, grad_fn=<ThSubBackward>), tensor(19667.9414, grad_fn=<ThSubBackward>), tensor(20168.8516, grad_fn=<ThSubBackward>), tensor(11679.0283, grad_fn=<ThSubBackward>), tensor(15602.7158, grad_fn=<ThSubBackward>), tensor(14127.9961, grad_fn=<ThSubBackward>), tensor(17264.4883, grad_fn=<ThSubBackward>), tensor(15702.2412, grad_fn=<ThSubBackward>), tensor(14305.0908, grad_fn=<ThSubBackward>), tensor(15642.7900, grad_fn=<ThSubBackward>), tensor(15214.0488, grad_fn=<ThSubBackward>), tensor(21342.1699, grad_fn=<ThSubBackward>), tensor(15840.3760, grad_fn=<ThSubBackward>), tensor(14875.2754, grad_fn=<ThSubBackward>), tensor(17386.4141, grad_fn=<ThSubBackward>), tensor(17684.5977, grad_fn=<ThSubBackward>), tensor(16376.9092, grad_fn=<ThSubBackward>), tensor(15426.8076, grad_fn=<ThSubBackward>), tensor(22105.0117, grad_fn=<ThSubBackward>), tensor(19466.3008, grad_fn=<ThSubBackward>), tensor(12273.2695, grad_fn=<ThSubBackward>), tensor(13361.7617, grad_fn=<ThSubBackward>), tensor(14681.0449, grad_fn=<ThSubBackward>), tensor(15779.0693, grad_fn=<ThSubBackward>), tensor(16010.4395, grad_fn=<ThSubBackward>), tensor(17317.8672, grad_fn=<ThSubBackward>), tensor(18149.4570, grad_fn=<ThSubBackward>), tensor(14676.6641, grad_fn=<ThSubBackward>), tensor(15229.2764, grad_fn=<ThSubBackward>), tensor(13849.3369, grad_fn=<ThSubBackward>), tensor(14418.9639, grad_fn=<ThSubBackward>), tensor(16766.7617, grad_fn=<ThSubBackward>), tensor(10195.1445, grad_fn=<ThSubBackward>), tensor(17483.3672, grad_fn=<ThSubBackward>), tensor(15133.3115, grad_fn=<ThSubBackward>), tensor(16650.5137, grad_fn=<ThSubBackward>), tensor(16761.6797, grad_fn=<ThSubBackward>), tensor(25042.1445, grad_fn=<ThSubBackward>), tensor(15491.2109, grad_fn=<ThSubBackward>), tensor(12256.0869, grad_fn=<ThSubBackward>), tensor(17911.2305, grad_fn=<ThSubBackward>), tensor(19382.0234, grad_fn=<ThSubBackward>), tensor(20217.6191, grad_fn=<ThSubBackward>), tensor(18322.7734, grad_fn=<ThSubBackward>), tensor(19129.5117, grad_fn=<ThSubBackward>), tensor(22257.7070, grad_fn=<ThSubBackward>), tensor(15891.7061, grad_fn=<ThSubBackward>), tensor(18028.4121, grad_fn=<ThSubBackward>), tensor(20920.3301, grad_fn=<ThSubBackward>), tensor(19594.9727, grad_fn=<ThSubBackward>), tensor(18782.0957, grad_fn=<ThSubBackward>), tensor(13340.7168, grad_fn=<ThSubBackward>), tensor(17007.6699, grad_fn=<ThSubBackward>), tensor(15233.9434, grad_fn=<ThSubBackward>), tensor(19277.5059, grad_fn=<ThSubBackward>), tensor(17875.5977, grad_fn=<ThSubBackward>), tensor(16837.4941, grad_fn=<ThSubBackward>), tensor(24934.3574, grad_fn=<ThSubBackward>), tensor(18933.8145, grad_fn=<ThSubBackward>), tensor(15702.8145, grad_fn=<ThSubBackward>), tensor(15980.1875, grad_fn=<ThSubBackward>), tensor(21987.6641, grad_fn=<ThSubBackward>), tensor(18602.2363, grad_fn=<ThSubBackward>), tensor(14518.9941, grad_fn=<ThSubBackward>), tensor(18733.1562, grad_fn=<ThSubBackward>), tensor(15851.2842, grad_fn=<ThSubBackward>), tensor(12280.2119, grad_fn=<ThSubBackward>), tensor(17193.9902, grad_fn=<ThSubBackward>), tensor(16868.9668, grad_fn=<ThSubBackward>), tensor(18477.4805, grad_fn=<ThSubBackward>), tensor(15081.2793, grad_fn=<ThSubBackward>), tensor(20505.5039, grad_fn=<ThSubBackward>), tensor(16251.0137, grad_fn=<ThSubBackward>), tensor(15249.2383, grad_fn=<ThSubBackward>), tensor(13666.1299, grad_fn=<ThSubBackward>), tensor(15693.5439, grad_fn=<ThSubBackward>), tensor(19546.5156, grad_fn=<ThSubBackward>), tensor(18558.4121, grad_fn=<ThSubBackward>), tensor(17490.2363, grad_fn=<ThSubBackward>), tensor(14614.2627, grad_fn=<ThSubBackward>), tensor(16287.6797, grad_fn=<ThSubBackward>), tensor(16490.6270, grad_fn=<ThSubBackward>), tensor(21598.8926, grad_fn=<ThSubBackward>)] \n",
            "\n"
          ],
          "name": "stdout"
        },
        {
          "output_type": "stream",
          "text": [
            "/usr/local/lib/python3.6/dist-packages/gym/envs/registration.py:14: PkgResourcesDeprecationWarning: Parameters to load are deprecated.  Call .resolve and .require separately.\n",
            "  result = entry_point.load(False)\n"
          ],
          "name": "stderr"
        }
      ]
    },
    {
      "metadata": {
        "id": "vg98qwN9ioiZ",
        "colab_type": "code",
        "outputId": "22e348f6-0c92-43c9-f601-ce8d8d00c70d",
        "colab": {
          "base_uri": "https://localhost:8080/",
          "height": 475
        }
      },
      "cell_type": "code",
      "source": [
        "#upss importing her\n",
        "import pandas as pd\n",
        "def ewma(x, alpha):\n",
        "    \"\"\"\n",
        "    Exponential Weighted Moving Average.\n",
        "    Source: https://stackoverflow.com/a/42905202\n",
        "    \"\"\"\n",
        "    x = np.array(x)\n",
        "    n = x.size\n",
        "    w0 = np.ones(shape=(n,n)) * (1-alpha) \n",
        "    p = np.vstack([np.arange(i,i-n,-1) for i in range(n)])\n",
        "    w = np.tril(w0**p,0)\n",
        "    return np.dot(w, x[::np.newaxis]) / w.sum(axis=1)\n",
        "\n",
        "\n",
        "# Plot the reward, with and without EWMA smoothing\n",
        "f = plt.figure(figsize=(20,6))\n",
        "\n",
        "'''\n",
        "window = int(episodes/20)\n",
        "\n",
        "fig, ((ax1), (ax2)) = plt.subplots(2, 1, sharey=True, figsize=[9,9]);\n",
        "rolling_mean = pd.Series(policy.reward_history).rolling(window).mean()\n",
        "std = pd.Series(policy.reward_history).rolling(window).std()\n",
        "ax1.plot(rolling_mean)\n",
        "ax1.fill_between(range(len(policy.reward_history)),rolling_mean-std, rolling_mean+std, color='orange', alpha=0.2)\n",
        "'''\n",
        "\n",
        "#avg rewards\n",
        "\n",
        "\n",
        "#Change name, if u run it twiche u will loose ut rewards...\n",
        "normal_rewards_a=np.mean(np.array(normal_rewards),axis=0)\n",
        "entropic_rewards_a=np.mean(np.array(entropic_rewards),axis=0)\n",
        "\n",
        "window = int(normal_rewards_a.shape[0]/20)\n",
        "print(np.array(normal_rewards_a).shape)\n",
        "\n",
        "entropic_std = pd.Series(entropic_rewards_a).rolling(window).std()\n",
        "normal_std = pd.Series(normal_rewards_a).rolling(window).std()\n",
        "\n",
        "axarr = plt.subplot(1,2,1)\n",
        "#axarr.plot(ewma(normal_rewards_a, alpha=1.),color='blue')\n",
        "axarr.plot(ewma(entropic_rewards_a, alpha=1.),color='red')\n",
        "\n",
        "axarr.set_title('(Raw) Cumulative Reward')\n",
        "axarr.set_ylabel('Cumulative reward')\n",
        "axarr.set_xlabel('SGD steps')\n",
        "axarr.legend(['Image agent'])\n",
        "axarr = plt.subplot(1,2,2)\n",
        "axarr.set_title('Smoothed Cumulative Reward')\n",
        "#axarr.plot(ewma(normal_rewards_a, alpha=0.1),color='blue')\n",
        "axarr.plot(ewma(entropic_rewards_a, alpha=0.1),color='red')\n",
        "axarr.fill_between(range(normal_rewards_a.shape[0]),normal_rewards_a-normal_std, normal_rewards_a+normal_std, color='blue', alpha=0.2)\n",
        "axarr.fill_between(range(normal_rewards_a.shape[0]),entropic_rewards_a-entropic_std, entropic_rewards_a+entropic_std, color='red', alpha=0.2)\n",
        "axarr.legend(['Image agent'])\n",
        "\n",
        "axarr.set_ylabel('Cumulative reward')\n",
        "axarr.set_xlabel('SGD steps')\n",
        "\n",
        "plt.show()"
      ],
      "execution_count": 16,
      "outputs": [
        {
          "output_type": "stream",
          "text": [
            "(1,)\n"
          ],
          "name": "stdout"
        },
        {
          "output_type": "stream",
          "text": [
            "/usr/local/lib/python3.6/dist-packages/ipykernel_launcher.py:11: RuntimeWarning: divide by zero encountered in power\n",
            "  # This is added back by InteractiveShellApp.init_path()\n"
          ],
          "name": "stderr"
        },
        {
          "output_type": "display_data",
          "data": {
            "image/png": "[encoded data removed]",
            "text/plain": [
              "<matplotlib.figure.Figure at 0x7f1ffcc84828>"
            ]
          },
          "metadata": {
            "tags": []
          }
        }
      ]
    },
    {
      "metadata": {
        "id": "W7JZPOxE_Vug",
        "colab_type": "code",
        "colab": {}
      },
      "cell_type": "code",
      "source": [
        "# Plot the reward, with and without EWMA smoothing\n",
        "f = plt.figure(figsize=(20,6))\n",
        "print(len(normal_rewards))\n",
        "print(normal_rewards[0]==normal_rewards[3])\n",
        "axarr = plt.subplot(1,2,1)\n",
        "for _i in range(len(normal_rewards)):\n",
        "  axarr.plot(ewma(normal_rewards[_i], alpha=1.))\n",
        "\n",
        "axarr.set_title('(Raw) Cumulative Reward')\n",
        "axarr.set_ylabel('Cumulative reward')\n",
        "axarr.set_xlabel('SGD steps')\n",
        "\n",
        "axarr = plt.subplot(1,2,2)\n",
        "axarr.set_title('Smoothed Cumulative Reward')\n",
        "for _i in range(len(normal_rewards)):\n",
        "  axarr.plot(ewma(normal_rewards[_i], alpha=0.1))\n",
        "\n",
        "axarr.set_ylabel('Cumulative reward')\n",
        "axarr.set_xlabel('SGD steps')\n",
        "\n",
        "plt.show()"
      ],
      "execution_count": 0,
      "outputs": []
    },
    {
      "metadata": {
        "id": "7n5NQpQyoBbt",
        "colab_type": "code",
        "colab": {}
      },
      "cell_type": "code",
      "source": [
        "# Let's visualize our trained policy\n",
        "rews, frames = entropic_agent.play(render=True)\n",
        "print(\"Cumulative reward:\", np.sum(rews))\n",
        "\n",
        "plt.figure(figsize=(frames[0].shape[1] / 72.0, frames[0].shape[0] / 72.0), \n",
        "           dpi=72)\n",
        "patch = plt.imshow(frames[0])\n",
        "plt.axis('off')\n",
        "animate = lambda i: patch.set_data(frames[i])\n",
        "ani = matplotlib.animation.FuncAnimation(plt.gcf(), animate, frames=len(frames),\n",
        "                                         interval=50)\n",
        "HTML(ani.to_jshtml())"
      ],
      "execution_count": 0,
      "outputs": []
    },
    {
      "metadata": {
        "id": "SvFfiKafCgsQ",
        "colab_type": "code",
        "colab": {}
      },
      "cell_type": "code",
      "source": [
        "\n",
        "\n",
        "probs = torch.Tensor([[0.1 ,0.9]]) \n",
        "print(probs)\n",
        "\n",
        "action = probs.multinomial(num_samples=1).data\n",
        "print(action)\n",
        "\n",
        "prob = probs[:, action[0,0]].view(1, -1)\n",
        "print(prob)\n",
        "\n",
        "log_prob = prob.log()\n",
        "print(log_prob)\n",
        "\n",
        "entropy = - (probs*probs.log()).sum()\n",
        "print(entropy)\n"
      ],
      "execution_count": 0,
      "outputs": []
    }
  ]
}