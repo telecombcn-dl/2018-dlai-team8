{
  "nbformat": 4,
  "nbformat_minor": 0,
  "metadata": {
    "colab": {
      "name": "Copy of DeepPolicyGradientAgent.ipynb",
      "version": "0.3.2",
      "provenance": [],
      "collapsed_sections": []
    },
    "kernelspec": {
      "name": "python3",
      "display_name": "Python 3"
    },
    "accelerator": "GPU"
  },
  "cells": [
    {
      "metadata": {
        "id": "E1xEu0vh3bjA",
        "colab_type": "text"
      },
      "cell_type": "markdown",
      "source": [
        "# Basic Policy Gradients (REINFORCE) example in PyTorch\n",
        "\n",
        "Adaptation of lab 6 by Víctor Campos to PyTorch"
      ]
    },
    {
      "metadata": {
        "id": "li_2jpmJ3ycI",
        "colab_type": "text"
      },
      "cell_type": "markdown",
      "source": [
        "## Installing dependences\n",
        "\n"
      ]
    },
    {
      "metadata": {
        "id": "CJnFUY6Y35Ln",
        "colab_type": "code",
        "outputId": "e5f25a58-e1c7-41cd-8a49-c65ed0eeb755",
        "colab": {
          "base_uri": "https://localhost:8080/",
          "height": 66
        }
      },
      "cell_type": "code",
      "source": [
        "!apt-get update > /dev/null\n",
        "!apt-get install -y python-numpy python-dev cmake zlib1g-dev libjpeg-dev xvfb ffmpeg xorg-dev python-opengl libboost-all-dev libsdl2-dev swig > /dev/null\n",
        "!pip install gym pyvirtualdisplay > /dev/null\n"
      ],
      "execution_count": 0,
      "outputs": [
        {
          "output_type": "stream",
          "text": [
            "Extracting templates from packages: 100%\n"
          ],
          "name": "stdout"
        }
      ]
    },
    {
      "metadata": {
        "id": "D3_ZIa8o5tVO",
        "colab_type": "text"
      },
      "cell_type": "markdown",
      "source": [
        "## Torch + torchvision installation (Py3.6)"
      ]
    },
    {
      "metadata": {
        "id": "rSHEuxRA4gWK",
        "colab_type": "code",
        "outputId": "e66de10a-0a2d-4205-f3fb-fbf564ab9e3a",
        "colab": {
          "base_uri": "https://localhost:8080/",
          "height": 212
        }
      },
      "cell_type": "code",
      "source": [
        "!pip3 install http://download.pytorch.org/whl/cu80/torch-0.4.1-cp36-cp36m-linux_x86_64.whl\n",
        "!pip3 install torchvision\n",
        "!apt-get install python-opengl"
      ],
      "execution_count": 2,
      "outputs": [
        {
          "output_type": "stream",
          "text": [
            "Requirement already satisfied: torch==0.4.1 from http://download.pytorch.org/whl/cu80/torch-0.4.1-cp36-cp36m-linux_x86_64.whl in /usr/local/lib/python3.6/dist-packages (0.4.1)\n",
            "Requirement already satisfied: torchvision in /usr/local/lib/python3.6/dist-packages (0.2.1)\n",
            "Requirement already satisfied: numpy in /usr/local/lib/python3.6/dist-packages (from torchvision) (1.14.6)\n",
            "Requirement already satisfied: torch in /usr/local/lib/python3.6/dist-packages (from torchvision) (0.4.1)\n",
            "Requirement already satisfied: pillow>=4.1.1 in /usr/local/lib/python3.6/dist-packages (from torchvision) (5.3.0)\n",
            "Requirement already satisfied: six in /usr/local/lib/python3.6/dist-packages (from torchvision) (1.11.0)\n",
            "Reading package lists... Done\n",
            "Building dependency tree       \n",
            "Reading state information... Done\n",
            "python-opengl is already the newest version (3.1.0+dfsg-1).\n",
            "0 upgraded, 0 newly installed, 0 to remove and 13 not upgraded.\n"
          ],
          "name": "stdout"
        }
      ]
    },
    {
      "metadata": {
        "id": "WblMXvtt4EbT",
        "colab_type": "code",
        "colab": {}
      },
      "cell_type": "code",
      "source": [
        "import torch # Check if everything is OK"
      ],
      "execution_count": 0,
      "outputs": []
    },
    {
      "metadata": {
        "id": "Y1xLPUdl6HL9",
        "colab_type": "text"
      },
      "cell_type": "markdown",
      "source": [
        "## Setting up the environment"
      ]
    },
    {
      "metadata": {
        "id": "py16tP786OMU",
        "colab_type": "code",
        "outputId": "bc5e753d-0db3-4444-cbcf-4765a807d15a",
        "colab": {
          "base_uri": "https://localhost:8080/",
          "height": 87
        }
      },
      "cell_type": "code",
      "source": [
        "import gym\n",
        "import math\n",
        "import random\n",
        "import numpy as np\n",
        "\n",
        "# Some stuff that we will need to visualize the simulations in the notebook\n",
        "import matplotlib.pyplot as plt\n",
        "import matplotlib.animation\n",
        "from IPython.display import HTML\n",
        "\n",
        "# Start virtual display\n",
        "from pyvirtualdisplay import Display\n",
        "display = Display(visible=0, size=(1024, 768))\n",
        "display.start()\n",
        "import os\n",
        "os.environ[\"DISPLAY\"] = \":\" + str(display.display) + \".\" + str(display.screen)\n",
        "from collections import namedtuple\n",
        "from itertools import count\n",
        "from PIL import Image\n",
        "\n",
        "import torch\n",
        "import torch.nn as nn\n",
        "import torch.optim as optim\n",
        "import torch.nn.functional as F\n",
        "import torchvision.transforms as T\n",
        "from torch.autograd import Variable\n",
        "import torch.nn.utils as utils\n",
        "from torch.distributions import Categorical\n",
        "\n",
        "env = gym.make('CartPole-v0')\n",
        "\n",
        "print(\"Action space (discrete): {}\".format( env.action_space.n))\n",
        "print(\"Observation space (discrete): {}\".format( env.observation_space))\n",
        "\n",
        "# if gpu is to be used\n",
        "device = torch.device(\"cuda\" if torch.cuda.is_available() else \"cpu\")"
      ],
      "execution_count": 4,
      "outputs": [
        {
          "output_type": "stream",
          "text": [
            "Action space (discrete): 2\n",
            "Observation space (discrete): Box(4,)\n"
          ],
          "name": "stdout"
        },
        {
          "output_type": "stream",
          "text": [
            "/usr/local/lib/python3.6/dist-packages/gym/envs/registration.py:14: PkgResourcesDeprecationWarning: Parameters to load are deprecated.  Call .resolve and .require separately.\n",
            "  result = entry_point.load(False)\n"
          ],
          "name": "stderr"
        }
      ]
    },
    {
      "metadata": {
        "id": "MIuiPqyn68SP",
        "colab_type": "text"
      },
      "cell_type": "markdown",
      "source": [
        "## Create the model\n",
        "\n",
        "Definition of the models tried accepting both image or env observations"
      ]
    },
    {
      "metadata": {
        "id": "wkfM9M5c7Dvr",
        "colab_type": "code",
        "colab": {}
      },
      "cell_type": "code",
      "source": [
        "class PolicyNN(nn.Module):\n",
        "  def __init__(self,obs_dim=4, num_actions=2):\n",
        "    super(PolicyNN, self).__init__()\n",
        "    self.fc1 = nn.Sequential(\n",
        "      nn.Linear(obs_dim, 16),\n",
        "      nn.Tanh())\n",
        "    self.fc2 = nn.Sequential(\n",
        "      nn.Linear(16, 16),\n",
        "      nn.Tanh())\n",
        "    self.fc3 =  nn.Linear(16, num_actions)\n",
        "\n",
        "  def forward(self, x):\n",
        "    x = self.fc1(x)\n",
        "    x = self.fc2(x)\n",
        "    logprobs = self.fc3(x)\n",
        "    return F.softmax(logprobs)\n",
        "  \n",
        "class PolicyNN_V2(nn.Module):\n",
        "  def __init__(self,obs_dim=4, num_actions=2):\n",
        "    super(PolicyNN_V2, self).__init__()\n",
        "    self.fc1 = nn.Sequential(\n",
        "      nn.Linear(obs_dim, 16),\n",
        "      nn.ReLU())\n",
        "    self.fc2 = nn.Sequential(\n",
        "      nn.Linear(16, 32),\n",
        "      nn.ReLU())\n",
        "    self.fc3 =  nn.Linear(32, num_actions)\n",
        "\n",
        "  def forward(self, x):\n",
        "    x = self.fc1(x)\n",
        "    x = self.fc2(x)\n",
        "    logprobs = self.fc3(x)\n",
        "    return F.softmax(logprobs)\n",
        "  \n",
        "  \n",
        "class ImagePolicy(nn.Module):\n",
        "\n",
        "    def __init__(self):\n",
        "        super(ImagePolicy, self).__init__()\n",
        "        self.conv1 = nn.Conv2d(3, 16, kernel_size=5, stride=2)\n",
        "        self.bn1 = nn.BatchNorm2d(16)\n",
        "        self.conv2 = nn.Conv2d(16, 32, kernel_size=5, stride=2)\n",
        "        self.bn2 = nn.BatchNorm2d(32)\n",
        "        self.conv3 = nn.Conv2d(32, 32, kernel_size=5, stride=2)\n",
        "        self.bn3 = nn.BatchNorm2d(32)\n",
        "        self.head = nn.Linear(448, 2)\n",
        "\n",
        "    def forward(self, x):\n",
        "        print (\"input size: {} \\n\".format(x.size()))\n",
        "        x = F.relu(self.bn1(self.conv1(x)))\n",
        "        x = F.relu(self.bn2(self.conv2(x)))\n",
        "        x = F.relu(self.bn3(self.conv3(x)))\n",
        "        res= F.softmax(self.head(x.view(x.size(0), -1)))\n",
        "        print (\"Soft out: {}\".format(res))\n",
        "        return res"
      ],
      "execution_count": 0,
      "outputs": []
    },
    {
      "metadata": {
        "id": "yP9_A9zf_VMu",
        "colab_type": "text"
      },
      "cell_type": "markdown",
      "source": [
        ""
      ]
    },
    {
      "metadata": {
        "id": "PwZuaZw5_WCf",
        "colab_type": "code",
        "colab": {}
      },
      "cell_type": "code",
      "source": [
        "import sys\n",
        "\n",
        "\n",
        "resize = T.Compose([T.ToPILImage(),\n",
        "                    T.Resize(40, interpolation=Image.CUBIC),\n",
        "                    T.ToTensor()])\n",
        "\n",
        "class Agent:\n",
        "  '''\n",
        "  Implements reinforce algorithm\n",
        "  Param:\n",
        "  - Config file example:\n",
        "     env = \"CartPole-v0\" # Choose your env (not checked if working xddd)\n",
        "    seed = 0  # for reproducibility0\n",
        "    gamma = 0.99  # discount factor for future rewards\n",
        "    batch_size = 64  # in trajectories (episodes)\n",
        "    learning_rate = 0.0001\n",
        "    use_images = True Use env states or rgb frames from env.render\n",
        "  \n",
        "  - Additional params\n",
        "  - decay -> Learning rate decay--> configured to reduce lr by 0.3 after each 1000 episodes\n",
        "  - use_entropies -> use entropy normalization, TODO: add decay factor also\n",
        "  '''\n",
        "  def __init__(self, config, use_entropies = True, decay= False):\n",
        "    # Get configs and init model, optimizer, lr decay scheduler...\n",
        "    self.use_images = config.use_images\n",
        "    if self.use_images:\n",
        "      self.pi = ImagePolicy()\n",
        "    else:\n",
        "      self.pi = PolicyNN_V2()\n",
        "    \n",
        "    self.env = gym.make(config.env).unwrapped\n",
        "    self.gamma = config.gamma  # discount factor for future rewards\n",
        "    self.batch_size = config.batch_size  # in 4trajectories (episodes)\n",
        "    self.optimizer = torch.optim.Adam(self.pi.parameters(), lr=config.learning_rate) # optiii\n",
        "    self.use_entropies= use_entropies\n",
        "    # Set random seed for reproducibility\n",
        "    self.env.seed(config.seed)\n",
        "    #torch.manual_seed(config.seed)\n",
        "    self.decay=decay\n",
        "    if decay:\n",
        "       self.decay_lr= optim.lr_scheduler.StepLR(self.optimizer, step_size=int(1000/self.batch_size), gamma=0.5)\n",
        "\n",
        "    self.pi.train() # DONT FORGET TO PUT MODEL TO TRAIN ON INIT!!!!!!!\n",
        "    # This is based on the code from gym.\n",
        "    self.screen_width = 600\n",
        "  \n",
        "  \n",
        "  def save(self, filename):\n",
        "    \"\"\" Save policy weights to a ***.h5 file. \"\"\"\n",
        "    self.pi.save_state_dict(filename)\n",
        "    #self.pi.save_weights(filename)\n",
        "    \n",
        "  def load(self, filename):\n",
        "    \"\"\" Load policy weights from a ***.h5 file. \"\"\"\n",
        "    #self.pi.load_weights(filename)\n",
        "    self.pi.load_state_dict(torch.load(filename))\n",
        "    \n",
        "  def get_cart_location(self):\n",
        "    world_width = self.env.x_threshold * 2\n",
        "    scale = self.screen_width / world_width\n",
        "    return int(self.env.state[0] * scale + self.screen_width / 2.0)  # MIDDLE OF CART\n",
        "   \n",
        "  def get_screen(self):\n",
        "    screen = self.env.render(mode='rgb_array').transpose(\n",
        "        (2, 0, 1))  # transpose into torch order (CHW)\n",
        "    # Strip off the top and bottom of the screen\n",
        "    screen = screen[:, 160:320]\n",
        "    view_width = 320\n",
        "    cart_location = self.get_cart_location()\n",
        "    if cart_location < view_width // 2:\n",
        "        slice_range = slice(view_width)\n",
        "    elif cart_location > (self.screen_width - view_width // 2):\n",
        "        slice_range = slice(-view_width, None)\n",
        "    else:\n",
        "        slice_range = slice(cart_location - view_width // 2,\n",
        "                            cart_location + view_width // 2)\n",
        "    # Strip off the edges, so that we have a square image centered on a cart\n",
        "    screen = screen[:, :, slice_range]\n",
        "    # Convert to float, rescare, convert to torch tensor\n",
        "    # (this doesn't require a copy)\n",
        "    screen = np.ascontiguousarray(screen, dtype=np.float32) / 255\n",
        "    screen = torch.from_numpy(screen)\n",
        "    # Resize, and add a batch dimension (BCHW)\n",
        "    return resize(screen).unsqueeze(0)\n",
        "\n",
        "  def select_action(self, state):\n",
        "    probs = self.pi(Variable(state))    \n",
        "    c = Categorical(probs)\n",
        "    action = probs.multinomial(num_samples=1).data\n",
        "    prob = probs[:, action[0,0]].view(1, -1)\n",
        "    log_prob = prob.log()\n",
        "    entropy = - (probs*probs.log()).sum()\n",
        "    return action[0], log_prob, entropy\n",
        "  \n",
        "  def play(self, render):\n",
        "    \"\"\" \n",
        "    Run the trained policy on the env. \n",
        "    Returns the rewards and the rendered frames for visualization.\n",
        "    \"\"\"\n",
        "    # put model to eval\n",
        "    self.pi.eval()\n",
        "    state = torch.Tensor([self.env.reset()])\n",
        "    if self.use_images:\n",
        "      last_screen = self.get_screen()\n",
        "    done = False\n",
        "    rews, frames = [], []\n",
        "    while not done:\n",
        "      if render:\n",
        "        frames.append(self.env.render(mode='rgb_array'))\n",
        "      # We need to convert ob to a tensor, and add a batch dimension...\n",
        "      # ... and remove it again once we are done with TF ops\n",
        "      if self.use_images:\n",
        "        action, log_prob, entropy  = self.select_action(last_screen)\n",
        "      else:\n",
        "        action, log_prob, entropy  = self.select_action(state)\n",
        "      next_state, rew, done, info = self.env.step(action.numpy()[0])\n",
        "      state = torch.Tensor([next_state])\n",
        "      rews.append(rew)\n",
        "    return rews, frames\n",
        "  \n",
        "  def _discount_rewards(self, rews):\n",
        "    \"\"\" \n",
        "    Compute discounted rewards recursively. \n",
        "    Recall that with discount, r_t = sum_{k=t}^{T} gamma^{k-t} * r_k\n",
        "    \"\"\"\n",
        "    discounted_rews = []\n",
        "    last_r = 0.\n",
        "    for r in reversed(rews):\n",
        "      last_r = last_r * self.gamma + r\n",
        "      discounted_rews.append(last_r)\n",
        "    discounted_rews.reverse()\n",
        "    return discounted_rews\n",
        "  \n",
        "\n",
        "  def _compute_gradients_torch(self, rewards, log_probs, entropies):\n",
        "    \"\"\"\n",
        "    Implement the policy gradient in Torch. In order to do so with automatic\n",
        "    differentiation, we need to build a surrogate loss whose gradient is \n",
        "    the policy gradient.\n",
        "    This is achieved by taking the logprob of the selected action and \n",
        "    scaling it by the discounted reward and adding it the entropy factor ( or substracting depending on the view).\n",
        "\"\"\"\n",
        "    R = torch.zeros(1, 1)\n",
        "    self.pi.train() #ojuu que el posarem a val a la funcio play\n",
        "    loss = 0\n",
        "    for i in reversed(range(len(rewards))):\n",
        "        R = self.gamma * R + rewards[i]\n",
        "        if self.use_entropies:\n",
        "          loss = loss - (log_probs[i]*(Variable(R).expand_as(log_probs[i]))).sum() - (0.0001*entropies[i]).sum()\n",
        "        else:\n",
        "          loss = loss - (log_probs[i]*(Variable(R).expand_as(log_probs[i]))).sum()\n",
        "          \n",
        "    loss = loss / len(rewards)\n",
        "\n",
        "        for i in reversed(range(len(rewards))):\n",
        "            R = gamma * R + rewards[i]\n",
        "            loss = loss - (log_probs[i]*(Variable(R).expand_as(log_probs[i])).cuda()).sum() - (0.0001*entropies[i].cuda()).sum()\n",
        "        loss = loss / len(rewards)\n",
        "        \n",
        "        \n",
        "        \n",
        "    self.optimizer.zero_grad()\n",
        "    loss.backward()\n",
        "    utils.clip_grad_norm(self.pi.parameters(), 40*self.batch_size)\n",
        "    self.optimizer.step()\n",
        "    if self.decay:\n",
        "      self.decay_lr.step()\n",
        "    return rewards, loss\n",
        "                         \n",
        "  def train(self, num_episodes):\n",
        "    \"\"\"\n",
        "    Training loop:\n",
        "      1. Collect experience by running the policy on the env\n",
        "      2. Estimate the policy gradient with samples\n",
        "      3. Update the policy and go back to (1)\n",
        "    \"\"\"\n",
        "    rew_hist=[]\n",
        "    eval_cum_rews_history=[]\n",
        "    entropies = []\n",
        "    log_probs = []\n",
        "    losses=[]\n",
        "    rewards = []\n",
        "    for i_episode in range(num_episodes):\n",
        "        state = torch.Tensor([self.env.reset()])\n",
        "        if self.use_images:\n",
        "          last_screen = self.get_screen()\n",
        "\n",
        "        done=False\n",
        "        while not done: #PLAY PLAY\n",
        "            if self.use_images:\n",
        "              action, log_prob, entropy = self.select_action(last_screen)\n",
        "            else:\n",
        "              action, log_prob, entropy = self.select_action(state)\n",
        "            action = action\n",
        "            next_state, reward, done, _ = self.env.step(action.numpy()[0])\n",
        "            entropies.append(entropy)\n",
        "            log_probs.append(log_prob)\n",
        "            rewards.append(reward)\n",
        "            state = torch.Tensor([next_state])\n",
        "            if self.use_images:\n",
        "              last_screen = self.get_screen()\n",
        "\n",
        "            if done:\n",
        "                break\n",
        "        if i_episode%self.batch_size==0: #UPDATE GRADIENTSSSS AND VAL THE AGENT WITH ONE EPISODE\n",
        "            ep_rew,loss=self._compute_gradients_torch(rewards, log_probs, entropies)\n",
        "\n",
        "            rew_hist.append(ep_rew)\n",
        "            eval_rews, _ = self.play(render=False)\n",
        "            eval_cum_rew = np.sum(eval_rews)\n",
        "            eval_cum_rews_history.append(eval_cum_rew)\n",
        "            losses.append(loss)\n",
        "            entropies = []\n",
        "            log_probs = []\n",
        "            rewards = []\n",
        "            torch.save(self.pi.state_dict(), 'wpt.pkl')\n",
        "            sys.stdout.write('\\r%s %s %s %s %s %s %s %s' % ('Train rew avg: ', np.array(ep_rew).sum()/self.batch_size, ' val: ', eval_cum_rew, 'Episode: ',i_episode, '        ', '              '))\n",
        "            sys.stdout.flush()\n",
        "\n",
        "    return eval_cum_rews_history, losses\n"
      ],
      "execution_count": 0,
      "outputs": []
    },
    {
      "metadata": {
        "id": "LR-HUmPupSKj",
        "colab_type": "code",
        "outputId": "f8b52d54-2fd4-46ed-d33d-36e025ea8fc4",
        "colab": {
          "base_uri": "https://localhost:8080/",
          "height": 196
        }
      },
      "cell_type": "code",
      "source": [
        "\n",
        "class CartPoleConfig:\n",
        "  env = \"CartPole-v0\"\n",
        "  seed = 0  # for reproducibility0\n",
        "  gamma = 0.99  # discount factor for future rewards\n",
        "  batch_size = 1  # in trajectories (episodes)\n",
        "  learning_rate = 0.001\n",
        "  use_images = False\n",
        "  \n",
        "\n",
        "entropic_agent = Agent(CartPoleConfig, use_entropies=True)\n",
        "agent = Agent(CartPoleConfig, use_entropies=False)\n",
        "\n",
        "n_experiments = 10\n",
        "entropic_rewards=[]\n",
        "normal_rewards= []\n",
        "# Training on 3000 episodes takes around 3:30min on CPU\n",
        "for _i in range(n_experiments):\n",
        "  print(\"Experiment: {}\".format(_i+1))\n",
        "  reward,loss = agent.train(num_episodes=1200)\n",
        "  print (\" Loss: {} Reward: {} \\n\".format(reward, loss))\n",
        "  normal_rewards.append(reward)\n",
        "  reward,loss = entropic_agent.train(num_episodes=1200)\n",
        "  entropic_rewards.append(reward)\n",
        "  #upss, dont forget to go back to dumb agent!!!\n",
        "  entropic_agent = Agent(CartPoleConfig, use_entropies=True)\n",
        "  agent = Agent(CartPoleConfig, use_entropies=False)\n",
        "  print(\"Entropic Loss: {} Reward: {} \\n\".format(reward, loss))\n",
        "  CartPoleConfig.seed+=1\n",
        "  break\n"
      ],
      "execution_count": 7,
      "outputs": [
        {
          "output_type": "stream",
          "text": [
            "Experiment: 1\n",
            "Train rew avg:  14.0  val:  22.0 Episode:  5                        "
          ],
          "name": "stdout"
        },
        {
          "output_type": "stream",
          "text": [
            "/usr/local/lib/python3.6/dist-packages/gym/envs/registration.py:14: PkgResourcesDeprecationWarning: Parameters to load are deprecated.  Call .resolve and .require separately.\n",
            "  result = entry_point.load(False)\n",
            "/usr/local/lib/python3.6/dist-packages/ipykernel_launcher.py:33: UserWarning: Implicit dimension choice for softmax has been deprecated. Change the call to include dim=X as an argument.\n",
            "/usr/local/lib/python3.6/dist-packages/ipykernel_launcher.py:158: UserWarning: torch.nn.utils.clip_grad_norm is now deprecated in favor of torch.nn.utils.clip_grad_norm_.\n"
          ],
          "name": "stderr"
        },
        {
          "output_type": "stream",
          "text": [
            "Train rew avg:  615.0  val:  567.0 Episode:  1199                         Loss: [15.0, 20.0, 12.0, 23.0, 21.0, 22.0, 34.0, 32.0, 19.0, 15.0, 15.0, 12.0, 38.0, 21.0, 18.0, 13.0, 17.0, 14.0, 26.0, 26.0, 15.0, 28.0, 28.0, 26.0, 33.0, 38.0, 10.0, 45.0, 10.0, 24.0, 13.0, 14.0, 24.0, 35.0, 16.0, 42.0, 30.0, 13.0, 29.0, 17.0, 18.0, 80.0, 20.0, 22.0, 13.0, 29.0, 21.0, 12.0, 16.0, 40.0, 27.0, 29.0, 22.0, 16.0, 17.0, 29.0, 19.0, 28.0, 45.0, 13.0, 46.0, 26.0, 31.0, 22.0, 19.0, 15.0, 67.0, 36.0, 16.0, 14.0, 13.0, 20.0, 37.0, 21.0, 17.0, 22.0, 21.0, 13.0, 25.0, 14.0, 21.0, 20.0, 21.0, 10.0, 28.0, 27.0, 15.0, 14.0, 14.0, 53.0, 22.0, 15.0, 38.0, 11.0, 21.0, 22.0, 44.0, 11.0, 21.0, 12.0, 19.0, 18.0, 31.0, 78.0, 13.0, 25.0, 51.0, 17.0, 15.0, 11.0, 24.0, 14.0, 19.0, 10.0, 32.0, 17.0, 27.0, 21.0, 12.0, 12.0, 28.0, 15.0, 16.0, 15.0, 25.0, 13.0, 10.0, 23.0, 15.0, 55.0, 23.0, 16.0, 51.0, 11.0, 15.0, 36.0, 20.0, 19.0, 16.0, 15.0, 28.0, 51.0, 28.0, 8.0, 12.0, 20.0, 33.0, 41.0, 21.0, 14.0, 17.0, 23.0, 18.0, 39.0, 10.0, 22.0, 32.0, 46.0, 71.0, 16.0, 14.0, 21.0, 20.0, 27.0, 40.0, 11.0, 19.0, 17.0, 17.0, 15.0, 13.0, 20.0, 32.0, 14.0, 13.0, 38.0, 15.0, 26.0, 32.0, 15.0, 32.0, 49.0, 15.0, 17.0, 25.0, 12.0, 35.0, 16.0, 21.0, 19.0, 16.0, 13.0, 21.0, 11.0, 14.0, 18.0, 16.0, 37.0, 26.0, 32.0, 17.0, 39.0, 39.0, 15.0, 12.0, 51.0, 15.0, 11.0, 12.0, 17.0, 12.0, 16.0, 31.0, 43.0, 37.0, 22.0, 22.0, 18.0, 16.0, 32.0, 10.0, 12.0, 47.0, 18.0, 47.0, 15.0, 39.0, 21.0, 10.0, 13.0, 13.0, 20.0, 16.0, 32.0, 14.0, 19.0, 25.0, 14.0, 20.0, 38.0, 67.0, 20.0, 38.0, 11.0, 39.0, 17.0, 16.0, 25.0, 25.0, 9.0, 48.0, 53.0, 17.0, 16.0, 36.0, 15.0, 22.0, 16.0, 22.0, 18.0, 24.0, 32.0, 28.0, 12.0, 13.0, 18.0, 26.0, 11.0, 10.0, 32.0, 19.0, 25.0, 30.0, 54.0, 21.0, 12.0, 44.0, 23.0, 18.0, 12.0, 27.0, 19.0, 22.0, 21.0, 12.0, 35.0, 14.0, 15.0, 32.0, 63.0, 15.0, 32.0, 14.0, 17.0, 14.0, 40.0, 28.0, 20.0, 19.0, 34.0, 18.0, 42.0, 20.0, 17.0, 56.0, 18.0, 23.0, 17.0, 9.0, 18.0, 15.0, 24.0, 13.0, 48.0, 19.0, 30.0, 17.0, 17.0, 53.0, 64.0, 11.0, 40.0, 33.0, 12.0, 50.0, 22.0, 12.0, 47.0, 13.0, 15.0, 17.0, 14.0, 12.0, 25.0, 34.0, 30.0, 12.0, 24.0, 38.0, 17.0, 66.0, 69.0, 28.0, 35.0, 34.0, 14.0, 33.0, 51.0, 52.0, 63.0, 45.0, 18.0, 42.0, 15.0, 68.0, 24.0, 20.0, 19.0, 46.0, 21.0, 39.0, 44.0, 64.0, 52.0, 44.0, 29.0, 35.0, 16.0, 27.0, 58.0, 43.0, 31.0, 14.0, 92.0, 28.0, 130.0, 30.0, 12.0, 30.0, 80.0, 10.0, 20.0, 108.0, 13.0, 62.0, 32.0, 22.0, 163.0, 56.0, 18.0, 67.0, 24.0, 14.0, 29.0, 32.0, 22.0, 55.0, 23.0, 73.0, 50.0, 17.0, 94.0, 35.0, 59.0, 38.0, 20.0, 76.0, 46.0, 26.0, 25.0, 154.0, 62.0, 29.0, 13.0, 45.0, 47.0, 22.0, 14.0, 53.0, 81.0, 56.0, 20.0, 50.0, 58.0, 68.0, 83.0, 20.0, 50.0, 30.0, 55.0, 48.0, 61.0, 33.0, 18.0, 84.0, 21.0, 29.0, 25.0, 31.0, 23.0, 36.0, 27.0, 20.0, 46.0, 51.0, 88.0, 31.0, 34.0, 32.0, 23.0, 29.0, 23.0, 45.0, 30.0, 26.0, 86.0, 29.0, 40.0, 22.0, 51.0, 14.0, 53.0, 36.0, 22.0, 44.0, 62.0, 61.0, 63.0, 20.0, 17.0, 28.0, 45.0, 36.0, 23.0, 32.0, 27.0, 28.0, 95.0, 23.0, 21.0, 29.0, 36.0, 19.0, 25.0, 20.0, 139.0, 26.0, 59.0, 27.0, 52.0, 32.0, 19.0, 36.0, 102.0, 27.0, 27.0, 37.0, 29.0, 44.0, 64.0, 29.0, 25.0, 61.0, 56.0, 71.0, 59.0, 45.0, 22.0, 29.0, 21.0, 38.0, 47.0, 70.0, 65.0, 34.0, 76.0, 55.0, 54.0, 111.0, 55.0, 75.0, 55.0, 51.0, 104.0, 51.0, 15.0, 63.0, 132.0, 114.0, 59.0, 38.0, 100.0, 65.0, 35.0, 31.0, 217.0, 64.0, 23.0, 44.0, 42.0, 86.0, 42.0, 51.0, 48.0, 124.0, 73.0, 96.0, 65.0, 70.0, 37.0, 69.0, 81.0, 74.0, 121.0, 266.0, 59.0, 91.0, 72.0, 78.0, 30.0, 182.0, 150.0, 115.0, 86.0, 129.0, 125.0, 97.0, 162.0, 81.0, 132.0, 186.0, 36.0, 106.0, 45.0, 152.0, 65.0, 144.0, 175.0, 122.0, 86.0, 83.0, 109.0, 172.0, 44.0, 75.0, 102.0, 257.0, 151.0, 214.0, 349.0, 180.0, 289.0, 103.0, 113.0, 147.0, 110.0, 305.0, 101.0, 82.0, 61.0, 162.0, 110.0, 182.0, 274.0, 270.0, 193.0, 159.0, 43.0, 150.0, 167.0, 165.0, 173.0, 153.0, 38.0, 150.0, 143.0, 203.0, 118.0, 160.0, 128.0, 119.0, 155.0, 160.0, 116.0, 163.0, 132.0, 132.0, 162.0, 123.0, 159.0, 165.0, 24.0, 120.0, 137.0, 136.0, 146.0, 129.0, 148.0, 211.0, 107.0, 110.0, 234.0, 208.0, 219.0, 192.0, 114.0, 150.0, 113.0, 123.0, 91.0, 145.0, 117.0, 143.0, 110.0, 134.0, 158.0, 45.0, 128.0, 40.0, 114.0, 53.0, 243.0, 197.0, 123.0, 134.0, 149.0, 143.0, 118.0, 217.0, 106.0, 142.0, 132.0, 230.0, 209.0, 180.0, 83.0, 121.0, 186.0, 179.0, 194.0, 139.0, 213.0, 49.0, 166.0, 120.0, 67.0, 141.0, 137.0, 43.0, 38.0, 117.0, 139.0, 70.0, 19.0, 124.0, 183.0, 70.0, 119.0, 139.0, 36.0, 46.0, 154.0, 107.0, 106.0, 33.0, 113.0, 158.0, 145.0, 111.0, 251.0, 213.0, 30.0, 132.0, 139.0, 104.0, 159.0, 200.0, 267.0, 154.0, 203.0, 159.0, 147.0, 206.0, 273.0, 115.0, 94.0, 105.0, 172.0, 253.0, 146.0, 223.0, 225.0, 194.0, 84.0, 66.0, 272.0, 234.0, 172.0, 168.0, 327.0, 240.0, 80.0, 186.0, 541.0, 166.0, 292.0, 117.0, 170.0, 103.0, 246.0, 215.0, 278.0, 234.0, 100.0, 129.0, 108.0, 289.0, 106.0, 398.0, 289.0, 551.0, 156.0, 589.0, 297.0, 446.0, 132.0, 372.0, 258.0, 305.0, 218.0, 266.0, 226.0, 194.0, 275.0, 193.0, 332.0, 229.0, 232.0, 254.0, 335.0, 209.0, 560.0, 345.0, 411.0, 116.0, 342.0, 227.0, 685.0, 282.0, 517.0, 507.0, 637.0, 555.0, 293.0, 265.0, 218.0, 593.0, 178.0, 317.0, 133.0, 301.0, 465.0, 283.0, 406.0, 439.0, 608.0, 171.0, 207.0, 940.0, 339.0, 268.0, 271.0, 313.0, 320.0, 190.0, 114.0, 313.0, 209.0, 204.0, 45.0, 126.0, 142.0, 113.0, 170.0, 114.0, 95.0, 124.0, 80.0, 23.0, 84.0, 112.0, 86.0, 48.0, 108.0, 49.0, 108.0, 78.0, 172.0, 115.0, 110.0, 119.0, 125.0, 147.0, 13.0, 121.0, 130.0, 80.0, 108.0, 100.0, 28.0, 104.0, 34.0, 58.0, 37.0, 108.0, 57.0, 63.0, 60.0, 80.0, 66.0, 65.0, 79.0, 89.0, 95.0, 117.0, 22.0, 33.0, 211.0, 151.0, 230.0, 92.0, 129.0, 139.0, 82.0, 143.0, 110.0, 142.0, 165.0, 433.0, 371.0, 143.0, 225.0, 134.0, 317.0, 116.0, 473.0, 137.0, 209.0, 206.0, 171.0, 129.0, 107.0, 147.0, 197.0, 141.0, 359.0, 179.0, 156.0, 197.0, 156.0, 163.0, 238.0, 380.0, 180.0, 246.0, 298.0, 147.0, 279.0, 100.0, 142.0, 169.0, 151.0, 147.0, 136.0, 103.0, 191.0, 147.0, 256.0, 142.0, 114.0, 141.0, 99.0, 204.0, 217.0, 168.0, 176.0, 205.0, 186.0, 194.0, 194.0, 165.0, 205.0, 222.0, 168.0, 164.0, 272.0, 390.0, 416.0, 294.0, 188.0, 751.0, 1039.0, 838.0, 544.0, 657.0, 412.0, 276.0, 330.0, 363.0, 283.0, 185.0, 212.0, 334.0, 437.0, 407.0, 618.0, 370.0, 417.0, 254.0, 409.0, 347.0, 317.0, 757.0, 443.0, 116.0, 289.0, 106.0, 238.0, 428.0, 257.0, 713.0, 478.0, 514.0, 265.0, 148.0, 478.0, 286.0, 335.0, 620.0, 993.0, 338.0, 195.0, 544.0, 495.0, 711.0, 247.0, 365.0, 390.0, 518.0, 267.0, 682.0, 303.0, 514.0, 381.0, 731.0, 583.0, 486.0, 1501.0, 156.0, 487.0, 388.0, 297.0, 224.0, 270.0, 206.0, 366.0, 319.0, 271.0, 820.0, 261.0, 200.0, 175.0, 359.0, 212.0, 260.0, 232.0, 226.0, 731.0, 263.0, 182.0, 291.0, 374.0, 256.0, 234.0, 173.0, 192.0, 295.0, 169.0, 259.0, 141.0, 220.0, 273.0, 121.0, 213.0, 303.0, 229.0, 206.0, 229.0, 165.0, 195.0, 163.0, 203.0, 213.0, 143.0, 134.0, 202.0, 194.0, 197.0, 180.0, 179.0, 198.0, 231.0, 164.0, 178.0, 172.0, 192.0, 147.0, 141.0, 171.0, 303.0, 180.0, 195.0, 147.0, 284.0, 166.0, 179.0, 172.0, 131.0, 182.0, 128.0, 128.0, 155.0, 136.0, 161.0, 143.0, 153.0, 142.0, 139.0, 157.0, 179.0, 223.0, 137.0, 141.0, 146.0, 120.0, 138.0, 126.0, 142.0, 130.0, 144.0, 93.0, 125.0, 164.0, 102.0, 136.0, 120.0, 141.0, 128.0, 151.0, 22.0, 116.0, 44.0, 40.0, 128.0, 30.0, 56.0, 104.0, 59.0, 105.0, 16.0, 143.0, 162.0, 96.0, 126.0, 151.0, 52.0, 116.0, 123.0, 150.0, 134.0, 43.0, 160.0, 146.0, 115.0, 140.0, 170.0, 163.0, 172.0, 180.0, 211.0, 21.0, 165.0, 215.0, 190.0, 157.0, 312.0, 257.0, 279.0, 301.0, 266.0, 358.0, 165.0, 369.0, 386.0, 848.0, 370.0, 663.0, 568.0, 618.0, 415.0, 100.0, 825.0, 863.0, 403.0, 537.0, 520.0, 296.0, 665.0, 765.0, 2730.0, 2065.0, 376.0, 1185.0, 645.0, 1124.0, 1320.0, 575.0, 838.0, 1271.0, 989.0, 1338.0, 288.0, 413.0, 672.0, 999.0, 481.0, 210.0, 365.0, 1022.0, 904.0, 897.0, 576.0, 1038.0, 150.0, 352.0, 940.0, 269.0, 531.0, 1338.0, 689.0, 459.0, 531.0, 339.0, 277.0, 303.0, 721.0, 261.0, 747.0, 1350.0, 567.0] Reward: [tensor(5.6572, grad_fn=<DivBackward0>), tensor(4.3018, grad_fn=<DivBackward0>), tensor(11.4750, grad_fn=<DivBackward0>), tensor(15.6410, grad_fn=<DivBackward0>), tensor(9.5091, grad_fn=<DivBackward0>), tensor(4.9256, grad_fn=<DivBackward0>), tensor(7.4122, grad_fn=<DivBackward0>), tensor(4.3784, grad_fn=<DivBackward0>), tensor(5.6328, grad_fn=<DivBackward0>), tensor(7.4343, grad_fn=<DivBackward0>), tensor(4.7450, grad_fn=<DivBackward0>), tensor(4.4449, grad_fn=<DivBackward0>), tensor(14.8477, grad_fn=<DivBackward0>), tensor(5.0050, grad_fn=<DivBackward0>), tensor(18.6896, grad_fn=<DivBackward0>), tensor(4.3501, grad_fn=<DivBackward0>), tensor(4.0192, grad_fn=<DivBackward0>), tensor(3.7209, grad_fn=<DivBackward0>), tensor(9.2048, grad_fn=<DivBackward0>), tensor(4.3783, grad_fn=<DivBackward0>), tensor(3.7380, grad_fn=<DivBackward0>), tensor(14.8515, grad_fn=<DivBackward0>), tensor(6.2339, grad_fn=<DivBackward0>), tensor(5.3015, grad_fn=<DivBackward0>), tensor(8.6140, grad_fn=<DivBackward0>), tensor(4.3527, grad_fn=<DivBackward0>), tensor(8.0302, grad_fn=<DivBackward0>), tensor(7.1309, grad_fn=<DivBackward0>), tensor(7.4252, grad_fn=<DivBackward0>), tensor(15.0826, grad_fn=<DivBackward0>), tensor(5.2915, grad_fn=<DivBackward0>), tensor(6.2363, grad_fn=<DivBackward0>), tensor(4.3335, grad_fn=<DivBackward0>), tensor(4.6619, grad_fn=<DivBackward0>), tensor(4.9682, grad_fn=<DivBackward0>), tensor(4.6563, grad_fn=<DivBackward0>), tensor(7.1390, grad_fn=<DivBackward0>), tensor(8.5956, grad_fn=<DivBackward0>), tensor(6.5590, grad_fn=<DivBackward0>), tensor(10.5966, grad_fn=<DivBackward0>), tensor(5.3486, grad_fn=<DivBackward0>), tensor(6.1920, grad_fn=<DivBackward0>), tensor(4.6984, grad_fn=<DivBackward0>), tensor(8.0315, grad_fn=<DivBackward0>), tensor(4.3627, grad_fn=<DivBackward0>), tensor(4.3243, grad_fn=<DivBackward0>), tensor(8.6048, grad_fn=<DivBackward0>), tensor(5.8927, grad_fn=<DivBackward0>), tensor(6.8639, grad_fn=<DivBackward0>), tensor(5.2710, grad_fn=<DivBackward0>), tensor(10.5763, grad_fn=<DivBackward0>), tensor(5.2900, grad_fn=<DivBackward0>), tensor(7.1186, grad_fn=<DivBackward0>), tensor(4.0065, grad_fn=<DivBackward0>), tensor(8.6162, grad_fn=<DivBackward0>), tensor(7.4138, grad_fn=<DivBackward0>), tensor(11.9630, grad_fn=<DivBackward0>), tensor(8.6168, grad_fn=<DivBackward0>), tensor(4.7466, grad_fn=<DivBackward0>), tensor(8.3543, grad_fn=<DivBackward0>), tensor(25.2353, grad_fn=<DivBackward0>), tensor(8.6050, grad_fn=<DivBackward0>), tensor(4.6534, grad_fn=<DivBackward0>), tensor(20.1487, grad_fn=<DivBackward0>), tensor(10.5806, grad_fn=<DivBackward0>), tensor(5.2782, grad_fn=<DivBackward0>), tensor(5.6832, grad_fn=<DivBackward0>), tensor(15.6762, grad_fn=<DivBackward0>), tensor(10.0017, grad_fn=<DivBackward0>), tensor(3.3974, grad_fn=<DivBackward0>), tensor(3.7018, grad_fn=<DivBackward0>), tensor(5.9026, grad_fn=<DivBackward0>), tensor(9.4445, grad_fn=<DivBackward0>), tensor(14.0303, grad_fn=<DivBackward0>), tensor(3.6773, grad_fn=<DivBackward0>), tensor(7.1117, grad_fn=<DivBackward0>), tensor(5.2418, grad_fn=<DivBackward0>), tensor(5.5603, grad_fn=<DivBackward0>), tensor(9.2147, grad_fn=<DivBackward0>), tensor(13.7890, grad_fn=<DivBackward0>), tensor(7.5707, grad_fn=<DivBackward0>), tensor(6.8284, grad_fn=<DivBackward0>), tensor(5.8512, grad_fn=<DivBackward0>), tensor(3.3136, grad_fn=<DivBackward0>), tensor(7.3686, grad_fn=<DivBackward0>), tensor(16.0734, grad_fn=<DivBackward0>), tensor(4.9227, grad_fn=<DivBackward0>), tensor(12.4382, grad_fn=<DivBackward0>), tensor(5.2190, grad_fn=<DivBackward0>), tensor(5.8406, grad_fn=<DivBackward0>), tensor(7.8470, grad_fn=<DivBackward0>), tensor(13.4331, grad_fn=<DivBackward0>), tensor(5.8472, grad_fn=<DivBackward0>), tensor(10.5650, grad_fn=<DivBackward0>), tensor(9.1294, grad_fn=<DivBackward0>), tensor(6.4177, grad_fn=<DivBackward0>), tensor(5.8374, grad_fn=<DivBackward0>), tensor(5.4965, grad_fn=<DivBackward0>), tensor(7.0169, grad_fn=<DivBackward0>), tensor(4.5581, grad_fn=<DivBackward0>), tensor(15.1677, grad_fn=<DivBackward0>), tensor(3.8625, grad_fn=<DivBackward0>), tensor(4.4960, grad_fn=<DivBackward0>), tensor(8.3021, grad_fn=<DivBackward0>), tensor(8.1768, grad_fn=<DivBackward0>), tensor(9.4410, grad_fn=<DivBackward0>), tensor(4.1042, grad_fn=<DivBackward0>), tensor(7.0002, grad_fn=<DivBackward0>), tensor(6.9593, grad_fn=<DivBackward0>), tensor(6.3544, grad_fn=<DivBackward0>), tensor(5.1736, grad_fn=<DivBackward0>), tensor(7.6380, grad_fn=<DivBackward0>), tensor(3.5420, grad_fn=<DivBackward0>), tensor(13.4173, grad_fn=<DivBackward0>), tensor(5.1813, grad_fn=<DivBackward0>), tensor(6.0781, grad_fn=<DivBackward0>), tensor(8.3237, grad_fn=<DivBackward0>), tensor(10.7641, grad_fn=<DivBackward0>), tensor(9.4135, grad_fn=<DivBackward0>), tensor(8.2114, grad_fn=<DivBackward0>), tensor(13.0977, grad_fn=<DivBackward0>), tensor(3.5619, grad_fn=<DivBackward0>), tensor(3.7874, grad_fn=<DivBackward0>), tensor(7.0468, grad_fn=<DivBackward0>), tensor(7.5338, grad_fn=<DivBackward0>), tensor(7.3034, grad_fn=<DivBackward0>), tensor(6.3510, grad_fn=<DivBackward0>), tensor(6.3995, grad_fn=<DivBackward0>), tensor(5.0715, grad_fn=<DivBackward0>), tensor(4.5579, grad_fn=<DivBackward0>), tensor(7.9951, grad_fn=<DivBackward0>), tensor(11.5619, grad_fn=<DivBackward0>), tensor(8.5768, grad_fn=<DivBackward0>), tensor(4.5828, grad_fn=<DivBackward0>), tensor(19.4021, grad_fn=<DivBackward0>), tensor(12.9130, grad_fn=<DivBackward0>), tensor(5.1740, grad_fn=<DivBackward0>), tensor(8.3676, grad_fn=<DivBackward0>), tensor(4.9268, grad_fn=<DivBackward0>), tensor(8.4620, grad_fn=<DivBackward0>), tensor(10.4801, grad_fn=<DivBackward0>), tensor(4.6018, grad_fn=<DivBackward0>), tensor(6.4225, grad_fn=<DivBackward0>), tensor(12.0523, grad_fn=<DivBackward0>), tensor(7.6549, grad_fn=<DivBackward0>), tensor(14.1567, grad_fn=<DivBackward0>), tensor(11.7950, grad_fn=<DivBackward0>), tensor(14.1977, grad_fn=<DivBackward0>), tensor(7.0320, grad_fn=<DivBackward0>), tensor(7.6245, grad_fn=<DivBackward0>), tensor(9.3447, grad_fn=<DivBackward0>), tensor(10.6680, grad_fn=<DivBackward0>), tensor(20.7767, grad_fn=<DivBackward0>), tensor(10.0909, grad_fn=<DivBackward0>), tensor(7.6163, grad_fn=<DivBackward0>), tensor(7.0058, grad_fn=<DivBackward0>), tensor(11.0303, grad_fn=<DivBackward0>), tensor(5.4133, grad_fn=<DivBackward0>), tensor(5.7987, grad_fn=<DivBackward0>), tensor(9.8239, grad_fn=<DivBackward0>), tensor(8.0375, grad_fn=<DivBackward0>), tensor(6.1443, grad_fn=<DivBackward0>), tensor(12.2514, grad_fn=<DivBackward0>), tensor(10.9167, grad_fn=<DivBackward0>), tensor(9.0403, grad_fn=<DivBackward0>), tensor(4.0510, grad_fn=<DivBackward0>), tensor(5.2009, grad_fn=<DivBackward0>), tensor(5.1705, grad_fn=<DivBackward0>), tensor(11.2399, grad_fn=<DivBackward0>), tensor(6.3734, grad_fn=<DivBackward0>), tensor(5.8142, grad_fn=<DivBackward0>), tensor(4.6290, grad_fn=<DivBackward0>), tensor(11.2686, grad_fn=<DivBackward0>), tensor(7.8779, grad_fn=<DivBackward0>), tensor(6.2866, grad_fn=<DivBackward0>), tensor(5.9429, grad_fn=<DivBackward0>), tensor(10.6378, grad_fn=<DivBackward0>), tensor(11.0828, grad_fn=<DivBackward0>), tensor(7.3966, grad_fn=<DivBackward0>), tensor(4.8841, grad_fn=<DivBackward0>), tensor(6.9813, grad_fn=<DivBackward0>), tensor(11.9352, grad_fn=<DivBackward0>), tensor(6.9587, grad_fn=<DivBackward0>), tensor(3.8167, grad_fn=<DivBackward0>), tensor(5.2388, grad_fn=<DivBackward0>), tensor(8.7761, grad_fn=<DivBackward0>), tensor(5.5768, grad_fn=<DivBackward0>), tensor(8.6053, grad_fn=<DivBackward0>), tensor(6.0950, grad_fn=<DivBackward0>), tensor(5.5353, grad_fn=<DivBackward0>), tensor(13.1185, grad_fn=<DivBackward0>), tensor(7.0318, grad_fn=<DivBackward0>), tensor(4.3729, grad_fn=<DivBackward0>), tensor(9.4680, grad_fn=<DivBackward0>), tensor(10.8319, grad_fn=<DivBackward0>), tensor(4.7817, grad_fn=<DivBackward0>), tensor(11.4656, grad_fn=<DivBackward0>), tensor(15.5838, grad_fn=<DivBackward0>), tensor(11.7363, grad_fn=<DivBackward0>), tensor(4.6203, grad_fn=<DivBackward0>), tensor(7.7785, grad_fn=<DivBackward0>), tensor(6.3611, grad_fn=<DivBackward0>), tensor(23.4396, grad_fn=<DivBackward0>), tensor(5.8375, grad_fn=<DivBackward0>), tensor(8.4412, grad_fn=<DivBackward0>), tensor(11.3939, grad_fn=<DivBackward0>), tensor(5.2697, grad_fn=<DivBackward0>), tensor(12.3799, grad_fn=<DivBackward0>), tensor(9.2462, grad_fn=<DivBackward0>), tensor(7.1156, grad_fn=<DivBackward0>), tensor(9.1472, grad_fn=<DivBackward0>), tensor(12.4169, grad_fn=<DivBackward0>), tensor(4.9306, grad_fn=<DivBackward0>), tensor(7.2262, grad_fn=<DivBackward0>), tensor(4.6105, grad_fn=<DivBackward0>), tensor(10.7843, grad_fn=<DivBackward0>), tensor(11.9789, grad_fn=<DivBackward0>), tensor(18.7919, grad_fn=<DivBackward0>), tensor(4.9947, grad_fn=<DivBackward0>), tensor(8.9620, grad_fn=<DivBackward0>), tensor(11.3494, grad_fn=<DivBackward0>), tensor(7.6806, grad_fn=<DivBackward0>), tensor(6.8537, grad_fn=<DivBackward0>), tensor(7.6190, grad_fn=<DivBackward0>), tensor(7.9959, grad_fn=<DivBackward0>), tensor(12.6410, grad_fn=<DivBackward0>), tensor(9.0204, grad_fn=<DivBackward0>), tensor(10.6124, grad_fn=<DivBackward0>), tensor(7.6616, grad_fn=<DivBackward0>), tensor(8.8536, grad_fn=<DivBackward0>), tensor(10.8520, grad_fn=<DivBackward0>), tensor(5.2846, grad_fn=<DivBackward0>), tensor(12.1533, grad_fn=<DivBackward0>), tensor(6.9720, grad_fn=<DivBackward0>), tensor(15.8693, grad_fn=<DivBackward0>), tensor(4.0475, grad_fn=<DivBackward0>), tensor(4.2592, grad_fn=<DivBackward0>), tensor(4.6593, grad_fn=<DivBackward0>), tensor(6.7036, grad_fn=<DivBackward0>), tensor(4.6746, grad_fn=<DivBackward0>), tensor(7.8322, grad_fn=<DivBackward0>), tensor(6.5184, grad_fn=<DivBackward0>), tensor(5.3213, grad_fn=<DivBackward0>), tensor(8.9107, grad_fn=<DivBackward0>), tensor(8.4636, grad_fn=<DivBackward0>), tensor(8.6534, grad_fn=<DivBackward0>), tensor(4.6086, grad_fn=<DivBackward0>), tensor(7.5269, grad_fn=<DivBackward0>), tensor(5.8819, grad_fn=<DivBackward0>), tensor(14.4202, grad_fn=<DivBackward0>), tensor(12.0101, grad_fn=<DivBackward0>), tensor(6.0756, grad_fn=<DivBackward0>), tensor(8.6372, grad_fn=<DivBackward0>), tensor(13.9128, grad_fn=<DivBackward0>), tensor(12.4261, grad_fn=<DivBackward0>), tensor(18.3297, grad_fn=<DivBackward0>), tensor(9.4173, grad_fn=<DivBackward0>), tensor(6.5895, grad_fn=<DivBackward0>), tensor(9.1040, grad_fn=<DivBackward0>), tensor(5.0538, grad_fn=<DivBackward0>), tensor(5.1882, grad_fn=<DivBackward0>), tensor(27.3724, grad_fn=<DivBackward0>), tensor(5.7316, grad_fn=<DivBackward0>), tensor(9.6052, grad_fn=<DivBackward0>), tensor(4.0332, grad_fn=<DivBackward0>), tensor(4.0583, grad_fn=<DivBackward0>), tensor(8.7257, grad_fn=<DivBackward0>), tensor(4.6379, grad_fn=<DivBackward0>), tensor(12.2985, grad_fn=<DivBackward0>), tensor(3.9549, grad_fn=<DivBackward0>), tensor(9.9340, grad_fn=<DivBackward0>), tensor(15.8781, grad_fn=<DivBackward0>), tensor(14.5814, grad_fn=<DivBackward0>), tensor(6.4957, grad_fn=<DivBackward0>), tensor(8.5771, grad_fn=<DivBackward0>), tensor(6.5681, grad_fn=<DivBackward0>), tensor(5.1228, grad_fn=<DivBackward0>), tensor(8.5771, grad_fn=<DivBackward0>), tensor(13.7056, grad_fn=<DivBackward0>), tensor(15.2866, grad_fn=<DivBackward0>), tensor(19.3045, grad_fn=<DivBackward0>), tensor(5.8368, grad_fn=<DivBackward0>), tensor(4.3031, grad_fn=<DivBackward0>), tensor(7.9521, grad_fn=<DivBackward0>), tensor(8.7682, grad_fn=<DivBackward0>), tensor(8.3679, grad_fn=<DivBackward0>), tensor(14.0793, grad_fn=<DivBackward0>), tensor(6.3572, grad_fn=<DivBackward0>), tensor(5.1949, grad_fn=<DivBackward0>), tensor(7.5904, grad_fn=<DivBackward0>), tensor(5.3065, grad_fn=<DivBackward0>), tensor(13.5458, grad_fn=<DivBackward0>), tensor(23.8706, grad_fn=<DivBackward0>), tensor(5.3025, grad_fn=<DivBackward0>), tensor(4.7418, grad_fn=<DivBackward0>), tensor(4.8812, grad_fn=<DivBackward0>), tensor(16.5595, grad_fn=<DivBackward0>), tensor(18.2341, grad_fn=<DivBackward0>), tensor(15.6716, grad_fn=<DivBackward0>), tensor(10.7831, grad_fn=<DivBackward0>), tensor(8.7176, grad_fn=<DivBackward0>), tensor(21.4650, grad_fn=<DivBackward0>), tensor(6.6074, grad_fn=<DivBackward0>), tensor(6.0745, grad_fn=<DivBackward0>), tensor(9.2967, grad_fn=<DivBackward0>), tensor(8.3659, grad_fn=<DivBackward0>), tensor(6.0323, grad_fn=<DivBackward0>), tensor(6.8747, grad_fn=<DivBackward0>), tensor(11.8439, grad_fn=<DivBackward0>), tensor(9.8893, grad_fn=<DivBackward0>), tensor(4.7750, grad_fn=<DivBackward0>), tensor(5.9498, grad_fn=<DivBackward0>), tensor(10.2693, grad_fn=<DivBackward0>), tensor(12.7739, grad_fn=<DivBackward0>), tensor(10.2953, grad_fn=<DivBackward0>), tensor(13.4368, grad_fn=<DivBackward0>), tensor(6.7917, grad_fn=<DivBackward0>), tensor(20.7638, grad_fn=<DivBackward0>), tensor(14.6749, grad_fn=<DivBackward0>), tensor(8.6138, grad_fn=<DivBackward0>), tensor(10.3731, grad_fn=<DivBackward0>), tensor(12.3756, grad_fn=<DivBackward0>), tensor(20.0709, grad_fn=<DivBackward0>), tensor(13.8085, grad_fn=<DivBackward0>), tensor(9.1344, grad_fn=<DivBackward0>), tensor(16.4955, grad_fn=<DivBackward0>), tensor(6.4600, grad_fn=<DivBackward0>), tensor(6.9364, grad_fn=<DivBackward0>), tensor(5.9457, grad_fn=<DivBackward0>), tensor(8.6693, grad_fn=<DivBackward0>), tensor(7.8417, grad_fn=<DivBackward0>), tensor(11.2050, grad_fn=<DivBackward0>), tensor(11.1658, grad_fn=<DivBackward0>), tensor(7.5895, grad_fn=<DivBackward0>), tensor(10.6573, grad_fn=<DivBackward0>), tensor(5.2145, grad_fn=<DivBackward0>), tensor(23.4251, grad_fn=<DivBackward0>), tensor(21.8509, grad_fn=<DivBackward0>), tensor(7.7049, grad_fn=<DivBackward0>), tensor(12.7896, grad_fn=<DivBackward0>), tensor(9.7029, grad_fn=<DivBackward0>), tensor(10.8419, grad_fn=<DivBackward0>), tensor(10.0591, grad_fn=<DivBackward0>), tensor(10.4006, grad_fn=<DivBackward0>), tensor(8.4933, grad_fn=<DivBackward0>), tensor(11.0975, grad_fn=<DivBackward0>), tensor(8.7947, grad_fn=<DivBackward0>), tensor(21.4500, grad_fn=<DivBackward0>), tensor(6.2619, grad_fn=<DivBackward0>), tensor(9.2458, grad_fn=<DivBackward0>), tensor(7.6072, grad_fn=<DivBackward0>), tensor(15.1982, grad_fn=<DivBackward0>), tensor(20.4823, grad_fn=<DivBackward0>), tensor(12.9129, grad_fn=<DivBackward0>), tensor(11.1610, grad_fn=<DivBackward0>), tensor(16.8576, grad_fn=<DivBackward0>), tensor(12.3342, grad_fn=<DivBackward0>), tensor(8.1293, grad_fn=<DivBackward0>), tensor(6.7779, grad_fn=<DivBackward0>), tensor(7.6249, grad_fn=<DivBackward0>), tensor(22.7081, grad_fn=<DivBackward0>), tensor(5.7881, grad_fn=<DivBackward0>), tensor(4.4066, grad_fn=<DivBackward0>), tensor(8.1703, grad_fn=<DivBackward0>), tensor(21.7193, grad_fn=<DivBackward0>), tensor(6.3073, grad_fn=<DivBackward0>), tensor(9.8127, grad_fn=<DivBackward0>), tensor(5.7836, grad_fn=<DivBackward0>), tensor(10.2363, grad_fn=<DivBackward0>), tensor(18.2788, grad_fn=<DivBackward0>), tensor(6.8207, grad_fn=<DivBackward0>), tensor(5.2132, grad_fn=<DivBackward0>), tensor(12.5222, grad_fn=<DivBackward0>), tensor(6.5097, grad_fn=<DivBackward0>), tensor(11.0002, grad_fn=<DivBackward0>), tensor(10.3159, grad_fn=<DivBackward0>), tensor(8.6980, grad_fn=<DivBackward0>), tensor(8.5427, grad_fn=<DivBackward0>), tensor(8.0505, grad_fn=<DivBackward0>), tensor(24.6220, grad_fn=<DivBackward0>), tensor(8.2103, grad_fn=<DivBackward0>), tensor(23.7622, grad_fn=<DivBackward0>), tensor(12.6685, grad_fn=<DivBackward0>), tensor(5.9414, grad_fn=<DivBackward0>), tensor(7.0427, grad_fn=<DivBackward0>), tensor(13.1456, grad_fn=<DivBackward0>), tensor(14.6535, grad_fn=<DivBackward0>), tensor(15.7829, grad_fn=<DivBackward0>), tensor(8.3821, grad_fn=<DivBackward0>), tensor(4.8991, grad_fn=<DivBackward0>), tensor(11.4365, grad_fn=<DivBackward0>), tensor(5.3109, grad_fn=<DivBackward0>), tensor(13.5511, grad_fn=<DivBackward0>), tensor(6.7117, grad_fn=<DivBackward0>), tensor(16.7457, grad_fn=<DivBackward0>), tensor(9.9030, grad_fn=<DivBackward0>), tensor(8.3091, grad_fn=<DivBackward0>), tensor(5.5517, grad_fn=<DivBackward0>), tensor(22.8768, grad_fn=<DivBackward0>), tensor(16.8211, grad_fn=<DivBackward0>), tensor(19.7253, grad_fn=<DivBackward0>), tensor(8.2324, grad_fn=<DivBackward0>), tensor(24.6199, grad_fn=<DivBackward0>), tensor(9.5301, grad_fn=<DivBackward0>), tensor(7.0232, grad_fn=<DivBackward0>), tensor(15.7062, grad_fn=<DivBackward0>), tensor(4.3195, grad_fn=<DivBackward0>), tensor(17.2053, grad_fn=<DivBackward0>), tensor(5.5897, grad_fn=<DivBackward0>), tensor(18.8703, grad_fn=<DivBackward0>), tensor(11.3352, grad_fn=<DivBackward0>), tensor(7.5038, grad_fn=<DivBackward0>), tensor(19.2376, grad_fn=<DivBackward0>), tensor(20.7658, grad_fn=<DivBackward0>), tensor(13.7463, grad_fn=<DivBackward0>), tensor(9.5327, grad_fn=<DivBackward0>), tensor(4.7861, grad_fn=<DivBackward0>), tensor(8.1146, grad_fn=<DivBackward0>), tensor(9.4493, grad_fn=<DivBackward0>), tensor(6.5540, grad_fn=<DivBackward0>), tensor(16.9937, grad_fn=<DivBackward0>), tensor(6.7101, grad_fn=<DivBackward0>), tensor(14.2230, grad_fn=<DivBackward0>), tensor(24.4518, grad_fn=<DivBackward0>), tensor(7.6888, grad_fn=<DivBackward0>), tensor(23.5214, grad_fn=<DivBackward0>), tensor(7.7951, grad_fn=<DivBackward0>), tensor(7.0741, grad_fn=<DivBackward0>), tensor(6.1749, grad_fn=<DivBackward0>), tensor(31.3391, grad_fn=<DivBackward0>), tensor(16.9267, grad_fn=<DivBackward0>), tensor(21.7117, grad_fn=<DivBackward0>), tensor(19.6552, grad_fn=<DivBackward0>), tensor(6.5220, grad_fn=<DivBackward0>), tensor(7.9108, grad_fn=<DivBackward0>), tensor(8.1432, grad_fn=<DivBackward0>), tensor(21.1915, grad_fn=<DivBackward0>), tensor(11.4563, grad_fn=<DivBackward0>), tensor(6.0417, grad_fn=<DivBackward0>), tensor(4.9086, grad_fn=<DivBackward0>), tensor(7.4201, grad_fn=<DivBackward0>), tensor(10.1534, grad_fn=<DivBackward0>), tensor(12.9647, grad_fn=<DivBackward0>), tensor(11.6540, grad_fn=<DivBackward0>), tensor(5.3078, grad_fn=<DivBackward0>), tensor(10.9860, grad_fn=<DivBackward0>), tensor(22.5663, grad_fn=<DivBackward0>), tensor(4.0171, grad_fn=<DivBackward0>), tensor(4.4895, grad_fn=<DivBackward0>), tensor(14.2520, grad_fn=<DivBackward0>), tensor(7.9312, grad_fn=<DivBackward0>), tensor(15.1217, grad_fn=<DivBackward0>), tensor(15.7584, grad_fn=<DivBackward0>), tensor(6.6695, grad_fn=<DivBackward0>), tensor(6.2359, grad_fn=<DivBackward0>), tensor(18.7551, grad_fn=<DivBackward0>), tensor(6.2395, grad_fn=<DivBackward0>), tensor(6.2590, grad_fn=<DivBackward0>), tensor(12.8986, grad_fn=<DivBackward0>), tensor(8.8167, grad_fn=<DivBackward0>), tensor(5.4379, grad_fn=<DivBackward0>), tensor(11.8764, grad_fn=<DivBackward0>), tensor(9.1718, grad_fn=<DivBackward0>), tensor(13.2921, grad_fn=<DivBackward0>), tensor(10.5084, grad_fn=<DivBackward0>), tensor(6.0512, grad_fn=<DivBackward0>), tensor(6.3992, grad_fn=<DivBackward0>), tensor(9.4649, grad_fn=<DivBackward0>), tensor(10.7153, grad_fn=<DivBackward0>), tensor(20.3032, grad_fn=<DivBackward0>), tensor(17.7303, grad_fn=<DivBackward0>), tensor(4.3719, grad_fn=<DivBackward0>), tensor(8.6805, grad_fn=<DivBackward0>), tensor(14.6926, grad_fn=<DivBackward0>), tensor(9.4698, grad_fn=<DivBackward0>), tensor(12.0468, grad_fn=<DivBackward0>), tensor(20.6644, grad_fn=<DivBackward0>), tensor(6.5316, grad_fn=<DivBackward0>), tensor(13.0779, grad_fn=<DivBackward0>), tensor(8.6387, grad_fn=<DivBackward0>), tensor(20.4226, grad_fn=<DivBackward0>), tensor(6.8113, grad_fn=<DivBackward0>), tensor(13.8213, grad_fn=<DivBackward0>), tensor(11.1745, grad_fn=<DivBackward0>), tensor(11.1004, grad_fn=<DivBackward0>), tensor(10.7205, grad_fn=<DivBackward0>), tensor(7.8788, grad_fn=<DivBackward0>), tensor(6.0890, grad_fn=<DivBackward0>), tensor(7.0310, grad_fn=<DivBackward0>), tensor(12.7261, grad_fn=<DivBackward0>), tensor(5.8240, grad_fn=<DivBackward0>), tensor(6.9140, grad_fn=<DivBackward0>), tensor(10.7574, grad_fn=<DivBackward0>), tensor(11.5796, grad_fn=<DivBackward0>), tensor(9.4283, grad_fn=<DivBackward0>), tensor(15.2511, grad_fn=<DivBackward0>), tensor(7.0351, grad_fn=<DivBackward0>), tensor(10.6222, grad_fn=<DivBackward0>), tensor(13.3469, grad_fn=<DivBackward0>), tensor(16.2583, grad_fn=<DivBackward0>), tensor(14.3988, grad_fn=<DivBackward0>), tensor(16.0780, grad_fn=<DivBackward0>), tensor(9.9383, grad_fn=<DivBackward0>), tensor(14.5370, grad_fn=<DivBackward0>), tensor(10.0514, grad_fn=<DivBackward0>), tensor(10.3185, grad_fn=<DivBackward0>), tensor(11.5983, grad_fn=<DivBackward0>), tensor(16.0695, grad_fn=<DivBackward0>), tensor(18.2119, grad_fn=<DivBackward0>), tensor(17.3344, grad_fn=<DivBackward0>), tensor(14.2340, grad_fn=<DivBackward0>), tensor(11.3667, grad_fn=<DivBackward0>), tensor(10.7849, grad_fn=<DivBackward0>), tensor(11.3026, grad_fn=<DivBackward0>), tensor(14.4244, grad_fn=<DivBackward0>), tensor(14.9669, grad_fn=<DivBackward0>), tensor(10.2817, grad_fn=<DivBackward0>), tensor(20.1019, grad_fn=<DivBackward0>), tensor(26.6956, grad_fn=<DivBackward0>), tensor(10.9265, grad_fn=<DivBackward0>), tensor(19.7904, grad_fn=<DivBackward0>), tensor(23.9023, grad_fn=<DivBackward0>), tensor(11.3403, grad_fn=<DivBackward0>), tensor(17.1035, grad_fn=<DivBackward0>), tensor(21.2422, grad_fn=<DivBackward0>), tensor(8.2928, grad_fn=<DivBackward0>), tensor(12.1049, grad_fn=<DivBackward0>), tensor(11.0261, grad_fn=<DivBackward0>), tensor(17.3415, grad_fn=<DivBackward0>), tensor(19.3193, grad_fn=<DivBackward0>), tensor(26.6613, grad_fn=<DivBackward0>), tensor(25.7819, grad_fn=<DivBackward0>), tensor(9.9325, grad_fn=<DivBackward0>), tensor(22.5299, grad_fn=<DivBackward0>), tensor(14.7613, grad_fn=<DivBackward0>), tensor(25.4854, grad_fn=<DivBackward0>), tensor(30.6198, grad_fn=<DivBackward0>), tensor(12.2512, grad_fn=<DivBackward0>), tensor(27.5487, grad_fn=<DivBackward0>), tensor(23.7911, grad_fn=<DivBackward0>), tensor(19.4050, grad_fn=<DivBackward0>), tensor(23.5103, grad_fn=<DivBackward0>), tensor(17.9500, grad_fn=<DivBackward0>), tensor(28.7414, grad_fn=<DivBackward0>), tensor(12.2094, grad_fn=<DivBackward0>), tensor(16.0383, grad_fn=<DivBackward0>), tensor(27.6131, grad_fn=<DivBackward0>), tensor(15.8617, grad_fn=<DivBackward0>), tensor(23.6139, grad_fn=<DivBackward0>), tensor(24.5173, grad_fn=<DivBackward0>), tensor(31.5023, grad_fn=<DivBackward0>), tensor(16.3145, grad_fn=<DivBackward0>), tensor(26.4500, grad_fn=<DivBackward0>), tensor(32.9242, grad_fn=<DivBackward0>), tensor(22.8173, grad_fn=<DivBackward0>), tensor(31.4237, grad_fn=<DivBackward0>), tensor(14.1244, grad_fn=<DivBackward0>), tensor(18.4907, grad_fn=<DivBackward0>), tensor(22.4867, grad_fn=<DivBackward0>), tensor(17.3746, grad_fn=<DivBackward0>), tensor(29.9990, grad_fn=<DivBackward0>), tensor(22.2658, grad_fn=<DivBackward0>), tensor(8.9966, grad_fn=<DivBackward0>), tensor(24.9753, grad_fn=<DivBackward0>), tensor(13.6866, grad_fn=<DivBackward0>), tensor(16.9921, grad_fn=<DivBackward0>), tensor(29.9649, grad_fn=<DivBackward0>), tensor(29.9611, grad_fn=<DivBackward0>), tensor(14.8200, grad_fn=<DivBackward0>), tensor(8.9800, grad_fn=<DivBackward0>), tensor(18.1469, grad_fn=<DivBackward0>), tensor(32.6269, grad_fn=<DivBackward0>), tensor(22.0808, grad_fn=<DivBackward0>), tensor(32.9036, grad_fn=<DivBackward0>), tensor(19.8701, grad_fn=<DivBackward0>), tensor(36.0417, grad_fn=<DivBackward0>), tensor(35.4059, grad_fn=<DivBackward0>), tensor(31.6897, grad_fn=<DivBackward0>), tensor(19.8064, grad_fn=<DivBackward0>), tensor(39.3948, grad_fn=<DivBackward0>), tensor(32.5093, grad_fn=<DivBackward0>), tensor(21.8265, grad_fn=<DivBackward0>), tensor(40.9792, grad_fn=<DivBackward0>), tensor(30.7039, grad_fn=<DivBackward0>), tensor(23.8798, grad_fn=<DivBackward0>), tensor(46.6680, grad_fn=<DivBackward0>), tensor(43.3169, grad_fn=<DivBackward0>), tensor(33.9307, grad_fn=<DivBackward0>), tensor(11.7431, grad_fn=<DivBackward0>), tensor(17.6304, grad_fn=<DivBackward0>), tensor(20.0258, grad_fn=<DivBackward0>), tensor(30.8098, grad_fn=<DivBackward0>), tensor(44.0299, grad_fn=<DivBackward0>), tensor(21.3901, grad_fn=<DivBackward0>), tensor(25.7930, grad_fn=<DivBackward0>), tensor(27.3433, grad_fn=<DivBackward0>), tensor(30.6879, grad_fn=<DivBackward0>), tensor(32.9778, grad_fn=<DivBackward0>), tensor(30.9703, grad_fn=<DivBackward0>), tensor(31.4090, grad_fn=<DivBackward0>), tensor(30.9052, grad_fn=<DivBackward0>), tensor(25.2765, grad_fn=<DivBackward0>), tensor(25.7215, grad_fn=<DivBackward0>), tensor(25.8283, grad_fn=<DivBackward0>), tensor(23.5336, grad_fn=<DivBackward0>), tensor(25.9499, grad_fn=<DivBackward0>), tensor(37.8618, grad_fn=<DivBackward0>), tensor(29.5354, grad_fn=<DivBackward0>), tensor(21.2467, grad_fn=<DivBackward0>), tensor(25.0887, grad_fn=<DivBackward0>), tensor(39.1430, grad_fn=<DivBackward0>), tensor(31.7554, grad_fn=<DivBackward0>), tensor(13.8881, grad_fn=<DivBackward0>), tensor(45.6440, grad_fn=<DivBackward0>), tensor(23.3891, grad_fn=<DivBackward0>), tensor(21.3191, grad_fn=<DivBackward0>), tensor(34.6518, grad_fn=<DivBackward0>), tensor(25.5759, grad_fn=<DivBackward0>), tensor(23.9918, grad_fn=<DivBackward0>), tensor(27.7699, grad_fn=<DivBackward0>), tensor(37.5630, grad_fn=<DivBackward0>), tensor(26.2767, grad_fn=<DivBackward0>), tensor(8.6317, grad_fn=<DivBackward0>), tensor(26.8730, grad_fn=<DivBackward0>), tensor(34.2076, grad_fn=<DivBackward0>), tensor(28.1802, grad_fn=<DivBackward0>), tensor(23.5998, grad_fn=<DivBackward0>), tensor(11.3689, grad_fn=<DivBackward0>), tensor(29.6475, grad_fn=<DivBackward0>), tensor(26.7157, grad_fn=<DivBackward0>), tensor(22.5224, grad_fn=<DivBackward0>), tensor(22.6478, grad_fn=<DivBackward0>), tensor(28.5298, grad_fn=<DivBackward0>), tensor(29.2740, grad_fn=<DivBackward0>), tensor(39.6892, grad_fn=<DivBackward0>), tensor(34.9164, grad_fn=<DivBackward0>), tensor(24.0471, grad_fn=<DivBackward0>), tensor(28.6616, grad_fn=<DivBackward0>), tensor(11.0672, grad_fn=<DivBackward0>), tensor(31.3069, grad_fn=<DivBackward0>), tensor(27.0949, grad_fn=<DivBackward0>), tensor(28.6243, grad_fn=<DivBackward0>), tensor(20.1749, grad_fn=<DivBackward0>), tensor(24.9582, grad_fn=<DivBackward0>), tensor(21.4208, grad_fn=<DivBackward0>), tensor(25.0881, grad_fn=<DivBackward0>), tensor(12.4254, grad_fn=<DivBackward0>), tensor(12.4924, grad_fn=<DivBackward0>), tensor(33.8835, grad_fn=<DivBackward0>), tensor(31.2441, grad_fn=<DivBackward0>), tensor(7.4780, grad_fn=<DivBackward0>), tensor(30.1950, grad_fn=<DivBackward0>), tensor(10.9775, grad_fn=<DivBackward0>), tensor(11.5354, grad_fn=<DivBackward0>), tensor(26.0263, grad_fn=<DivBackward0>), tensor(26.8933, grad_fn=<DivBackward0>), tensor(29.5182, grad_fn=<DivBackward0>), tensor(26.5455, grad_fn=<DivBackward0>), tensor(25.1432, grad_fn=<DivBackward0>), tensor(16.6502, grad_fn=<DivBackward0>), tensor(27.1325, grad_fn=<DivBackward0>), tensor(31.7570, grad_fn=<DivBackward0>), tensor(6.0709, grad_fn=<DivBackward0>), tensor(27.2787, grad_fn=<DivBackward0>), tensor(11.2708, grad_fn=<DivBackward0>), tensor(24.4434, grad_fn=<DivBackward0>), tensor(24.0581, grad_fn=<DivBackward0>), tensor(16.6233, grad_fn=<DivBackward0>), tensor(36.3238, grad_fn=<DivBackward0>), tensor(29.5301, grad_fn=<DivBackward0>), tensor(25.5642, grad_fn=<DivBackward0>), tensor(6.4793, grad_fn=<DivBackward0>), tensor(28.4098, grad_fn=<DivBackward0>), tensor(29.4537, grad_fn=<DivBackward0>), tensor(21.7208, grad_fn=<DivBackward0>), tensor(25.7786, grad_fn=<DivBackward0>), tensor(22.1776, grad_fn=<DivBackward0>), tensor(27.8216, grad_fn=<DivBackward0>), tensor(18.8286, grad_fn=<DivBackward0>), tensor(29.5478, grad_fn=<DivBackward0>), tensor(24.3956, grad_fn=<DivBackward0>), tensor(25.0881, grad_fn=<DivBackward0>), tensor(33.6544, grad_fn=<DivBackward0>), tensor(29.3979, grad_fn=<DivBackward0>), tensor(21.7187, grad_fn=<DivBackward0>), tensor(15.3331, grad_fn=<DivBackward0>), tensor(26.6427, grad_fn=<DivBackward0>), tensor(32.5805, grad_fn=<DivBackward0>), tensor(16.4062, grad_fn=<DivBackward0>), tensor(26.0307, grad_fn=<DivBackward0>), tensor(8.5789, grad_fn=<DivBackward0>), tensor(20.7625, grad_fn=<DivBackward0>), tensor(11.9674, grad_fn=<DivBackward0>), tensor(28.4195, grad_fn=<DivBackward0>), tensor(30.8525, grad_fn=<DivBackward0>), tensor(23.5536, grad_fn=<DivBackward0>), tensor(25.4511, grad_fn=<DivBackward0>), tensor(25.1774, grad_fn=<DivBackward0>), tensor(27.4756, grad_fn=<DivBackward0>), tensor(9.7507, grad_fn=<DivBackward0>), tensor(25.7993, grad_fn=<DivBackward0>), tensor(27.1069, grad_fn=<DivBackward0>), tensor(22.5738, grad_fn=<DivBackward0>), tensor(24.4947, grad_fn=<DivBackward0>), tensor(29.4630, grad_fn=<DivBackward0>), tensor(25.9731, grad_fn=<DivBackward0>), tensor(23.8137, grad_fn=<DivBackward0>), tensor(25.0550, grad_fn=<DivBackward0>), tensor(21.6436, grad_fn=<DivBackward0>), tensor(33.5553, grad_fn=<DivBackward0>), tensor(27.2982, grad_fn=<DivBackward0>), tensor(26.7783, grad_fn=<DivBackward0>), tensor(29.6787, grad_fn=<DivBackward0>), tensor(22.7823, grad_fn=<DivBackward0>), tensor(27.8128, grad_fn=<DivBackward0>), tensor(6.4102, grad_fn=<DivBackward0>), tensor(35.9553, grad_fn=<DivBackward0>), tensor(36.2237, grad_fn=<DivBackward0>), tensor(19.8312, grad_fn=<DivBackward0>), tensor(28.9116, grad_fn=<DivBackward0>), tensor(24.0805, grad_fn=<DivBackward0>), tensor(35.3503, grad_fn=<DivBackward0>), tensor(30.6522, grad_fn=<DivBackward0>), tensor(20.2202, grad_fn=<DivBackward0>), tensor(23.8031, grad_fn=<DivBackward0>), tensor(19.8865, grad_fn=<DivBackward0>), tensor(21.9929, grad_fn=<DivBackward0>), tensor(31.9366, grad_fn=<DivBackward0>), tensor(33.3001, grad_fn=<DivBackward0>), tensor(19.7981, grad_fn=<DivBackward0>), tensor(38.8741, grad_fn=<DivBackward0>), tensor(33.9291, grad_fn=<DivBackward0>), tensor(21.7384, grad_fn=<DivBackward0>), tensor(36.3381, grad_fn=<DivBackward0>), tensor(27.5447, grad_fn=<DivBackward0>), tensor(29.8937, grad_fn=<DivBackward0>), tensor(31.9816, grad_fn=<DivBackward0>), tensor(23.5802, grad_fn=<DivBackward0>), tensor(20.6597, grad_fn=<DivBackward0>), tensor(38.4587, grad_fn=<DivBackward0>), tensor(38.2917, grad_fn=<DivBackward0>), tensor(31.3128, grad_fn=<DivBackward0>), tensor(42.9956, grad_fn=<DivBackward0>), tensor(33.5481, grad_fn=<DivBackward0>), tensor(33.4499, grad_fn=<DivBackward0>), tensor(34.2118, grad_fn=<DivBackward0>), tensor(27.4647, grad_fn=<DivBackward0>), tensor(28.4356, grad_fn=<DivBackward0>), tensor(19.3949, grad_fn=<DivBackward0>), tensor(32.2778, grad_fn=<DivBackward0>), tensor(39.3836, grad_fn=<DivBackward0>), tensor(35.6137, grad_fn=<DivBackward0>), tensor(35.6224, grad_fn=<DivBackward0>), tensor(44.9979, grad_fn=<DivBackward0>), tensor(42.3110, grad_fn=<DivBackward0>), tensor(33.7223, grad_fn=<DivBackward0>), tensor(38.5868, grad_fn=<DivBackward0>), tensor(31.1392, grad_fn=<DivBackward0>), tensor(34.6698, grad_fn=<DivBackward0>), tensor(35.9617, grad_fn=<DivBackward0>), tensor(35.2879, grad_fn=<DivBackward0>), tensor(34.1260, grad_fn=<DivBackward0>), tensor(34.0967, grad_fn=<DivBackward0>), tensor(21.2204, grad_fn=<DivBackward0>), tensor(35.2732, grad_fn=<DivBackward0>), tensor(34.3017, grad_fn=<DivBackward0>), tensor(19.7419, grad_fn=<DivBackward0>), tensor(42.5048, grad_fn=<DivBackward0>), tensor(46.4763, grad_fn=<DivBackward0>), tensor(17.5460, grad_fn=<DivBackward0>), tensor(42.3172, grad_fn=<DivBackward0>), tensor(36.7462, grad_fn=<DivBackward0>), tensor(35.4909, grad_fn=<DivBackward0>), tensor(36.5726, grad_fn=<DivBackward0>), tensor(42.5025, grad_fn=<DivBackward0>), tensor(44.8271, grad_fn=<DivBackward0>), tensor(48.6053, grad_fn=<DivBackward0>), tensor(38.4058, grad_fn=<DivBackward0>), tensor(44.9747, grad_fn=<DivBackward0>), tensor(29.3226, grad_fn=<DivBackward0>), tensor(43.0561, grad_fn=<DivBackward0>), tensor(36.5670, grad_fn=<DivBackward0>), tensor(42.5797, grad_fn=<DivBackward0>), tensor(38.9345, grad_fn=<DivBackward0>), tensor(37.2997, grad_fn=<DivBackward0>), tensor(43.8103, grad_fn=<DivBackward0>), tensor(49.1396, grad_fn=<DivBackward0>), tensor(26.6759, grad_fn=<DivBackward0>), tensor(32.8499, grad_fn=<DivBackward0>), tensor(36.0051, grad_fn=<DivBackward0>), tensor(35.3653, grad_fn=<DivBackward0>), tensor(11.3542, grad_fn=<DivBackward0>), tensor(49.3476, grad_fn=<DivBackward0>), tensor(35.5046, grad_fn=<DivBackward0>), tensor(46.1635, grad_fn=<DivBackward0>), tensor(45.8489, grad_fn=<DivBackward0>), tensor(25.7994, grad_fn=<DivBackward0>), tensor(41.1602, grad_fn=<DivBackward0>), tensor(37.0733, grad_fn=<DivBackward0>), tensor(40.6804, grad_fn=<DivBackward0>), tensor(38.3543, grad_fn=<DivBackward0>), tensor(35.9032, grad_fn=<DivBackward0>), tensor(45.0779, grad_fn=<DivBackward0>), tensor(40.3503, grad_fn=<DivBackward0>), tensor(31.5065, grad_fn=<DivBackward0>), tensor(29.0808, grad_fn=<DivBackward0>), tensor(29.5704, grad_fn=<DivBackward0>), tensor(41.9129, grad_fn=<DivBackward0>), tensor(36.0215, grad_fn=<DivBackward0>), tensor(23.9503, grad_fn=<DivBackward0>), tensor(37.4493, grad_fn=<DivBackward0>), tensor(31.4616, grad_fn=<DivBackward0>), tensor(27.3537, grad_fn=<DivBackward0>), tensor(25.0547, grad_fn=<DivBackward0>), tensor(23.9172, grad_fn=<DivBackward0>), tensor(23.2851, grad_fn=<DivBackward0>), tensor(32.1631, grad_fn=<DivBackward0>), tensor(25.4712, grad_fn=<DivBackward0>), tensor(19.7783, grad_fn=<DivBackward0>), tensor(22.9241, grad_fn=<DivBackward0>), tensor(20.3187, grad_fn=<DivBackward0>), tensor(21.6916, grad_fn=<DivBackward0>), tensor(27.6324, grad_fn=<DivBackward0>), tensor(24.8220, grad_fn=<DivBackward0>), tensor(24.1139, grad_fn=<DivBackward0>), tensor(19.5624, grad_fn=<DivBackward0>), tensor(16.9298, grad_fn=<DivBackward0>), tensor(21.2497, grad_fn=<DivBackward0>), tensor(23.1248, grad_fn=<DivBackward0>), tensor(25.9688, grad_fn=<DivBackward0>), tensor(26.7364, grad_fn=<DivBackward0>), tensor(16.3948, grad_fn=<DivBackward0>), tensor(21.4673, grad_fn=<DivBackward0>), tensor(15.2644, grad_fn=<DivBackward0>), tensor(18.8916, grad_fn=<DivBackward0>), tensor(18.3965, grad_fn=<DivBackward0>), tensor(20.0839, grad_fn=<DivBackward0>), tensor(17.8181, grad_fn=<DivBackward0>), tensor(13.0496, grad_fn=<DivBackward0>), tensor(15.6862, grad_fn=<DivBackward0>), tensor(15.5074, grad_fn=<DivBackward0>), tensor(28.4404, grad_fn=<DivBackward0>), tensor(11.4095, grad_fn=<DivBackward0>), tensor(14.6770, grad_fn=<DivBackward0>), tensor(14.6434, grad_fn=<DivBackward0>), tensor(10.2498, grad_fn=<DivBackward0>), tensor(22.9442, grad_fn=<DivBackward0>), tensor(13.8075, grad_fn=<DivBackward0>), tensor(11.9904, grad_fn=<DivBackward0>), tensor(22.6463, grad_fn=<DivBackward0>), tensor(15.6851, grad_fn=<DivBackward0>), tensor(23.3548, grad_fn=<DivBackward0>), tensor(12.2877, grad_fn=<DivBackward0>), tensor(21.5523, grad_fn=<DivBackward0>), tensor(20.1531, grad_fn=<DivBackward0>), tensor(16.0684, grad_fn=<DivBackward0>), tensor(9.5056, grad_fn=<DivBackward0>), tensor(19.5456, grad_fn=<DivBackward0>), tensor(14.0777, grad_fn=<DivBackward0>), tensor(23.4694, grad_fn=<DivBackward0>), tensor(19.5434, grad_fn=<DivBackward0>), tensor(25.7784, grad_fn=<DivBackward0>), tensor(23.7437, grad_fn=<DivBackward0>), tensor(18.8946, grad_fn=<DivBackward0>), tensor(17.5003, grad_fn=<DivBackward0>), tensor(22.0944, grad_fn=<DivBackward0>), tensor(28.8720, grad_fn=<DivBackward0>), tensor(28.1475, grad_fn=<DivBackward0>), tensor(27.2169, grad_fn=<DivBackward0>), tensor(19.1604, grad_fn=<DivBackward0>), tensor(20.6991, grad_fn=<DivBackward0>), tensor(21.7118, grad_fn=<DivBackward0>), tensor(16.8429, grad_fn=<DivBackward0>), tensor(33.3505, grad_fn=<DivBackward0>), tensor(28.5351, grad_fn=<DivBackward0>), tensor(26.0461, grad_fn=<DivBackward0>), tensor(23.9589, grad_fn=<DivBackward0>), tensor(22.9393, grad_fn=<DivBackward0>), tensor(25.4154, grad_fn=<DivBackward0>), tensor(24.8690, grad_fn=<DivBackward0>), tensor(23.5043, grad_fn=<DivBackward0>), tensor(31.1661, grad_fn=<DivBackward0>), tensor(29.4765, grad_fn=<DivBackward0>), tensor(23.5994, grad_fn=<DivBackward0>), tensor(23.3069, grad_fn=<DivBackward0>), tensor(31.9354, grad_fn=<DivBackward0>), tensor(27.7743, grad_fn=<DivBackward0>), tensor(33.6420, grad_fn=<DivBackward0>), tensor(32.0409, grad_fn=<DivBackward0>), tensor(44.0877, grad_fn=<DivBackward0>), tensor(29.4981, grad_fn=<DivBackward0>), tensor(23.3484, grad_fn=<DivBackward0>), tensor(30.7385, grad_fn=<DivBackward0>), tensor(31.6898, grad_fn=<DivBackward0>), tensor(31.6255, grad_fn=<DivBackward0>), tensor(22.1051, grad_fn=<DivBackward0>), tensor(40.0078, grad_fn=<DivBackward0>), tensor(36.9331, grad_fn=<DivBackward0>), tensor(34.2395, grad_fn=<DivBackward0>), tensor(26.1644, grad_fn=<DivBackward0>), tensor(27.1400, grad_fn=<DivBackward0>), tensor(30.2794, grad_fn=<DivBackward0>), tensor(33.8389, grad_fn=<DivBackward0>), tensor(40.8527, grad_fn=<DivBackward0>), tensor(27.5512, grad_fn=<DivBackward0>), tensor(32.9951, grad_fn=<DivBackward0>), tensor(30.7914, grad_fn=<DivBackward0>), tensor(34.4907, grad_fn=<DivBackward0>), tensor(25.4847, grad_fn=<DivBackward0>), tensor(38.5732, grad_fn=<DivBackward0>), tensor(40.2187, grad_fn=<DivBackward0>), tensor(24.1605, grad_fn=<DivBackward0>), tensor(22.8568, grad_fn=<DivBackward0>), tensor(27.9958, grad_fn=<DivBackward0>), tensor(33.0694, grad_fn=<DivBackward0>), tensor(29.2046, grad_fn=<DivBackward0>), tensor(26.4395, grad_fn=<DivBackward0>), tensor(25.9519, grad_fn=<DivBackward0>), tensor(24.5867, grad_fn=<DivBackward0>), tensor(25.4258, grad_fn=<DivBackward0>), tensor(29.3483, grad_fn=<DivBackward0>), tensor(33.5377, grad_fn=<DivBackward0>), tensor(29.8733, grad_fn=<DivBackward0>), tensor(22.1263, grad_fn=<DivBackward0>), tensor(33.5376, grad_fn=<DivBackward0>), tensor(22.6905, grad_fn=<DivBackward0>), tensor(27.1464, grad_fn=<DivBackward0>), tensor(28.4391, grad_fn=<DivBackward0>), tensor(26.7935, grad_fn=<DivBackward0>), tensor(31.1999, grad_fn=<DivBackward0>), tensor(39.5655, grad_fn=<DivBackward0>), tensor(29.8278, grad_fn=<DivBackward0>), tensor(29.5509, grad_fn=<DivBackward0>), tensor(36.8446, grad_fn=<DivBackward0>), tensor(45.5967, grad_fn=<DivBackward0>), tensor(43.1516, grad_fn=<DivBackward0>), tensor(23.9162, grad_fn=<DivBackward0>), tensor(29.1916, grad_fn=<DivBackward0>), tensor(34.2378, grad_fn=<DivBackward0>), tensor(42.5343, grad_fn=<DivBackward0>), tensor(46.8614, grad_fn=<DivBackward0>), tensor(39.6322, grad_fn=<DivBackward0>), tensor(34.1338, grad_fn=<DivBackward0>), tensor(28.9914, grad_fn=<DivBackward0>), tensor(43.3600, grad_fn=<DivBackward0>), tensor(45.0697, grad_fn=<DivBackward0>), tensor(39.2299, grad_fn=<DivBackward0>), tensor(43.4032, grad_fn=<DivBackward0>), tensor(31.9985, grad_fn=<DivBackward0>), tensor(43.5472, grad_fn=<DivBackward0>), tensor(32.0642, grad_fn=<DivBackward0>), tensor(47.1641, grad_fn=<DivBackward0>), tensor(42.5794, grad_fn=<DivBackward0>), tensor(35.8659, grad_fn=<DivBackward0>), tensor(39.4000, grad_fn=<DivBackward0>), tensor(42.6799, grad_fn=<DivBackward0>), tensor(31.4429, grad_fn=<DivBackward0>), tensor(39.0697, grad_fn=<DivBackward0>), tensor(43.0924, grad_fn=<DivBackward0>), tensor(42.2334, grad_fn=<DivBackward0>), tensor(33.8494, grad_fn=<DivBackward0>), tensor(44.2790, grad_fn=<DivBackward0>), tensor(34.7756, grad_fn=<DivBackward0>), tensor(39.7300, grad_fn=<DivBackward0>), tensor(32.1097, grad_fn=<DivBackward0>), tensor(40.3418, grad_fn=<DivBackward0>), tensor(45.9607, grad_fn=<DivBackward0>), tensor(45.4541, grad_fn=<DivBackward0>), tensor(45.7316, grad_fn=<DivBackward0>), tensor(41.8358, grad_fn=<DivBackward0>), tensor(32.5901, grad_fn=<DivBackward0>), tensor(31.7882, grad_fn=<DivBackward0>), tensor(31.8891, grad_fn=<DivBackward0>), tensor(39.6064, grad_fn=<DivBackward0>), tensor(37.3615, grad_fn=<DivBackward0>), tensor(49.5660, grad_fn=<DivBackward0>), tensor(41.7648, grad_fn=<DivBackward0>), tensor(35.1181, grad_fn=<DivBackward0>), tensor(42.3918, grad_fn=<DivBackward0>), tensor(45.6928, grad_fn=<DivBackward0>), tensor(41.6160, grad_fn=<DivBackward0>), tensor(33.6536, grad_fn=<DivBackward0>), tensor(33.8786, grad_fn=<DivBackward0>), tensor(46.6371, grad_fn=<DivBackward0>), tensor(35.3674, grad_fn=<DivBackward0>), tensor(45.8155, grad_fn=<DivBackward0>), tensor(35.1765, grad_fn=<DivBackward0>), tensor(47.5768, grad_fn=<DivBackward0>), tensor(45.7257, grad_fn=<DivBackward0>), tensor(34.3315, grad_fn=<DivBackward0>), tensor(36.4736, grad_fn=<DivBackward0>), tensor(43.1646, grad_fn=<DivBackward0>), tensor(41.0253, grad_fn=<DivBackward0>), tensor(46.4674, grad_fn=<DivBackward0>), tensor(45.0961, grad_fn=<DivBackward0>), tensor(32.3926, grad_fn=<DivBackward0>), tensor(31.3416, grad_fn=<DivBackward0>), tensor(38.2709, grad_fn=<DivBackward0>), tensor(32.0650, grad_fn=<DivBackward0>), tensor(33.5667, grad_fn=<DivBackward0>), tensor(36.8210, grad_fn=<DivBackward0>), tensor(48.6880, grad_fn=<DivBackward0>), tensor(31.7403, grad_fn=<DivBackward0>), tensor(40.3766, grad_fn=<DivBackward0>), tensor(34.8333, grad_fn=<DivBackward0>), tensor(31.8001, grad_fn=<DivBackward0>), tensor(31.9732, grad_fn=<DivBackward0>), tensor(31.8985, grad_fn=<DivBackward0>), tensor(32.0005, grad_fn=<DivBackward0>), tensor(33.8657, grad_fn=<DivBackward0>), tensor(31.1255, grad_fn=<DivBackward0>), tensor(40.5842, grad_fn=<DivBackward0>), tensor(33.6127, grad_fn=<DivBackward0>), tensor(38.4961, grad_fn=<DivBackward0>), tensor(30.4925, grad_fn=<DivBackward0>), tensor(37.8456, grad_fn=<DivBackward0>), tensor(35.2274, grad_fn=<DivBackward0>), tensor(30.7629, grad_fn=<DivBackward0>), tensor(31.5629, grad_fn=<DivBackward0>), tensor(37.1599, grad_fn=<DivBackward0>), tensor(28.2439, grad_fn=<DivBackward0>), tensor(38.6574, grad_fn=<DivBackward0>), tensor(33.5627, grad_fn=<DivBackward0>), tensor(31.4024, grad_fn=<DivBackward0>), tensor(30.6068, grad_fn=<DivBackward0>), tensor(28.6736, grad_fn=<DivBackward0>), tensor(30.9186, grad_fn=<DivBackward0>), tensor(36.8356, grad_fn=<DivBackward0>), tensor(28.9417, grad_fn=<DivBackward0>), tensor(34.6315, grad_fn=<DivBackward0>), tensor(37.1901, grad_fn=<DivBackward0>), tensor(31.7858, grad_fn=<DivBackward0>), tensor(26.5650, grad_fn=<DivBackward0>), tensor(27.4090, grad_fn=<DivBackward0>), tensor(32.6936, grad_fn=<DivBackward0>), tensor(34.2916, grad_fn=<DivBackward0>), tensor(28.6865, grad_fn=<DivBackward0>), tensor(33.8997, grad_fn=<DivBackward0>), tensor(27.8548, grad_fn=<DivBackward0>), tensor(29.4367, grad_fn=<DivBackward0>), tensor(25.6367, grad_fn=<DivBackward0>), tensor(27.4963, grad_fn=<DivBackward0>), tensor(28.8437, grad_fn=<DivBackward0>), tensor(30.5225, grad_fn=<DivBackward0>), tensor(31.7871, grad_fn=<DivBackward0>), tensor(27.8465, grad_fn=<DivBackward0>), tensor(40.3842, grad_fn=<DivBackward0>), tensor(23.5432, grad_fn=<DivBackward0>), tensor(34.7736, grad_fn=<DivBackward0>), tensor(35.7629, grad_fn=<DivBackward0>), tensor(27.6387, grad_fn=<DivBackward0>), tensor(31.3316, grad_fn=<DivBackward0>), tensor(27.8886, grad_fn=<DivBackward0>), tensor(32.7384, grad_fn=<DivBackward0>), tensor(31.7549, grad_fn=<DivBackward0>), tensor(27.7410, grad_fn=<DivBackward0>), tensor(25.3519, grad_fn=<DivBackward0>), tensor(23.6430, grad_fn=<DivBackward0>), tensor(29.6622, grad_fn=<DivBackward0>), tensor(32.2786, grad_fn=<DivBackward0>), tensor(32.2567, grad_fn=<DivBackward0>), tensor(24.8504, grad_fn=<DivBackward0>), tensor(30.0323, grad_fn=<DivBackward0>), tensor(23.4159, grad_fn=<DivBackward0>), tensor(25.3699, grad_fn=<DivBackward0>), tensor(25.5988, grad_fn=<DivBackward0>), tensor(30.0989, grad_fn=<DivBackward0>), tensor(27.7165, grad_fn=<DivBackward0>), tensor(29.7890, grad_fn=<DivBackward0>), tensor(27.7944, grad_fn=<DivBackward0>), tensor(31.6745, grad_fn=<DivBackward0>), tensor(25.6490, grad_fn=<DivBackward0>), tensor(26.7457, grad_fn=<DivBackward0>), tensor(23.4181, grad_fn=<DivBackward0>), tensor(28.0125, grad_fn=<DivBackward0>), tensor(25.2645, grad_fn=<DivBackward0>), tensor(24.4137, grad_fn=<DivBackward0>), tensor(24.4938, grad_fn=<DivBackward0>), tensor(25.6995, grad_fn=<DivBackward0>), tensor(24.0157, grad_fn=<DivBackward0>), tensor(13.9023, grad_fn=<DivBackward0>), tensor(23.7481, grad_fn=<DivBackward0>), tensor(29.0260, grad_fn=<DivBackward0>), tensor(23.2979, grad_fn=<DivBackward0>), tensor(23.9365, grad_fn=<DivBackward0>), tensor(14.8357, grad_fn=<DivBackward0>), tensor(22.4373, grad_fn=<DivBackward0>), tensor(10.7962, grad_fn=<DivBackward0>), tensor(25.0943, grad_fn=<DivBackward0>), tensor(25.3240, grad_fn=<DivBackward0>), tensor(22.4355, grad_fn=<DivBackward0>), tensor(22.6272, grad_fn=<DivBackward0>), tensor(21.8483, grad_fn=<DivBackward0>), tensor(24.3156, grad_fn=<DivBackward0>), tensor(22.4435, grad_fn=<DivBackward0>), tensor(25.1406, grad_fn=<DivBackward0>), tensor(12.6501, grad_fn=<DivBackward0>), tensor(7.7963, grad_fn=<DivBackward0>), tensor(14.2752, grad_fn=<DivBackward0>), tensor(9.7205, grad_fn=<DivBackward0>), tensor(20.0958, grad_fn=<DivBackward0>), tensor(22.9738, grad_fn=<DivBackward0>), tensor(29.7776, grad_fn=<DivBackward0>), tensor(22.0466, grad_fn=<DivBackward0>), tensor(22.0442, grad_fn=<DivBackward0>), tensor(26.5209, grad_fn=<DivBackward0>), tensor(18.3831, grad_fn=<DivBackward0>), tensor(23.0344, grad_fn=<DivBackward0>), tensor(26.6998, grad_fn=<DivBackward0>), tensor(23.4190, grad_fn=<DivBackward0>), tensor(21.3675, grad_fn=<DivBackward0>), tensor(8.1983, grad_fn=<DivBackward0>), tensor(23.1678, grad_fn=<DivBackward0>), tensor(23.8586, grad_fn=<DivBackward0>), tensor(28.0423, grad_fn=<DivBackward0>), tensor(13.7994, grad_fn=<DivBackward0>), tensor(25.7891, grad_fn=<DivBackward0>), tensor(26.2919, grad_fn=<DivBackward0>), tensor(22.0961, grad_fn=<DivBackward0>), tensor(12.2271, grad_fn=<DivBackward0>), tensor(21.2749, grad_fn=<DivBackward0>), tensor(26.2358, grad_fn=<DivBackward0>), tensor(28.4665, grad_fn=<DivBackward0>), tensor(26.7976, grad_fn=<DivBackward0>), tensor(24.9767, grad_fn=<DivBackward0>), tensor(28.5999, grad_fn=<DivBackward0>), tensor(25.6692, grad_fn=<DivBackward0>), tensor(27.5798, grad_fn=<DivBackward0>), tensor(25.8021, grad_fn=<DivBackward0>), tensor(30.3313, grad_fn=<DivBackward0>), tensor(29.8628, grad_fn=<DivBackward0>), tensor(31.0556, grad_fn=<DivBackward0>), tensor(31.7096, grad_fn=<DivBackward0>), tensor(35.1720, grad_fn=<DivBackward0>), tensor(32.6369, grad_fn=<DivBackward0>), tensor(36.6234, grad_fn=<DivBackward0>), tensor(28.2224, grad_fn=<DivBackward0>), tensor(40.2479, grad_fn=<DivBackward0>), tensor(37.5407, grad_fn=<DivBackward0>), tensor(37.9281, grad_fn=<DivBackward0>), tensor(40.5146, grad_fn=<DivBackward0>), tensor(41.4300, grad_fn=<DivBackward0>), tensor(38.2946, grad_fn=<DivBackward0>), tensor(39.1391, grad_fn=<DivBackward0>), tensor(41.1257, grad_fn=<DivBackward0>), tensor(42.6124, grad_fn=<DivBackward0>), tensor(41.6050, grad_fn=<DivBackward0>), tensor(42.0634, grad_fn=<DivBackward0>), tensor(46.3491, grad_fn=<DivBackward0>), tensor(45.8607, grad_fn=<DivBackward0>), tensor(44.5091, grad_fn=<DivBackward0>), tensor(42.4143, grad_fn=<DivBackward0>), tensor(43.2233, grad_fn=<DivBackward0>), tensor(47.9663, grad_fn=<DivBackward0>), tensor(44.4319, grad_fn=<DivBackward0>), tensor(47.6119, grad_fn=<DivBackward0>), tensor(47.5773, grad_fn=<DivBackward0>), tensor(44.9001, grad_fn=<DivBackward0>), tensor(47.3256, grad_fn=<DivBackward0>), tensor(49.3107, grad_fn=<DivBackward0>), tensor(43.8048, grad_fn=<DivBackward0>), tensor(43.4028, grad_fn=<DivBackward0>), tensor(45.3831, grad_fn=<DivBackward0>), tensor(47.2544, grad_fn=<DivBackward0>), tensor(47.5269, grad_fn=<DivBackward0>), tensor(43.9414, grad_fn=<DivBackward0>), tensor(34.4881, grad_fn=<DivBackward0>), tensor(47.2924, grad_fn=<DivBackward0>), tensor(38.9530, grad_fn=<DivBackward0>), tensor(36.1180, grad_fn=<DivBackward0>), tensor(51.1883, grad_fn=<DivBackward0>), tensor(47.7563, grad_fn=<DivBackward0>), tensor(47.7157, grad_fn=<DivBackward0>), tensor(46.5529, grad_fn=<DivBackward0>), tensor(43.1666, grad_fn=<DivBackward0>), tensor(48.2547, grad_fn=<DivBackward0>), tensor(47.8376, grad_fn=<DivBackward0>), tensor(34.9657, grad_fn=<DivBackward0>), tensor(33.0206, grad_fn=<DivBackward0>), tensor(38.5522, grad_fn=<DivBackward0>), tensor(38.2883, grad_fn=<DivBackward0>), tensor(45.7466, grad_fn=<DivBackward0>), tensor(48.8745, grad_fn=<DivBackward0>), tensor(37.8379, grad_fn=<DivBackward0>), tensor(44.4887, grad_fn=<DivBackward0>), tensor(44.8012, grad_fn=<DivBackward0>), tensor(44.9773, grad_fn=<DivBackward0>), tensor(20.4627, grad_fn=<DivBackward0>), tensor(46.5923, grad_fn=<DivBackward0>), tensor(43.5465, grad_fn=<DivBackward0>), tensor(45.3496, grad_fn=<DivBackward0>), tensor(35.0496, grad_fn=<DivBackward0>), tensor(33.9964, grad_fn=<DivBackward0>), tensor(42.5187, grad_fn=<DivBackward0>), tensor(41.1594, grad_fn=<DivBackward0>), tensor(47.6769, grad_fn=<DivBackward0>), tensor(41.5314, grad_fn=<DivBackward0>), tensor(41.2693, grad_fn=<DivBackward0>), tensor(33.4802, grad_fn=<DivBackward0>), tensor(44.3699, grad_fn=<DivBackward0>)] \n",
            "\n",
            "Train rew avg:  30.0  val:  124.0 Episode:  1199                        Entropic Loss: [22.0, 10.0, 47.0, 20.0, 14.0, 25.0, 18.0, 17.0, 14.0, 25.0, 53.0, 12.0, 16.0, 24.0, 33.0, 14.0, 31.0, 17.0, 22.0, 19.0, 24.0, 14.0, 13.0, 23.0, 20.0, 42.0, 17.0, 19.0, 10.0, 13.0, 22.0, 30.0, 13.0, 15.0, 27.0, 14.0, 28.0, 19.0, 9.0, 17.0, 10.0, 21.0, 12.0, 10.0, 17.0, 14.0, 17.0, 18.0, 17.0, 19.0, 19.0, 22.0, 16.0, 10.0, 21.0, 13.0, 25.0, 20.0, 29.0, 16.0, 18.0, 10.0, 14.0, 16.0, 31.0, 21.0, 28.0, 14.0, 44.0, 22.0, 17.0, 17.0, 33.0, 80.0, 30.0, 27.0, 24.0, 17.0, 27.0, 19.0, 18.0, 29.0, 11.0, 63.0, 16.0, 10.0, 21.0, 65.0, 25.0, 35.0, 20.0, 23.0, 16.0, 20.0, 51.0, 12.0, 52.0, 15.0, 18.0, 30.0, 16.0, 11.0, 17.0, 25.0, 23.0, 31.0, 25.0, 11.0, 55.0, 38.0, 25.0, 53.0, 24.0, 28.0, 28.0, 17.0, 20.0, 45.0, 31.0, 14.0, 16.0, 20.0, 9.0, 18.0, 38.0, 25.0, 79.0, 21.0, 17.0, 21.0, 20.0, 18.0, 17.0, 58.0, 16.0, 18.0, 17.0, 12.0, 32.0, 44.0, 47.0, 31.0, 53.0, 32.0, 22.0, 12.0, 28.0, 19.0, 18.0, 26.0, 34.0, 22.0, 13.0, 38.0, 17.0, 14.0, 15.0, 39.0, 12.0, 38.0, 26.0, 46.0, 19.0, 24.0, 30.0, 33.0, 25.0, 15.0, 25.0, 23.0, 13.0, 37.0, 13.0, 21.0, 32.0, 41.0, 18.0, 15.0, 55.0, 18.0, 33.0, 18.0, 44.0, 85.0, 56.0, 13.0, 54.0, 30.0, 19.0, 17.0, 19.0, 19.0, 32.0, 30.0, 32.0, 39.0, 40.0, 32.0, 17.0, 24.0, 42.0, 18.0, 67.0, 25.0, 59.0, 15.0, 51.0, 34.0, 17.0, 21.0, 44.0, 16.0, 73.0, 23.0, 27.0, 40.0, 34.0, 14.0, 45.0, 11.0, 33.0, 41.0, 21.0, 146.0, 14.0, 38.0, 24.0, 36.0, 33.0, 44.0, 43.0, 46.0, 63.0, 17.0, 16.0, 20.0, 42.0, 25.0, 18.0, 15.0, 39.0, 29.0, 34.0, 36.0, 29.0, 54.0, 33.0, 34.0, 10.0, 32.0, 19.0, 77.0, 59.0, 25.0, 49.0, 37.0, 24.0, 20.0, 22.0, 21.0, 41.0, 28.0, 24.0, 22.0, 22.0, 36.0, 29.0, 19.0, 23.0, 52.0, 17.0, 36.0, 49.0, 38.0, 26.0, 17.0, 19.0, 26.0, 24.0, 23.0, 25.0, 21.0, 51.0, 19.0, 47.0, 27.0, 23.0, 20.0, 47.0, 26.0, 18.0, 54.0, 28.0, 27.0, 11.0, 60.0, 77.0, 9.0, 24.0, 14.0, 25.0, 19.0, 17.0, 84.0, 41.0, 34.0, 15.0, 13.0, 17.0, 65.0, 14.0, 20.0, 30.0, 57.0, 61.0, 26.0, 15.0, 20.0, 28.0, 30.0, 14.0, 27.0, 87.0, 27.0, 31.0, 35.0, 17.0, 15.0, 30.0, 27.0, 19.0, 26.0, 52.0, 62.0, 17.0, 26.0, 58.0, 37.0, 48.0, 25.0, 30.0, 33.0, 25.0, 66.0, 40.0, 43.0, 27.0, 61.0, 22.0, 51.0, 73.0, 18.0, 41.0, 41.0, 38.0, 29.0, 32.0, 44.0, 14.0, 27.0, 27.0, 52.0, 24.0, 27.0, 24.0, 20.0, 29.0, 30.0, 49.0, 54.0, 77.0, 20.0, 25.0, 49.0, 9.0, 35.0, 54.0, 69.0, 25.0, 30.0, 98.0, 37.0, 50.0, 38.0, 29.0, 63.0, 12.0, 26.0, 25.0, 13.0, 47.0, 78.0, 27.0, 43.0, 22.0, 13.0, 23.0, 17.0, 32.0, 74.0, 21.0, 38.0, 44.0, 54.0, 16.0, 56.0, 38.0, 38.0, 26.0, 85.0, 78.0, 15.0, 37.0, 14.0, 102.0, 41.0, 19.0, 20.0, 50.0, 46.0, 18.0, 61.0, 126.0, 12.0, 22.0, 22.0, 120.0, 19.0, 13.0, 26.0, 32.0, 20.0, 31.0, 30.0, 68.0, 51.0, 38.0, 41.0, 13.0, 26.0, 61.0, 45.0, 42.0, 28.0, 20.0, 60.0, 87.0, 37.0, 44.0, 41.0, 38.0, 25.0, 31.0, 27.0, 64.0, 32.0, 25.0, 75.0, 39.0, 103.0, 16.0, 15.0, 114.0, 93.0, 35.0, 20.0, 18.0, 31.0, 25.0, 18.0, 21.0, 144.0, 63.0, 61.0, 33.0, 18.0, 18.0, 26.0, 32.0, 117.0, 35.0, 44.0, 22.0, 22.0, 14.0, 50.0, 29.0, 15.0, 19.0, 63.0, 74.0, 65.0, 18.0, 34.0, 32.0, 80.0, 52.0, 17.0, 71.0, 23.0, 18.0, 22.0, 130.0, 39.0, 44.0, 33.0, 29.0, 47.0, 33.0, 37.0, 11.0, 46.0, 34.0, 96.0, 66.0, 61.0, 18.0, 26.0, 19.0, 32.0, 59.0, 180.0, 22.0, 177.0, 24.0, 62.0, 32.0, 48.0, 31.0, 61.0, 14.0, 51.0, 28.0, 16.0, 83.0, 62.0, 18.0, 18.0, 28.0, 161.0, 154.0, 41.0, 70.0, 13.0, 43.0, 67.0, 44.0, 60.0, 41.0, 32.0, 30.0, 43.0, 12.0, 54.0, 45.0, 32.0, 119.0, 47.0, 32.0, 87.0, 45.0, 32.0, 64.0, 126.0, 105.0, 18.0, 64.0, 155.0, 25.0, 24.0, 53.0, 20.0, 14.0, 35.0, 52.0, 54.0, 113.0, 27.0, 64.0, 109.0, 21.0, 80.0, 56.0, 39.0, 60.0, 21.0, 93.0, 21.0, 64.0, 41.0, 33.0, 47.0, 57.0, 88.0, 193.0, 114.0, 23.0, 30.0, 27.0, 144.0, 57.0, 36.0, 147.0, 41.0, 26.0, 91.0, 46.0, 37.0, 32.0, 45.0, 83.0, 55.0, 82.0, 120.0, 53.0, 121.0, 21.0, 45.0, 111.0, 64.0, 86.0, 40.0, 23.0, 99.0, 66.0, 98.0, 88.0, 84.0, 101.0, 24.0, 84.0, 49.0, 46.0, 68.0, 146.0, 90.0, 81.0, 64.0, 22.0, 93.0, 95.0, 28.0, 46.0, 74.0, 67.0, 38.0, 88.0, 20.0, 26.0, 131.0, 36.0, 65.0, 26.0, 21.0, 155.0, 72.0, 41.0, 117.0, 67.0, 54.0, 52.0, 47.0, 62.0, 28.0, 52.0, 17.0, 57.0, 95.0, 50.0, 102.0, 38.0, 121.0, 84.0, 162.0, 168.0, 149.0, 56.0, 36.0, 38.0, 139.0, 223.0, 134.0, 102.0, 34.0, 139.0, 151.0, 191.0, 67.0, 26.0, 234.0, 121.0, 108.0, 82.0, 76.0, 82.0, 34.0, 98.0, 176.0, 181.0, 198.0, 164.0, 114.0, 82.0, 85.0, 104.0, 115.0, 150.0, 68.0, 200.0, 117.0, 213.0, 352.0, 227.0, 219.0, 79.0, 237.0, 78.0, 83.0, 80.0, 81.0, 130.0, 29.0, 67.0, 140.0, 60.0, 259.0, 116.0, 154.0, 159.0, 198.0, 103.0, 74.0, 166.0, 51.0, 147.0, 169.0, 33.0, 127.0, 64.0, 32.0, 192.0, 87.0, 114.0, 72.0, 102.0, 73.0, 67.0, 166.0, 285.0, 109.0, 274.0, 87.0, 105.0, 148.0, 283.0, 220.0, 159.0, 60.0, 124.0, 176.0, 141.0, 123.0, 146.0, 51.0, 99.0, 165.0, 95.0, 58.0, 177.0, 199.0, 121.0, 94.0, 164.0, 180.0, 62.0, 89.0, 35.0, 112.0, 110.0, 96.0, 229.0, 128.0, 130.0, 84.0, 293.0, 63.0, 51.0, 40.0, 161.0, 100.0, 53.0, 91.0, 134.0, 178.0, 48.0, 81.0, 228.0, 121.0, 83.0, 131.0, 276.0, 99.0, 134.0, 64.0, 127.0, 204.0, 208.0, 86.0, 102.0, 180.0, 50.0, 244.0, 149.0, 95.0, 470.0, 224.0, 628.0, 326.0, 231.0, 94.0, 429.0, 93.0, 364.0, 85.0, 126.0, 84.0, 226.0, 208.0, 161.0, 142.0, 146.0, 113.0, 138.0, 80.0, 122.0, 160.0, 147.0, 215.0, 89.0, 126.0, 110.0, 116.0, 91.0, 368.0, 218.0, 182.0, 169.0, 141.0, 117.0, 165.0, 128.0, 196.0, 164.0, 138.0, 122.0, 347.0, 42.0, 127.0, 510.0, 198.0, 275.0, 221.0, 189.0, 166.0, 112.0, 124.0, 141.0, 360.0, 92.0, 249.0, 258.0, 278.0, 357.0, 257.0, 348.0, 167.0, 123.0, 472.0, 757.0, 313.0, 73.0, 289.0, 250.0, 260.0, 268.0, 391.0, 739.0, 293.0, 250.0, 127.0, 245.0, 394.0, 192.0, 97.0, 301.0, 30.0, 161.0, 87.0, 132.0, 308.0, 186.0, 136.0, 95.0, 455.0, 162.0, 190.0, 244.0, 215.0, 154.0, 288.0, 316.0, 364.0, 168.0, 289.0, 116.0, 260.0, 197.0, 91.0, 222.0, 218.0, 138.0, 398.0, 350.0, 122.0, 136.0, 237.0, 358.0, 172.0, 171.0, 115.0, 66.0, 23.0, 162.0, 247.0, 181.0, 148.0, 277.0, 410.0, 231.0, 360.0, 86.0, 273.0, 414.0, 397.0, 223.0, 123.0, 349.0, 144.0, 149.0, 34.0, 142.0, 111.0, 91.0, 103.0, 117.0, 130.0, 103.0, 122.0, 76.0, 215.0, 60.0, 353.0, 50.0, 241.0, 119.0, 107.0, 153.0, 145.0, 440.0, 240.0, 219.0, 250.0, 295.0, 212.0, 418.0, 262.0, 286.0, 187.0, 442.0, 299.0, 185.0, 305.0, 116.0, 250.0, 219.0, 901.0, 501.0, 95.0, 157.0, 286.0, 881.0, 456.0, 477.0, 280.0, 732.0, 235.0, 215.0, 353.0, 539.0, 308.0, 50.0, 299.0, 182.0, 241.0, 335.0, 272.0, 95.0, 309.0, 678.0, 206.0, 168.0, 345.0, 439.0, 134.0, 290.0, 348.0, 292.0, 168.0, 755.0, 888.0, 514.0, 263.0, 172.0, 667.0, 309.0, 602.0, 304.0, 56.0, 328.0, 413.0, 349.0, 229.0, 406.0, 208.0, 532.0, 90.0, 343.0, 92.0, 597.0, 174.0, 128.0, 887.0, 401.0, 280.0, 224.0, 948.0, 282.0, 488.0, 195.0, 715.0, 198.0, 347.0, 276.0, 146.0, 373.0, 144.0, 614.0, 953.0, 141.0, 221.0, 753.0, 837.0, 366.0, 132.0, 420.0, 165.0, 318.0, 745.0, 152.0, 385.0, 358.0, 146.0, 324.0, 147.0, 76.0, 305.0, 271.0, 315.0, 244.0, 191.0, 211.0, 375.0, 126.0, 206.0, 421.0, 146.0, 283.0, 119.0, 357.0, 158.0, 329.0, 391.0, 725.0, 203.0, 254.0, 245.0, 191.0, 416.0, 848.0, 289.0, 493.0, 267.0, 179.0, 395.0, 273.0, 201.0, 172.0, 180.0, 351.0, 96.0, 101.0, 683.0, 249.0, 34.0, 110.0, 247.0, 103.0, 77.0, 130.0, 365.0, 516.0, 125.0, 277.0, 131.0, 357.0, 185.0, 614.0, 390.0, 280.0, 246.0, 190.0, 115.0, 203.0, 128.0, 176.0, 104.0, 296.0, 172.0, 316.0, 42.0, 103.0, 173.0, 127.0, 74.0, 188.0, 49.0, 137.0, 187.0, 122.0, 163.0, 185.0, 131.0, 30.0, 113.0, 332.0, 206.0, 163.0, 194.0, 109.0, 139.0, 45.0, 38.0, 131.0, 110.0, 22.0, 20.0, 77.0, 110.0, 46.0, 138.0, 94.0, 197.0, 114.0, 361.0, 248.0, 45.0, 145.0, 304.0, 26.0, 22.0, 31.0, 58.0, 113.0, 119.0, 320.0, 14.0, 120.0, 74.0, 83.0, 156.0, 41.0, 160.0, 33.0, 116.0, 56.0, 98.0, 55.0, 88.0, 37.0, 124.0] Reward: [tensor(6.2206, grad_fn=<DivBackward0>), tensor(3.7739, grad_fn=<DivBackward0>), tensor(5.6058, grad_fn=<DivBackward0>), tensor(5.2694, grad_fn=<DivBackward0>), tensor(8.3085, grad_fn=<DivBackward0>), tensor(4.3594, grad_fn=<DivBackward0>), tensor(4.6511, grad_fn=<DivBackward0>), tensor(7.7206, grad_fn=<DivBackward0>), tensor(9.7670, grad_fn=<DivBackward0>), tensor(4.9862, grad_fn=<DivBackward0>), tensor(4.9564, grad_fn=<DivBackward0>), tensor(5.6547, grad_fn=<DivBackward0>), tensor(8.9344, grad_fn=<DivBackward0>), tensor(4.0581, grad_fn=<DivBackward0>), tensor(9.8067, grad_fn=<DivBackward0>), tensor(13.8003, grad_fn=<DivBackward0>), tensor(14.3731, grad_fn=<DivBackward0>), tensor(5.3069, grad_fn=<DivBackward0>), tensor(7.4281, grad_fn=<DivBackward0>), tensor(11.7331, grad_fn=<DivBackward0>), tensor(5.3220, grad_fn=<DivBackward0>), tensor(5.8920, grad_fn=<DivBackward0>), tensor(6.8644, grad_fn=<DivBackward0>), tensor(6.2061, grad_fn=<DivBackward0>), tensor(4.6327, grad_fn=<DivBackward0>), tensor(19.5340, grad_fn=<DivBackward0>), tensor(8.0229, grad_fn=<DivBackward0>), tensor(20.5996, grad_fn=<DivBackward0>), tensor(8.9286, grad_fn=<DivBackward0>), tensor(7.4458, grad_fn=<DivBackward0>), tensor(6.8156, grad_fn=<DivBackward0>), tensor(5.8462, grad_fn=<DivBackward0>), tensor(3.6299, grad_fn=<DivBackward0>), tensor(7.4639, grad_fn=<DivBackward0>), tensor(6.5611, grad_fn=<DivBackward0>), tensor(6.4852, grad_fn=<DivBackward0>), tensor(10.6050, grad_fn=<DivBackward0>), tensor(6.5977, grad_fn=<DivBackward0>), tensor(8.5802, grad_fn=<DivBackward0>), tensor(6.5701, grad_fn=<DivBackward0>), tensor(17.6946, grad_fn=<DivBackward0>), tensor(5.3729, grad_fn=<DivBackward0>), tensor(6.7554, grad_fn=<DivBackward0>), tensor(8.0550, grad_fn=<DivBackward0>), tensor(7.1326, grad_fn=<DivBackward0>), tensor(21.1592, grad_fn=<DivBackward0>), tensor(4.5939, grad_fn=<DivBackward0>), tensor(11.2999, grad_fn=<DivBackward0>), tensor(11.9527, grad_fn=<DivBackward0>), tensor(11.6482, grad_fn=<DivBackward0>), tensor(4.7525, grad_fn=<DivBackward0>), tensor(11.3277, grad_fn=<DivBackward0>), tensor(15.7699, grad_fn=<DivBackward0>), tensor(17.2426, grad_fn=<DivBackward0>), tensor(7.0261, grad_fn=<DivBackward0>), tensor(4.5046, grad_fn=<DivBackward0>), tensor(8.7989, grad_fn=<DivBackward0>), tensor(6.0685, grad_fn=<DivBackward0>), tensor(5.5130, grad_fn=<DivBackward0>), tensor(5.8248, grad_fn=<DivBackward0>), tensor(4.5648, grad_fn=<DivBackward0>), tensor(5.6721, grad_fn=<DivBackward0>), tensor(6.0104, grad_fn=<DivBackward0>), tensor(5.6190, grad_fn=<DivBackward0>), tensor(12.4126, grad_fn=<DivBackward0>), tensor(11.7833, grad_fn=<DivBackward0>), tensor(6.1438, grad_fn=<DivBackward0>), tensor(10.8215, grad_fn=<DivBackward0>), tensor(4.7700, grad_fn=<DivBackward0>), tensor(5.5493, grad_fn=<DivBackward0>), tensor(5.9683, grad_fn=<DivBackward0>), tensor(13.1412, grad_fn=<DivBackward0>), tensor(7.4310, grad_fn=<DivBackward0>), tensor(5.6612, grad_fn=<DivBackward0>), tensor(15.6320, grad_fn=<DivBackward0>), tensor(9.6335, grad_fn=<DivBackward0>), tensor(9.3485, grad_fn=<DivBackward0>), tensor(12.8852, grad_fn=<DivBackward0>), tensor(5.4930, grad_fn=<DivBackward0>), tensor(5.5463, grad_fn=<DivBackward0>), tensor(10.1636, grad_fn=<DivBackward0>), tensor(8.8107, grad_fn=<DivBackward0>), tensor(4.6598, grad_fn=<DivBackward0>), tensor(5.5486, grad_fn=<DivBackward0>), tensor(5.0854, grad_fn=<DivBackward0>), tensor(6.5367, grad_fn=<DivBackward0>), tensor(9.9281, grad_fn=<DivBackward0>), tensor(6.1201, grad_fn=<DivBackward0>), tensor(7.6075, grad_fn=<DivBackward0>), tensor(6.8040, grad_fn=<DivBackward0>), tensor(8.1654, grad_fn=<DivBackward0>), tensor(10.9969, grad_fn=<DivBackward0>), tensor(4.9947, grad_fn=<DivBackward0>), tensor(9.1004, grad_fn=<DivBackward0>), tensor(6.5278, grad_fn=<DivBackward0>), tensor(8.5125, grad_fn=<DivBackward0>), tensor(7.8455, grad_fn=<DivBackward0>), tensor(9.9171, grad_fn=<DivBackward0>), tensor(7.5223, grad_fn=<DivBackward0>), tensor(12.2698, grad_fn=<DivBackward0>), tensor(11.1646, grad_fn=<DivBackward0>), tensor(7.7194, grad_fn=<DivBackward0>), tensor(7.3737, grad_fn=<DivBackward0>), tensor(6.1692, grad_fn=<DivBackward0>), tensor(12.5533, grad_fn=<DivBackward0>), tensor(11.4929, grad_fn=<DivBackward0>), tensor(6.7902, grad_fn=<DivBackward0>), tensor(8.1975, grad_fn=<DivBackward0>), tensor(11.4845, grad_fn=<DivBackward0>), tensor(4.5265, grad_fn=<DivBackward0>), tensor(11.2244, grad_fn=<DivBackward0>), tensor(19.7292, grad_fn=<DivBackward0>), tensor(4.3600, grad_fn=<DivBackward0>), tensor(11.2488, grad_fn=<DivBackward0>), tensor(5.0624, grad_fn=<DivBackward0>), tensor(4.1015, grad_fn=<DivBackward0>), tensor(8.5793, grad_fn=<DivBackward0>), tensor(7.8098, grad_fn=<DivBackward0>), tensor(8.8465, grad_fn=<DivBackward0>), tensor(11.6454, grad_fn=<DivBackward0>), tensor(5.2922, grad_fn=<DivBackward0>), tensor(9.3609, grad_fn=<DivBackward0>), tensor(12.5600, grad_fn=<DivBackward0>), tensor(9.9075, grad_fn=<DivBackward0>), tensor(4.6891, grad_fn=<DivBackward0>), tensor(6.6062, grad_fn=<DivBackward0>), tensor(10.3574, grad_fn=<DivBackward0>), tensor(5.5146, grad_fn=<DivBackward0>), tensor(10.9407, grad_fn=<DivBackward0>), tensor(11.8589, grad_fn=<DivBackward0>), tensor(9.3731, grad_fn=<DivBackward0>), tensor(12.5772, grad_fn=<DivBackward0>), tensor(8.4573, grad_fn=<DivBackward0>), tensor(12.3116, grad_fn=<DivBackward0>), tensor(5.1639, grad_fn=<DivBackward0>), tensor(11.0111, grad_fn=<DivBackward0>), tensor(5.7313, grad_fn=<DivBackward0>), tensor(11.1819, grad_fn=<DivBackward0>), tensor(6.2780, grad_fn=<DivBackward0>), tensor(4.7720, grad_fn=<DivBackward0>), tensor(4.4283, grad_fn=<DivBackward0>), tensor(8.6937, grad_fn=<DivBackward0>), tensor(10.6789, grad_fn=<DivBackward0>), tensor(11.1432, grad_fn=<DivBackward0>), tensor(13.1415, grad_fn=<DivBackward0>), tensor(12.1406, grad_fn=<DivBackward0>), tensor(8.3266, grad_fn=<DivBackward0>), tensor(12.0671, grad_fn=<DivBackward0>), tensor(8.4838, grad_fn=<DivBackward0>), tensor(7.2673, grad_fn=<DivBackward0>), tensor(4.9557, grad_fn=<DivBackward0>), tensor(6.5667, grad_fn=<DivBackward0>), tensor(5.5447, grad_fn=<DivBackward0>), tensor(13.1896, grad_fn=<DivBackward0>), tensor(8.3817, grad_fn=<DivBackward0>), tensor(11.6060, grad_fn=<DivBackward0>), tensor(5.7814, grad_fn=<DivBackward0>), tensor(5.3852, grad_fn=<DivBackward0>), tensor(6.1630, grad_fn=<DivBackward0>), tensor(7.3838, grad_fn=<DivBackward0>), tensor(6.3637, grad_fn=<DivBackward0>), tensor(7.2855, grad_fn=<DivBackward0>), tensor(9.1884, grad_fn=<DivBackward0>), tensor(6.5864, grad_fn=<DivBackward0>), tensor(7.4006, grad_fn=<DivBackward0>), tensor(4.6382, grad_fn=<DivBackward0>), tensor(7.5838, grad_fn=<DivBackward0>), tensor(5.5884, grad_fn=<DivBackward0>), tensor(7.4443, grad_fn=<DivBackward0>), tensor(12.3479, grad_fn=<DivBackward0>), tensor(8.3998, grad_fn=<DivBackward0>), tensor(8.5250, grad_fn=<DivBackward0>), tensor(4.9983, grad_fn=<DivBackward0>), tensor(5.4392, grad_fn=<DivBackward0>), tensor(9.9648, grad_fn=<DivBackward0>), tensor(13.4660, grad_fn=<DivBackward0>), tensor(7.4151, grad_fn=<DivBackward0>), tensor(11.2749, grad_fn=<DivBackward0>), tensor(7.4596, grad_fn=<DivBackward0>), tensor(5.8310, grad_fn=<DivBackward0>), tensor(5.5267, grad_fn=<DivBackward0>), tensor(17.1726, grad_fn=<DivBackward0>), tensor(6.8254, grad_fn=<DivBackward0>), tensor(6.4977, grad_fn=<DivBackward0>), tensor(12.4840, grad_fn=<DivBackward0>), tensor(4.9709, grad_fn=<DivBackward0>), tensor(25.8315, grad_fn=<DivBackward0>), tensor(5.4285, grad_fn=<DivBackward0>), tensor(8.2884, grad_fn=<DivBackward0>), tensor(5.5446, grad_fn=<DivBackward0>), tensor(11.6869, grad_fn=<DivBackward0>), tensor(6.1689, grad_fn=<DivBackward0>), tensor(18.3413, grad_fn=<DivBackward0>), tensor(9.2436, grad_fn=<DivBackward0>), tensor(6.7479, grad_fn=<DivBackward0>), tensor(7.8580, grad_fn=<DivBackward0>), tensor(9.1792, grad_fn=<DivBackward0>), tensor(6.6559, grad_fn=<DivBackward0>), tensor(5.4037, grad_fn=<DivBackward0>), tensor(10.2133, grad_fn=<DivBackward0>), tensor(29.4244, grad_fn=<DivBackward0>), tensor(13.3457, grad_fn=<DivBackward0>), tensor(6.6738, grad_fn=<DivBackward0>), tensor(5.5418, grad_fn=<DivBackward0>), tensor(6.3233, grad_fn=<DivBackward0>), tensor(14.8736, grad_fn=<DivBackward0>), tensor(7.9884, grad_fn=<DivBackward0>), tensor(6.2799, grad_fn=<DivBackward0>), tensor(9.7675, grad_fn=<DivBackward0>), tensor(12.2910, grad_fn=<DivBackward0>), tensor(7.9118, grad_fn=<DivBackward0>), tensor(7.2202, grad_fn=<DivBackward0>), tensor(17.5966, grad_fn=<DivBackward0>), tensor(26.4661, grad_fn=<DivBackward0>), tensor(6.4016, grad_fn=<DivBackward0>), tensor(5.6365, grad_fn=<DivBackward0>), tensor(6.1914, grad_fn=<DivBackward0>), tensor(6.4316, grad_fn=<DivBackward0>), tensor(8.2347, grad_fn=<DivBackward0>), tensor(6.5037, grad_fn=<DivBackward0>), tensor(6.1684, grad_fn=<DivBackward0>), tensor(17.5494, grad_fn=<DivBackward0>), tensor(10.6533, grad_fn=<DivBackward0>), tensor(7.8932, grad_fn=<DivBackward0>), tensor(7.1452, grad_fn=<DivBackward0>), tensor(10.5880, grad_fn=<DivBackward0>), tensor(9.6361, grad_fn=<DivBackward0>), tensor(6.5069, grad_fn=<DivBackward0>), tensor(6.3514, grad_fn=<DivBackward0>), tensor(3.9349, grad_fn=<DivBackward0>), tensor(11.3691, grad_fn=<DivBackward0>), tensor(9.7154, grad_fn=<DivBackward0>), tensor(8.7247, grad_fn=<DivBackward0>), tensor(6.8026, grad_fn=<DivBackward0>), tensor(6.4924, grad_fn=<DivBackward0>), tensor(12.0230, grad_fn=<DivBackward0>), tensor(16.7176, grad_fn=<DivBackward0>), tensor(13.8589, grad_fn=<DivBackward0>), tensor(7.9936, grad_fn=<DivBackward0>), tensor(9.1722, grad_fn=<DivBackward0>), tensor(9.8067, grad_fn=<DivBackward0>), tensor(11.4013, grad_fn=<DivBackward0>), tensor(22.5355, grad_fn=<DivBackward0>), tensor(6.2543, grad_fn=<DivBackward0>), tensor(7.9540, grad_fn=<DivBackward0>), tensor(4.1306, grad_fn=<DivBackward0>), tensor(4.3644, grad_fn=<DivBackward0>), tensor(8.2484, grad_fn=<DivBackward0>), tensor(6.9465, grad_fn=<DivBackward0>), tensor(7.3466, grad_fn=<DivBackward0>), tensor(5.9664, grad_fn=<DivBackward0>), tensor(9.1539, grad_fn=<DivBackward0>), tensor(5.0634, grad_fn=<DivBackward0>), tensor(7.0901, grad_fn=<DivBackward0>), tensor(12.8766, grad_fn=<DivBackward0>), tensor(7.9282, grad_fn=<DivBackward0>), tensor(4.8033, grad_fn=<DivBackward0>), tensor(9.1773, grad_fn=<DivBackward0>), tensor(5.3061, grad_fn=<DivBackward0>), tensor(15.5836, grad_fn=<DivBackward0>), tensor(6.9846, grad_fn=<DivBackward0>), tensor(5.4869, grad_fn=<DivBackward0>), tensor(13.8755, grad_fn=<DivBackward0>), tensor(5.6584, grad_fn=<DivBackward0>), tensor(10.9393, grad_fn=<DivBackward0>), tensor(5.7343, grad_fn=<DivBackward0>), tensor(6.8152, grad_fn=<DivBackward0>), tensor(5.1046, grad_fn=<DivBackward0>), tensor(9.3356, grad_fn=<DivBackward0>), tensor(14.6642, grad_fn=<DivBackward0>), tensor(7.2701, grad_fn=<DivBackward0>), tensor(10.4456, grad_fn=<DivBackward0>), tensor(15.1588, grad_fn=<DivBackward0>), tensor(11.2994, grad_fn=<DivBackward0>), tensor(9.8578, grad_fn=<DivBackward0>), tensor(5.1651, grad_fn=<DivBackward0>), tensor(7.6581, grad_fn=<DivBackward0>), tensor(5.1444, grad_fn=<DivBackward0>), tensor(4.2965, grad_fn=<DivBackward0>), tensor(7.0361, grad_fn=<DivBackward0>), tensor(10.5495, grad_fn=<DivBackward0>), tensor(7.8528, grad_fn=<DivBackward0>), tensor(10.8469, grad_fn=<DivBackward0>), tensor(5.8794, grad_fn=<DivBackward0>), tensor(7.4060, grad_fn=<DivBackward0>), tensor(7.9526, grad_fn=<DivBackward0>), tensor(4.1445, grad_fn=<DivBackward0>), tensor(15.9138, grad_fn=<DivBackward0>), tensor(13.9227, grad_fn=<DivBackward0>), tensor(5.4659, grad_fn=<DivBackward0>), tensor(5.6763, grad_fn=<DivBackward0>), tensor(7.1211, grad_fn=<DivBackward0>), tensor(19.4850, grad_fn=<DivBackward0>), tensor(17.3803, grad_fn=<DivBackward0>), tensor(7.3238, grad_fn=<DivBackward0>), tensor(6.6826, grad_fn=<DivBackward0>), tensor(18.7801, grad_fn=<DivBackward0>), tensor(9.0281, grad_fn=<DivBackward0>), tensor(6.3345, grad_fn=<DivBackward0>), tensor(7.2235, grad_fn=<DivBackward0>), tensor(7.8659, grad_fn=<DivBackward0>), tensor(8.3904, grad_fn=<DivBackward0>), tensor(10.4625, grad_fn=<DivBackward0>), tensor(12.4938, grad_fn=<DivBackward0>), tensor(7.2922, grad_fn=<DivBackward0>), tensor(5.4513, grad_fn=<DivBackward0>), tensor(12.8252, grad_fn=<DivBackward0>), tensor(9.2660, grad_fn=<DivBackward0>), tensor(13.0361, grad_fn=<DivBackward0>), tensor(10.8046, grad_fn=<DivBackward0>), tensor(9.5065, grad_fn=<DivBackward0>), tensor(8.6169, grad_fn=<DivBackward0>), tensor(23.8932, grad_fn=<DivBackward0>), tensor(5.7225, grad_fn=<DivBackward0>), tensor(10.4926, grad_fn=<DivBackward0>), tensor(10.6373, grad_fn=<DivBackward0>), tensor(7.7766, grad_fn=<DivBackward0>), tensor(6.2050, grad_fn=<DivBackward0>), tensor(5.8258, grad_fn=<DivBackward0>), tensor(8.6623, grad_fn=<DivBackward0>), tensor(15.3227, grad_fn=<DivBackward0>), tensor(14.6092, grad_fn=<DivBackward0>), tensor(9.2162, grad_fn=<DivBackward0>), tensor(6.5143, grad_fn=<DivBackward0>), tensor(10.6954, grad_fn=<DivBackward0>), tensor(12.8005, grad_fn=<DivBackward0>), tensor(10.9607, grad_fn=<DivBackward0>), tensor(15.0219, grad_fn=<DivBackward0>), tensor(7.3945, grad_fn=<DivBackward0>), tensor(8.5935, grad_fn=<DivBackward0>), tensor(9.8988, grad_fn=<DivBackward0>), tensor(11.0362, grad_fn=<DivBackward0>), tensor(8.8719, grad_fn=<DivBackward0>), tensor(17.6791, grad_fn=<DivBackward0>), tensor(11.1512, grad_fn=<DivBackward0>), tensor(6.8436, grad_fn=<DivBackward0>), tensor(9.0359, grad_fn=<DivBackward0>), tensor(11.7979, grad_fn=<DivBackward0>), tensor(7.7978, grad_fn=<DivBackward0>), tensor(13.5848, grad_fn=<DivBackward0>), tensor(5.2917, grad_fn=<DivBackward0>), tensor(10.0325, grad_fn=<DivBackward0>), tensor(12.7493, grad_fn=<DivBackward0>), tensor(7.8569, grad_fn=<DivBackward0>), tensor(5.3918, grad_fn=<DivBackward0>), tensor(6.6041, grad_fn=<DivBackward0>), tensor(19.6151, grad_fn=<DivBackward0>), tensor(13.7151, grad_fn=<DivBackward0>), tensor(7.4360, grad_fn=<DivBackward0>), tensor(12.3722, grad_fn=<DivBackward0>), tensor(6.3342, grad_fn=<DivBackward0>), tensor(4.7305, grad_fn=<DivBackward0>), tensor(5.4284, grad_fn=<DivBackward0>), tensor(12.4837, grad_fn=<DivBackward0>), tensor(14.9202, grad_fn=<DivBackward0>), tensor(8.2701, grad_fn=<DivBackward0>), tensor(6.7115, grad_fn=<DivBackward0>), tensor(7.4326, grad_fn=<DivBackward0>), tensor(5.4907, grad_fn=<DivBackward0>), tensor(11.3407, grad_fn=<DivBackward0>), tensor(4.4624, grad_fn=<DivBackward0>), tensor(8.0033, grad_fn=<DivBackward0>), tensor(11.1957, grad_fn=<DivBackward0>), tensor(10.4631, grad_fn=<DivBackward0>), tensor(10.5451, grad_fn=<DivBackward0>), tensor(9.0753, grad_fn=<DivBackward0>), tensor(8.4089, grad_fn=<DivBackward0>), tensor(7.5381, grad_fn=<DivBackward0>), tensor(9.4221, grad_fn=<DivBackward0>), tensor(14.3182, grad_fn=<DivBackward0>), tensor(9.8494, grad_fn=<DivBackward0>), tensor(12.9307, grad_fn=<DivBackward0>), tensor(13.9989, grad_fn=<DivBackward0>), tensor(23.6568, grad_fn=<DivBackward0>), tensor(10.1107, grad_fn=<DivBackward0>), tensor(7.6417, grad_fn=<DivBackward0>), tensor(7.4962, grad_fn=<DivBackward0>), tensor(6.0725, grad_fn=<DivBackward0>), tensor(12.0847, grad_fn=<DivBackward0>), tensor(7.9485, grad_fn=<DivBackward0>), tensor(5.2589, grad_fn=<DivBackward0>), tensor(7.7628, grad_fn=<DivBackward0>), tensor(18.1756, grad_fn=<DivBackward0>), tensor(9.8724, grad_fn=<DivBackward0>), tensor(8.4209, grad_fn=<DivBackward0>), tensor(10.0757, grad_fn=<DivBackward0>), tensor(9.8357, grad_fn=<DivBackward0>), tensor(6.8094, grad_fn=<DivBackward0>), tensor(9.4564, grad_fn=<DivBackward0>), tensor(19.6349, grad_fn=<DivBackward0>), tensor(6.4732, grad_fn=<DivBackward0>), tensor(13.1583, grad_fn=<DivBackward0>), tensor(6.5631, grad_fn=<DivBackward0>), tensor(8.8166, grad_fn=<DivBackward0>), tensor(11.7654, grad_fn=<DivBackward0>), tensor(8.1777, grad_fn=<DivBackward0>), tensor(7.2405, grad_fn=<DivBackward0>), tensor(9.6226, grad_fn=<DivBackward0>), tensor(6.2176, grad_fn=<DivBackward0>), tensor(13.2543, grad_fn=<DivBackward0>), tensor(22.7625, grad_fn=<DivBackward0>), tensor(8.1770, grad_fn=<DivBackward0>), tensor(8.4085, grad_fn=<DivBackward0>), tensor(6.5292, grad_fn=<DivBackward0>), tensor(18.9338, grad_fn=<DivBackward0>), tensor(5.7040, grad_fn=<DivBackward0>), tensor(4.7962, grad_fn=<DivBackward0>), tensor(12.5391, grad_fn=<DivBackward0>), tensor(29.6198, grad_fn=<DivBackward0>), tensor(22.8885, grad_fn=<DivBackward0>), tensor(14.4002, grad_fn=<DivBackward0>), tensor(6.2391, grad_fn=<DivBackward0>), tensor(6.4516, grad_fn=<DivBackward0>), tensor(14.9019, grad_fn=<DivBackward0>), tensor(10.7825, grad_fn=<DivBackward0>), tensor(12.4379, grad_fn=<DivBackward0>), tensor(20.8263, grad_fn=<DivBackward0>), tensor(7.5987, grad_fn=<DivBackward0>), tensor(15.2719, grad_fn=<DivBackward0>), tensor(22.2038, grad_fn=<DivBackward0>), tensor(6.6044, grad_fn=<DivBackward0>), tensor(13.7022, grad_fn=<DivBackward0>), tensor(6.0438, grad_fn=<DivBackward0>), tensor(13.2019, grad_fn=<DivBackward0>), tensor(9.4505, grad_fn=<DivBackward0>), tensor(15.2640, grad_fn=<DivBackward0>), tensor(11.3669, grad_fn=<DivBackward0>), tensor(8.9631, grad_fn=<DivBackward0>), tensor(28.1231, grad_fn=<DivBackward0>), tensor(14.5460, grad_fn=<DivBackward0>), tensor(14.3663, grad_fn=<DivBackward0>), tensor(12.7534, grad_fn=<DivBackward0>), tensor(14.8334, grad_fn=<DivBackward0>), tensor(12.8735, grad_fn=<DivBackward0>), tensor(5.6430, grad_fn=<DivBackward0>), tensor(5.5374, grad_fn=<DivBackward0>), tensor(12.5597, grad_fn=<DivBackward0>), tensor(11.0952, grad_fn=<DivBackward0>), tensor(10.3269, grad_fn=<DivBackward0>), tensor(7.1159, grad_fn=<DivBackward0>), tensor(28.7369, grad_fn=<DivBackward0>), tensor(22.1135, grad_fn=<DivBackward0>), tensor(17.2020, grad_fn=<DivBackward0>), tensor(9.1319, grad_fn=<DivBackward0>), tensor(8.8013, grad_fn=<DivBackward0>), tensor(9.9327, grad_fn=<DivBackward0>), tensor(14.1368, grad_fn=<DivBackward0>), tensor(5.3295, grad_fn=<DivBackward0>), tensor(17.4500, grad_fn=<DivBackward0>), tensor(6.0609, grad_fn=<DivBackward0>), tensor(9.9367, grad_fn=<DivBackward0>), tensor(5.9366, grad_fn=<DivBackward0>), tensor(12.2065, grad_fn=<DivBackward0>), tensor(8.2359, grad_fn=<DivBackward0>), tensor(14.7805, grad_fn=<DivBackward0>), tensor(7.9293, grad_fn=<DivBackward0>), tensor(19.2295, grad_fn=<DivBackward0>), tensor(4.7755, grad_fn=<DivBackward0>), tensor(17.1227, grad_fn=<DivBackward0>), tensor(5.6515, grad_fn=<DivBackward0>), tensor(5.6443, grad_fn=<DivBackward0>), tensor(8.0538, grad_fn=<DivBackward0>), tensor(7.0067, grad_fn=<DivBackward0>), tensor(15.1363, grad_fn=<DivBackward0>), tensor(4.6358, grad_fn=<DivBackward0>), tensor(14.3259, grad_fn=<DivBackward0>), tensor(8.9312, grad_fn=<DivBackward0>), tensor(5.2169, grad_fn=<DivBackward0>), tensor(6.1540, grad_fn=<DivBackward0>), tensor(10.7281, grad_fn=<DivBackward0>), tensor(7.3150, grad_fn=<DivBackward0>), tensor(22.3881, grad_fn=<DivBackward0>), tensor(6.6687, grad_fn=<DivBackward0>), tensor(16.4028, grad_fn=<DivBackward0>), tensor(4.7962, grad_fn=<DivBackward0>), tensor(8.6560, grad_fn=<DivBackward0>), tensor(6.5674, grad_fn=<DivBackward0>), tensor(10.4635, grad_fn=<DivBackward0>), tensor(10.9377, grad_fn=<DivBackward0>), tensor(13.7349, grad_fn=<DivBackward0>), tensor(7.4178, grad_fn=<DivBackward0>), tensor(8.3946, grad_fn=<DivBackward0>), tensor(14.0051, grad_fn=<DivBackward0>), tensor(12.9625, grad_fn=<DivBackward0>), tensor(16.1808, grad_fn=<DivBackward0>), tensor(16.4031, grad_fn=<DivBackward0>), tensor(7.3848, grad_fn=<DivBackward0>), tensor(22.8202, grad_fn=<DivBackward0>), tensor(9.1014, grad_fn=<DivBackward0>), tensor(8.1177, grad_fn=<DivBackward0>), tensor(6.4761, grad_fn=<DivBackward0>), tensor(15.2530, grad_fn=<DivBackward0>), tensor(12.6506, grad_fn=<DivBackward0>), tensor(16.0018, grad_fn=<DivBackward0>), tensor(16.9034, grad_fn=<DivBackward0>), tensor(5.7718, grad_fn=<DivBackward0>), tensor(17.7187, grad_fn=<DivBackward0>), tensor(29.5755, grad_fn=<DivBackward0>), tensor(6.1543, grad_fn=<DivBackward0>), tensor(5.4334, grad_fn=<DivBackward0>), tensor(9.5085, grad_fn=<DivBackward0>), tensor(7.4376, grad_fn=<DivBackward0>), tensor(14.0421, grad_fn=<DivBackward0>), tensor(14.4748, grad_fn=<DivBackward0>), tensor(11.6258, grad_fn=<DivBackward0>), tensor(23.9149, grad_fn=<DivBackward0>), tensor(7.4650, grad_fn=<DivBackward0>), tensor(12.4545, grad_fn=<DivBackward0>), tensor(14.4670, grad_fn=<DivBackward0>), tensor(26.1849, grad_fn=<DivBackward0>), tensor(8.8339, grad_fn=<DivBackward0>), tensor(8.5963, grad_fn=<DivBackward0>), tensor(15.8151, grad_fn=<DivBackward0>), tensor(16.8116, grad_fn=<DivBackward0>), tensor(5.5097, grad_fn=<DivBackward0>), tensor(7.5197, grad_fn=<DivBackward0>), tensor(11.7290, grad_fn=<DivBackward0>), tensor(11.0784, grad_fn=<DivBackward0>), tensor(12.7941, grad_fn=<DivBackward0>), tensor(9.4718, grad_fn=<DivBackward0>), tensor(14.4527, grad_fn=<DivBackward0>), tensor(7.0227, grad_fn=<DivBackward0>), tensor(19.5711, grad_fn=<DivBackward0>), tensor(16.8746, grad_fn=<DivBackward0>), tensor(14.5009, grad_fn=<DivBackward0>), tensor(6.3179, grad_fn=<DivBackward0>), tensor(18.9405, grad_fn=<DivBackward0>), tensor(32.3972, grad_fn=<DivBackward0>), tensor(8.9682, grad_fn=<DivBackward0>), tensor(11.6701, grad_fn=<DivBackward0>), tensor(19.9371, grad_fn=<DivBackward0>), tensor(21.4318, grad_fn=<DivBackward0>), tensor(9.9032, grad_fn=<DivBackward0>), tensor(6.4824, grad_fn=<DivBackward0>), tensor(10.9157, grad_fn=<DivBackward0>), tensor(10.0268, grad_fn=<DivBackward0>), tensor(6.7393, grad_fn=<DivBackward0>), tensor(13.1221, grad_fn=<DivBackward0>), tensor(16.9256, grad_fn=<DivBackward0>), tensor(13.4394, grad_fn=<DivBackward0>), tensor(8.6875, grad_fn=<DivBackward0>), tensor(14.1024, grad_fn=<DivBackward0>), tensor(17.9818, grad_fn=<DivBackward0>), tensor(13.5184, grad_fn=<DivBackward0>), tensor(13.3217, grad_fn=<DivBackward0>), tensor(11.2324, grad_fn=<DivBackward0>), tensor(8.3773, grad_fn=<DivBackward0>), tensor(7.6159, grad_fn=<DivBackward0>), tensor(22.1166, grad_fn=<DivBackward0>), tensor(7.2848, grad_fn=<DivBackward0>), tensor(8.8627, grad_fn=<DivBackward0>), tensor(6.7654, grad_fn=<DivBackward0>), tensor(10.0989, grad_fn=<DivBackward0>), tensor(9.5557, grad_fn=<DivBackward0>), tensor(14.7544, grad_fn=<DivBackward0>), tensor(10.8704, grad_fn=<DivBackward0>), tensor(14.2693, grad_fn=<DivBackward0>), tensor(11.4246, grad_fn=<DivBackward0>), tensor(6.8989, grad_fn=<DivBackward0>), tensor(12.8958, grad_fn=<DivBackward0>), tensor(30.5171, grad_fn=<DivBackward0>), tensor(12.3160, grad_fn=<DivBackward0>), tensor(6.2091, grad_fn=<DivBackward0>), tensor(19.6642, grad_fn=<DivBackward0>), tensor(8.3839, grad_fn=<DivBackward0>), tensor(10.3723, grad_fn=<DivBackward0>), tensor(25.8763, grad_fn=<DivBackward0>), tensor(7.1999, grad_fn=<DivBackward0>), tensor(5.8495, grad_fn=<DivBackward0>), tensor(20.7000, grad_fn=<DivBackward0>), tensor(21.4695, grad_fn=<DivBackward0>), tensor(13.5446, grad_fn=<DivBackward0>), tensor(16.3338, grad_fn=<DivBackward0>), tensor(11.0585, grad_fn=<DivBackward0>), tensor(14.5794, grad_fn=<DivBackward0>), tensor(20.7798, grad_fn=<DivBackward0>), tensor(8.0849, grad_fn=<DivBackward0>), tensor(26.2229, grad_fn=<DivBackward0>), tensor(6.5596, grad_fn=<DivBackward0>), tensor(12.7239, grad_fn=<DivBackward0>), tensor(13.1262, grad_fn=<DivBackward0>), tensor(14.5881, grad_fn=<DivBackward0>), tensor(40.0925, grad_fn=<DivBackward0>), tensor(18.0882, grad_fn=<DivBackward0>), tensor(22.0231, grad_fn=<DivBackward0>), tensor(22.7210, grad_fn=<DivBackward0>), tensor(9.0089, grad_fn=<DivBackward0>), tensor(12.6923, grad_fn=<DivBackward0>), tensor(14.4770, grad_fn=<DivBackward0>), tensor(6.6500, grad_fn=<DivBackward0>), tensor(22.0613, grad_fn=<DivBackward0>), tensor(23.5504, grad_fn=<DivBackward0>), tensor(5.3817, grad_fn=<DivBackward0>), tensor(9.5700, grad_fn=<DivBackward0>), tensor(25.3957, grad_fn=<DivBackward0>), tensor(5.8954, grad_fn=<DivBackward0>), tensor(13.1714, grad_fn=<DivBackward0>), tensor(16.6681, grad_fn=<DivBackward0>), tensor(11.2115, grad_fn=<DivBackward0>), tensor(12.3936, grad_fn=<DivBackward0>), tensor(11.1442, grad_fn=<DivBackward0>), tensor(11.7986, grad_fn=<DivBackward0>), tensor(10.3597, grad_fn=<DivBackward0>), tensor(17.8732, grad_fn=<DivBackward0>), tensor(22.6599, grad_fn=<DivBackward0>), tensor(11.1071, grad_fn=<DivBackward0>), tensor(10.5063, grad_fn=<DivBackward0>), tensor(10.7766, grad_fn=<DivBackward0>), tensor(9.5689, grad_fn=<DivBackward0>), tensor(26.8391, grad_fn=<DivBackward0>), tensor(15.3291, grad_fn=<DivBackward0>), tensor(15.5482, grad_fn=<DivBackward0>), tensor(20.8670, grad_fn=<DivBackward0>), tensor(35.1685, grad_fn=<DivBackward0>), tensor(12.2740, grad_fn=<DivBackward0>), tensor(23.2348, grad_fn=<DivBackward0>), tensor(23.0981, grad_fn=<DivBackward0>), tensor(27.0933, grad_fn=<DivBackward0>), tensor(16.5412, grad_fn=<DivBackward0>), tensor(8.4829, grad_fn=<DivBackward0>), tensor(12.4482, grad_fn=<DivBackward0>), tensor(6.1059, grad_fn=<DivBackward0>), tensor(12.0979, grad_fn=<DivBackward0>), tensor(15.5593, grad_fn=<DivBackward0>), tensor(23.5984, grad_fn=<DivBackward0>), tensor(21.8009, grad_fn=<DivBackward0>), tensor(9.1786, grad_fn=<DivBackward0>), tensor(27.6118, grad_fn=<DivBackward0>), tensor(14.4675, grad_fn=<DivBackward0>), tensor(7.0742, grad_fn=<DivBackward0>), tensor(14.1781, grad_fn=<DivBackward0>), tensor(20.7226, grad_fn=<DivBackward0>), tensor(10.9142, grad_fn=<DivBackward0>), tensor(31.4937, grad_fn=<DivBackward0>), tensor(16.4089, grad_fn=<DivBackward0>), tensor(31.6401, grad_fn=<DivBackward0>), tensor(18.2653, grad_fn=<DivBackward0>), tensor(25.1573, grad_fn=<DivBackward0>), tensor(14.0428, grad_fn=<DivBackward0>), tensor(8.1143, grad_fn=<DivBackward0>), tensor(19.8231, grad_fn=<DivBackward0>), tensor(30.3926, grad_fn=<DivBackward0>), tensor(10.9209, grad_fn=<DivBackward0>), tensor(33.5876, grad_fn=<DivBackward0>), tensor(6.7695, grad_fn=<DivBackward0>), tensor(30.9492, grad_fn=<DivBackward0>), tensor(5.9699, grad_fn=<DivBackward0>), tensor(8.0354, grad_fn=<DivBackward0>), tensor(16.3646, grad_fn=<DivBackward0>), tensor(19.9115, grad_fn=<DivBackward0>), tensor(7.5766, grad_fn=<DivBackward0>), tensor(24.0011, grad_fn=<DivBackward0>), tensor(25.8284, grad_fn=<DivBackward0>), tensor(19.5001, grad_fn=<DivBackward0>), tensor(25.9385, grad_fn=<DivBackward0>), tensor(27.3605, grad_fn=<DivBackward0>), tensor(19.1554, grad_fn=<DivBackward0>), tensor(24.1866, grad_fn=<DivBackward0>), tensor(15.5718, grad_fn=<DivBackward0>), tensor(27.8904, grad_fn=<DivBackward0>), tensor(31.7729, grad_fn=<DivBackward0>), tensor(16.8319, grad_fn=<DivBackward0>), tensor(30.4302, grad_fn=<DivBackward0>), tensor(29.9393, grad_fn=<DivBackward0>), tensor(41.3439, grad_fn=<DivBackward0>), tensor(20.6236, grad_fn=<DivBackward0>), tensor(32.1679, grad_fn=<DivBackward0>), tensor(32.6207, grad_fn=<DivBackward0>), tensor(24.1991, grad_fn=<DivBackward0>), tensor(14.5908, grad_fn=<DivBackward0>), tensor(9.3613, grad_fn=<DivBackward0>), tensor(23.9967, grad_fn=<DivBackward0>), tensor(14.4434, grad_fn=<DivBackward0>), tensor(8.1662, grad_fn=<DivBackward0>), tensor(19.9100, grad_fn=<DivBackward0>), tensor(24.3113, grad_fn=<DivBackward0>), tensor(25.1931, grad_fn=<DivBackward0>), tensor(27.3798, grad_fn=<DivBackward0>), tensor(9.3006, grad_fn=<DivBackward0>), tensor(39.3116, grad_fn=<DivBackward0>), tensor(16.0224, grad_fn=<DivBackward0>), tensor(13.2051, grad_fn=<DivBackward0>), tensor(29.5286, grad_fn=<DivBackward0>), tensor(38.8024, grad_fn=<DivBackward0>), tensor(29.8525, grad_fn=<DivBackward0>), tensor(26.7571, grad_fn=<DivBackward0>), tensor(14.6142, grad_fn=<DivBackward0>), tensor(17.7353, grad_fn=<DivBackward0>), tensor(27.4791, grad_fn=<DivBackward0>), tensor(34.5569, grad_fn=<DivBackward0>), tensor(29.6275, grad_fn=<DivBackward0>), tensor(14.0064, grad_fn=<DivBackward0>), tensor(12.5362, grad_fn=<DivBackward0>), tensor(20.5359, grad_fn=<DivBackward0>), tensor(11.9783, grad_fn=<DivBackward0>), tensor(32.8961, grad_fn=<DivBackward0>), tensor(33.0530, grad_fn=<DivBackward0>), tensor(13.5552, grad_fn=<DivBackward0>), tensor(24.8026, grad_fn=<DivBackward0>), tensor(14.9679, grad_fn=<DivBackward0>), tensor(26.2181, grad_fn=<DivBackward0>), tensor(28.2932, grad_fn=<DivBackward0>), tensor(21.8704, grad_fn=<DivBackward0>), tensor(27.1073, grad_fn=<DivBackward0>), tensor(21.7067, grad_fn=<DivBackward0>), tensor(34.2487, grad_fn=<DivBackward0>), tensor(19.7936, grad_fn=<DivBackward0>), tensor(37.6454, grad_fn=<DivBackward0>), tensor(19.7341, grad_fn=<DivBackward0>), tensor(23.5957, grad_fn=<DivBackward0>), tensor(22.0665, grad_fn=<DivBackward0>), tensor(14.6469, grad_fn=<DivBackward0>), tensor(22.5467, grad_fn=<DivBackward0>), tensor(31.5734, grad_fn=<DivBackward0>), tensor(19.9671, grad_fn=<DivBackward0>), tensor(29.9990, grad_fn=<DivBackward0>), tensor(26.6806, grad_fn=<DivBackward0>), tensor(20.4645, grad_fn=<DivBackward0>), tensor(14.2589, grad_fn=<DivBackward0>), tensor(24.6580, grad_fn=<DivBackward0>), tensor(27.7600, grad_fn=<DivBackward0>), tensor(10.9423, grad_fn=<DivBackward0>), tensor(34.7353, grad_fn=<DivBackward0>), tensor(37.2966, grad_fn=<DivBackward0>), tensor(27.0318, grad_fn=<DivBackward0>), tensor(21.1486, grad_fn=<DivBackward0>), tensor(12.4808, grad_fn=<DivBackward0>), tensor(25.1795, grad_fn=<DivBackward0>), tensor(16.0279, grad_fn=<DivBackward0>), tensor(11.9430, grad_fn=<DivBackward0>), tensor(30.0033, grad_fn=<DivBackward0>), tensor(23.8963, grad_fn=<DivBackward0>), tensor(25.2532, grad_fn=<DivBackward0>), tensor(23.5034, grad_fn=<DivBackward0>), tensor(13.0546, grad_fn=<DivBackward0>), tensor(24.2605, grad_fn=<DivBackward0>), tensor(23.8907, grad_fn=<DivBackward0>), tensor(17.8527, grad_fn=<DivBackward0>), tensor(18.7813, grad_fn=<DivBackward0>), tensor(32.5122, grad_fn=<DivBackward0>), tensor(16.0690, grad_fn=<DivBackward0>), tensor(36.2273, grad_fn=<DivBackward0>), tensor(32.7572, grad_fn=<DivBackward0>), tensor(29.9271, grad_fn=<DivBackward0>), tensor(17.2455, grad_fn=<DivBackward0>), tensor(33.2338, grad_fn=<DivBackward0>), tensor(16.7761, grad_fn=<DivBackward0>), tensor(20.6641, grad_fn=<DivBackward0>), tensor(11.3977, grad_fn=<DivBackward0>), tensor(37.9553, grad_fn=<DivBackward0>), tensor(26.6386, grad_fn=<DivBackward0>), tensor(25.8283, grad_fn=<DivBackward0>), tensor(22.8192, grad_fn=<DivBackward0>), tensor(25.9212, grad_fn=<DivBackward0>), tensor(22.9190, grad_fn=<DivBackward0>), tensor(29.1487, grad_fn=<DivBackward0>), tensor(25.2056, grad_fn=<DivBackward0>), tensor(37.6041, grad_fn=<DivBackward0>), tensor(34.6688, grad_fn=<DivBackward0>), tensor(15.2570, grad_fn=<DivBackward0>), tensor(14.4370, grad_fn=<DivBackward0>), tensor(19.8834, grad_fn=<DivBackward0>), tensor(26.6338, grad_fn=<DivBackward0>), tensor(43.2126, grad_fn=<DivBackward0>), tensor(20.6313, grad_fn=<DivBackward0>), tensor(28.7217, grad_fn=<DivBackward0>), tensor(13.2025, grad_fn=<DivBackward0>), tensor(24.7151, grad_fn=<DivBackward0>), tensor(18.5860, grad_fn=<DivBackward0>), tensor(39.4784, grad_fn=<DivBackward0>), tensor(18.2159, grad_fn=<DivBackward0>), tensor(31.3599, grad_fn=<DivBackward0>), tensor(23.8419, grad_fn=<DivBackward0>), tensor(19.1164, grad_fn=<DivBackward0>), tensor(26.5434, grad_fn=<DivBackward0>), tensor(34.7835, grad_fn=<DivBackward0>), tensor(15.7707, grad_fn=<DivBackward0>), tensor(34.4979, grad_fn=<DivBackward0>), tensor(34.0407, grad_fn=<DivBackward0>), tensor(25.2580, grad_fn=<DivBackward0>), tensor(40.0055, grad_fn=<DivBackward0>), tensor(17.5816, grad_fn=<DivBackward0>), tensor(15.4472, grad_fn=<DivBackward0>), tensor(32.7217, grad_fn=<DivBackward0>), tensor(14.0585, grad_fn=<DivBackward0>), tensor(33.8505, grad_fn=<DivBackward0>), tensor(15.7707, grad_fn=<DivBackward0>), tensor(29.0242, grad_fn=<DivBackward0>), tensor(12.5353, grad_fn=<DivBackward0>), tensor(12.7435, grad_fn=<DivBackward0>), tensor(13.7273, grad_fn=<DivBackward0>), tensor(28.3227, grad_fn=<DivBackward0>), tensor(21.9896, grad_fn=<DivBackward0>), tensor(29.9492, grad_fn=<DivBackward0>), tensor(21.3307, grad_fn=<DivBackward0>), tensor(34.7772, grad_fn=<DivBackward0>), tensor(24.7182, grad_fn=<DivBackward0>), tensor(24.4587, grad_fn=<DivBackward0>), tensor(27.8638, grad_fn=<DivBackward0>), tensor(33.2433, grad_fn=<DivBackward0>), tensor(18.9739, grad_fn=<DivBackward0>), tensor(30.3833, grad_fn=<DivBackward0>), tensor(26.8795, grad_fn=<DivBackward0>), tensor(34.7518, grad_fn=<DivBackward0>), tensor(41.4339, grad_fn=<DivBackward0>), tensor(35.2566, grad_fn=<DivBackward0>), tensor(34.2225, grad_fn=<DivBackward0>), tensor(29.1590, grad_fn=<DivBackward0>), tensor(13.6667, grad_fn=<DivBackward0>), tensor(39.1947, grad_fn=<DivBackward0>), tensor(32.3005, grad_fn=<DivBackward0>), tensor(26.7769, grad_fn=<DivBackward0>), tensor(39.7062, grad_fn=<DivBackward0>), tensor(15.2842, grad_fn=<DivBackward0>), tensor(21.7650, grad_fn=<DivBackward0>), tensor(41.6980, grad_fn=<DivBackward0>), tensor(34.8459, grad_fn=<DivBackward0>), tensor(31.8751, grad_fn=<DivBackward0>), tensor(26.8671, grad_fn=<DivBackward0>), tensor(29.2310, grad_fn=<DivBackward0>), tensor(32.2276, grad_fn=<DivBackward0>), tensor(30.9461, grad_fn=<DivBackward0>), tensor(35.8561, grad_fn=<DivBackward0>), tensor(34.2242, grad_fn=<DivBackward0>), tensor(26.9731, grad_fn=<DivBackward0>), tensor(31.6823, grad_fn=<DivBackward0>), tensor(24.4292, grad_fn=<DivBackward0>), tensor(23.0299, grad_fn=<DivBackward0>), tensor(32.7972, grad_fn=<DivBackward0>), tensor(15.7062, grad_fn=<DivBackward0>), tensor(40.7644, grad_fn=<DivBackward0>), tensor(32.2507, grad_fn=<DivBackward0>), tensor(24.3632, grad_fn=<DivBackward0>), tensor(24.2719, grad_fn=<DivBackward0>), tensor(15.8244, grad_fn=<DivBackward0>), tensor(33.8647, grad_fn=<DivBackward0>), tensor(31.2378, grad_fn=<DivBackward0>), tensor(32.5122, grad_fn=<DivBackward0>), tensor(40.3276, grad_fn=<DivBackward0>), tensor(38.3238, grad_fn=<DivBackward0>), tensor(28.1743, grad_fn=<DivBackward0>), tensor(38.5984, grad_fn=<DivBackward0>), tensor(32.0013, grad_fn=<DivBackward0>), tensor(46.6633, grad_fn=<DivBackward0>), tensor(34.1693, grad_fn=<DivBackward0>), tensor(39.7434, grad_fn=<DivBackward0>), tensor(16.9845, grad_fn=<DivBackward0>), tensor(41.4372, grad_fn=<DivBackward0>), tensor(26.9237, grad_fn=<DivBackward0>), tensor(26.3683, grad_fn=<DivBackward0>), tensor(36.0977, grad_fn=<DivBackward0>), tensor(36.8743, grad_fn=<DivBackward0>), tensor(28.7559, grad_fn=<DivBackward0>), tensor(35.5372, grad_fn=<DivBackward0>), tensor(34.1155, grad_fn=<DivBackward0>), tensor(45.6065, grad_fn=<DivBackward0>), tensor(15.5530, grad_fn=<DivBackward0>), tensor(30.1792, grad_fn=<DivBackward0>), tensor(12.1546, grad_fn=<DivBackward0>), tensor(36.2211, grad_fn=<DivBackward0>), tensor(25.7370, grad_fn=<DivBackward0>), tensor(40.1704, grad_fn=<DivBackward0>), tensor(30.8351, grad_fn=<DivBackward0>), tensor(34.5321, grad_fn=<DivBackward0>), tensor(40.3541, grad_fn=<DivBackward0>), tensor(31.3816, grad_fn=<DivBackward0>), tensor(39.6720, grad_fn=<DivBackward0>), tensor(28.0365, grad_fn=<DivBackward0>), tensor(27.8349, grad_fn=<DivBackward0>), tensor(41.4756, grad_fn=<DivBackward0>), tensor(33.1930, grad_fn=<DivBackward0>), tensor(43.2824, grad_fn=<DivBackward0>), tensor(38.6717, grad_fn=<DivBackward0>), tensor(27.7520, grad_fn=<DivBackward0>), tensor(49.5488, grad_fn=<DivBackward0>), tensor(40.9128, grad_fn=<DivBackward0>), tensor(42.7388, grad_fn=<DivBackward0>), tensor(35.2922, grad_fn=<DivBackward0>), tensor(23.5348, grad_fn=<DivBackward0>), tensor(24.2112, grad_fn=<DivBackward0>), tensor(47.9434, grad_fn=<DivBackward0>), tensor(28.6745, grad_fn=<DivBackward0>), tensor(14.7597, grad_fn=<DivBackward0>), tensor(36.8670, grad_fn=<DivBackward0>), tensor(28.1833, grad_fn=<DivBackward0>), tensor(35.8065, grad_fn=<DivBackward0>), tensor(27.3372, grad_fn=<DivBackward0>), tensor(44.4068, grad_fn=<DivBackward0>), tensor(27.0427, grad_fn=<DivBackward0>), tensor(34.5972, grad_fn=<DivBackward0>), tensor(35.8307, grad_fn=<DivBackward0>), tensor(39.6969, grad_fn=<DivBackward0>), tensor(36.9522, grad_fn=<DivBackward0>), tensor(37.2218, grad_fn=<DivBackward0>), tensor(23.0046, grad_fn=<DivBackward0>), tensor(30.4203, grad_fn=<DivBackward0>), tensor(34.2844, grad_fn=<DivBackward0>), tensor(38.2067, grad_fn=<DivBackward0>), tensor(26.5055, grad_fn=<DivBackward0>), tensor(20.0985, grad_fn=<DivBackward0>), tensor(42.7699, grad_fn=<DivBackward0>), tensor(38.3221, grad_fn=<DivBackward0>), tensor(13.6440, grad_fn=<DivBackward0>), tensor(14.8637, grad_fn=<DivBackward0>), tensor(42.3595, grad_fn=<DivBackward0>), tensor(25.3022, grad_fn=<DivBackward0>), tensor(29.4710, grad_fn=<DivBackward0>), tensor(25.9960, grad_fn=<DivBackward0>), tensor(22.7765, grad_fn=<DivBackward0>), tensor(31.2117, grad_fn=<DivBackward0>), tensor(26.7729, grad_fn=<DivBackward0>), tensor(24.2739, grad_fn=<DivBackward0>), tensor(47.1858, grad_fn=<DivBackward0>), tensor(9.2838, grad_fn=<DivBackward0>), tensor(29.5382, grad_fn=<DivBackward0>), tensor(23.7303, grad_fn=<DivBackward0>), tensor(35.3302, grad_fn=<DivBackward0>), tensor(15.4265, grad_fn=<DivBackward0>), tensor(43.9777, grad_fn=<DivBackward0>), tensor(24.4476, grad_fn=<DivBackward0>), tensor(31.0122, grad_fn=<DivBackward0>), tensor(33.4301, grad_fn=<DivBackward0>), tensor(44.4553, grad_fn=<DivBackward0>), tensor(33.4093, grad_fn=<DivBackward0>), tensor(25.6542, grad_fn=<DivBackward0>), tensor(18.6827, grad_fn=<DivBackward0>), tensor(31.5909, grad_fn=<DivBackward0>), tensor(42.9067, grad_fn=<DivBackward0>), tensor(32.0507, grad_fn=<DivBackward0>), tensor(38.7208, grad_fn=<DivBackward0>), tensor(28.5591, grad_fn=<DivBackward0>), tensor(40.2306, grad_fn=<DivBackward0>), tensor(44.2629, grad_fn=<DivBackward0>), tensor(34.3648, grad_fn=<DivBackward0>), tensor(29.1414, grad_fn=<DivBackward0>), tensor(29.1539, grad_fn=<DivBackward0>), tensor(32.7752, grad_fn=<DivBackward0>), tensor(40.0183, grad_fn=<DivBackward0>), tensor(14.0483, grad_fn=<DivBackward0>), tensor(38.0859, grad_fn=<DivBackward0>), tensor(30.9943, grad_fn=<DivBackward0>), tensor(39.8982, grad_fn=<DivBackward0>), tensor(25.1389, grad_fn=<DivBackward0>), tensor(36.3801, grad_fn=<DivBackward0>), tensor(32.3463, grad_fn=<DivBackward0>), tensor(41.4041, grad_fn=<DivBackward0>), tensor(32.2257, grad_fn=<DivBackward0>), tensor(42.6886, grad_fn=<DivBackward0>), tensor(21.3530, grad_fn=<DivBackward0>), tensor(24.1300, grad_fn=<DivBackward0>), tensor(32.2216, grad_fn=<DivBackward0>), tensor(23.2541, grad_fn=<DivBackward0>), tensor(25.4566, grad_fn=<DivBackward0>), tensor(32.2147, grad_fn=<DivBackward0>), tensor(34.0385, grad_fn=<DivBackward0>), tensor(26.9968, grad_fn=<DivBackward0>), tensor(31.4438, grad_fn=<DivBackward0>), tensor(43.7297, grad_fn=<DivBackward0>), tensor(31.4884, grad_fn=<DivBackward0>), tensor(33.3892, grad_fn=<DivBackward0>), tensor(28.8913, grad_fn=<DivBackward0>), tensor(38.8483, grad_fn=<DivBackward0>), tensor(32.4777, grad_fn=<DivBackward0>), tensor(28.0954, grad_fn=<DivBackward0>), tensor(29.1853, grad_fn=<DivBackward0>), tensor(35.4669, grad_fn=<DivBackward0>), tensor(39.8785, grad_fn=<DivBackward0>), tensor(43.7620, grad_fn=<DivBackward0>), tensor(27.2444, grad_fn=<DivBackward0>), tensor(31.4254, grad_fn=<DivBackward0>), tensor(40.8161, grad_fn=<DivBackward0>), tensor(42.7633, grad_fn=<DivBackward0>), tensor(40.6828, grad_fn=<DivBackward0>), tensor(32.5244, grad_fn=<DivBackward0>), tensor(30.7351, grad_fn=<DivBackward0>), tensor(42.7350, grad_fn=<DivBackward0>), tensor(25.3415, grad_fn=<DivBackward0>), tensor(36.2374, grad_fn=<DivBackward0>), tensor(47.4294, grad_fn=<DivBackward0>), tensor(39.3199, grad_fn=<DivBackward0>), tensor(39.1114, grad_fn=<DivBackward0>), tensor(42.8615, grad_fn=<DivBackward0>), tensor(37.7421, grad_fn=<DivBackward0>), tensor(50.5609, grad_fn=<DivBackward0>), tensor(40.5413, grad_fn=<DivBackward0>), tensor(36.8897, grad_fn=<DivBackward0>), tensor(37.9899, grad_fn=<DivBackward0>), tensor(32.7734, grad_fn=<DivBackward0>), tensor(27.9099, grad_fn=<DivBackward0>), tensor(42.5628, grad_fn=<DivBackward0>), tensor(44.3685, grad_fn=<DivBackward0>), tensor(42.2431, grad_fn=<DivBackward0>), tensor(34.5572, grad_fn=<DivBackward0>), tensor(34.3994, grad_fn=<DivBackward0>), tensor(39.4882, grad_fn=<DivBackward0>), tensor(35.3809, grad_fn=<DivBackward0>), tensor(32.5829, grad_fn=<DivBackward0>), tensor(34.8722, grad_fn=<DivBackward0>), tensor(42.7141, grad_fn=<DivBackward0>), tensor(36.9210, grad_fn=<DivBackward0>), tensor(34.0405, grad_fn=<DivBackward0>), tensor(26.6647, grad_fn=<DivBackward0>), tensor(23.8516, grad_fn=<DivBackward0>), tensor(40.7019, grad_fn=<DivBackward0>), tensor(31.5963, grad_fn=<DivBackward0>), tensor(39.1670, grad_fn=<DivBackward0>), tensor(21.7309, grad_fn=<DivBackward0>), tensor(45.2361, grad_fn=<DivBackward0>), tensor(40.9670, grad_fn=<DivBackward0>), tensor(40.6465, grad_fn=<DivBackward0>), tensor(42.0185, grad_fn=<DivBackward0>), tensor(43.7212, grad_fn=<DivBackward0>), tensor(37.0135, grad_fn=<DivBackward0>), tensor(30.6575, grad_fn=<DivBackward0>), tensor(39.1571, grad_fn=<DivBackward0>), tensor(46.5286, grad_fn=<DivBackward0>), tensor(21.7606, grad_fn=<DivBackward0>), tensor(47.4921, grad_fn=<DivBackward0>), tensor(38.8653, grad_fn=<DivBackward0>), tensor(42.3093, grad_fn=<DivBackward0>), tensor(52.1401, grad_fn=<DivBackward0>), tensor(45.3499, grad_fn=<DivBackward0>), tensor(50.4163, grad_fn=<DivBackward0>), tensor(42.0641, grad_fn=<DivBackward0>), tensor(30.4826, grad_fn=<DivBackward0>), tensor(25.5488, grad_fn=<DivBackward0>), tensor(13.6407, grad_fn=<DivBackward0>), tensor(25.4840, grad_fn=<DivBackward0>), tensor(49.4781, grad_fn=<DivBackward0>), tensor(30.3798, grad_fn=<DivBackward0>), tensor(26.6612, grad_fn=<DivBackward0>), tensor(29.5818, grad_fn=<DivBackward0>), tensor(35.6319, grad_fn=<DivBackward0>), tensor(22.4928, grad_fn=<DivBackward0>), tensor(31.6253, grad_fn=<DivBackward0>), tensor(37.7067, grad_fn=<DivBackward0>), tensor(29.0431, grad_fn=<DivBackward0>), tensor(44.2007, grad_fn=<DivBackward0>), tensor(40.2480, grad_fn=<DivBackward0>), tensor(43.1884, grad_fn=<DivBackward0>), tensor(40.2913, grad_fn=<DivBackward0>), tensor(26.8025, grad_fn=<DivBackward0>), tensor(38.8774, grad_fn=<DivBackward0>), tensor(48.5486, grad_fn=<DivBackward0>), tensor(50.3186, grad_fn=<DivBackward0>), tensor(35.3477, grad_fn=<DivBackward0>), tensor(38.2533, grad_fn=<DivBackward0>), tensor(39.5187, grad_fn=<DivBackward0>), tensor(20.5252, grad_fn=<DivBackward0>), tensor(38.4201, grad_fn=<DivBackward0>), tensor(42.0986, grad_fn=<DivBackward0>), tensor(40.7139, grad_fn=<DivBackward0>), tensor(31.8763, grad_fn=<DivBackward0>), tensor(40.0935, grad_fn=<DivBackward0>), tensor(39.6863, grad_fn=<DivBackward0>), tensor(30.7162, grad_fn=<DivBackward0>), tensor(45.0684, grad_fn=<DivBackward0>), tensor(33.0189, grad_fn=<DivBackward0>), tensor(35.8818, grad_fn=<DivBackward0>), tensor(28.8995, grad_fn=<DivBackward0>), tensor(28.0488, grad_fn=<DivBackward0>), tensor(37.1815, grad_fn=<DivBackward0>), tensor(45.8470, grad_fn=<DivBackward0>), tensor(34.3667, grad_fn=<DivBackward0>), tensor(46.7685, grad_fn=<DivBackward0>), tensor(32.2712, grad_fn=<DivBackward0>), tensor(30.5139, grad_fn=<DivBackward0>), tensor(38.7784, grad_fn=<DivBackward0>), tensor(37.7677, grad_fn=<DivBackward0>), tensor(38.6482, grad_fn=<DivBackward0>), tensor(36.0336, grad_fn=<DivBackward0>), tensor(34.3228, grad_fn=<DivBackward0>), tensor(46.3598, grad_fn=<DivBackward0>), tensor(27.4187, grad_fn=<DivBackward0>), tensor(41.8231, grad_fn=<DivBackward0>), tensor(29.3326, grad_fn=<DivBackward0>), tensor(38.8451, grad_fn=<DivBackward0>), tensor(44.8001, grad_fn=<DivBackward0>), tensor(28.8911, grad_fn=<DivBackward0>), tensor(37.4965, grad_fn=<DivBackward0>), tensor(48.5328, grad_fn=<DivBackward0>), tensor(43.4357, grad_fn=<DivBackward0>), tensor(27.1352, grad_fn=<DivBackward0>), tensor(26.5002, grad_fn=<DivBackward0>), tensor(45.8358, grad_fn=<DivBackward0>), tensor(29.6547, grad_fn=<DivBackward0>), tensor(40.5991, grad_fn=<DivBackward0>), tensor(33.4744, grad_fn=<DivBackward0>), tensor(30.3604, grad_fn=<DivBackward0>), tensor(36.6010, grad_fn=<DivBackward0>), tensor(28.0820, grad_fn=<DivBackward0>), tensor(19.5181, grad_fn=<DivBackward0>), tensor(44.4736, grad_fn=<DivBackward0>), tensor(29.6472, grad_fn=<DivBackward0>), tensor(39.5139, grad_fn=<DivBackward0>), tensor(42.7480, grad_fn=<DivBackward0>), tensor(25.8314, grad_fn=<DivBackward0>), tensor(33.3311, grad_fn=<DivBackward0>), tensor(32.3855, grad_fn=<DivBackward0>), tensor(14.9306, grad_fn=<DivBackward0>), tensor(38.1739, grad_fn=<DivBackward0>), tensor(25.7951, grad_fn=<DivBackward0>), tensor(21.8502, grad_fn=<DivBackward0>), tensor(17.7814, grad_fn=<DivBackward0>), tensor(53.6406, grad_fn=<DivBackward0>), tensor(17.6071, grad_fn=<DivBackward0>), tensor(29.2647, grad_fn=<DivBackward0>), tensor(33.6748, grad_fn=<DivBackward0>), tensor(19.6648, grad_fn=<DivBackward0>), tensor(43.4033, grad_fn=<DivBackward0>), tensor(32.9934, grad_fn=<DivBackward0>), tensor(33.2480, grad_fn=<DivBackward0>), tensor(23.7438, grad_fn=<DivBackward0>), tensor(19.6136, grad_fn=<DivBackward0>), tensor(27.8461, grad_fn=<DivBackward0>), tensor(37.8039, grad_fn=<DivBackward0>), tensor(20.3992, grad_fn=<DivBackward0>), tensor(39.0755, grad_fn=<DivBackward0>), tensor(46.6388, grad_fn=<DivBackward0>), tensor(44.9800, grad_fn=<DivBackward0>), tensor(42.8857, grad_fn=<DivBackward0>), tensor(33.3630, grad_fn=<DivBackward0>), tensor(26.6981, grad_fn=<DivBackward0>), tensor(30.4614, grad_fn=<DivBackward0>), tensor(34.3998, grad_fn=<DivBackward0>), tensor(29.3434, grad_fn=<DivBackward0>), tensor(25.7951, grad_fn=<DivBackward0>), tensor(23.5085, grad_fn=<DivBackward0>), tensor(45.2927, grad_fn=<DivBackward0>), tensor(38.3313, grad_fn=<DivBackward0>), tensor(28.2998, grad_fn=<DivBackward0>), tensor(32.0690, grad_fn=<DivBackward0>), tensor(24.1453, grad_fn=<DivBackward0>), tensor(34.1645, grad_fn=<DivBackward0>), tensor(31.1732, grad_fn=<DivBackward0>), tensor(30.8149, grad_fn=<DivBackward0>), tensor(45.7824, grad_fn=<DivBackward0>), tensor(48.8204, grad_fn=<DivBackward0>), tensor(26.3113, grad_fn=<DivBackward0>), tensor(26.6530, grad_fn=<DivBackward0>), tensor(46.7319, grad_fn=<DivBackward0>), tensor(21.7545, grad_fn=<DivBackward0>), tensor(42.3010, grad_fn=<DivBackward0>), tensor(26.5449, grad_fn=<DivBackward0>), tensor(34.1546, grad_fn=<DivBackward0>), tensor(26.8781, grad_fn=<DivBackward0>), tensor(26.3771, grad_fn=<DivBackward0>), tensor(26.3530, grad_fn=<DivBackward0>), tensor(9.7816, grad_fn=<DivBackward0>), tensor(28.9497, grad_fn=<DivBackward0>), tensor(24.4812, grad_fn=<DivBackward0>), tensor(25.3887, grad_fn=<DivBackward0>), tensor(35.8051, grad_fn=<DivBackward0>), tensor(29.9715, grad_fn=<DivBackward0>), tensor(21.9653, grad_fn=<DivBackward0>), tensor(10.4598, grad_fn=<DivBackward0>), tensor(25.6495, grad_fn=<DivBackward0>), tensor(22.3891, grad_fn=<DivBackward0>), tensor(10.6163, grad_fn=<DivBackward0>), tensor(24.6521, grad_fn=<DivBackward0>), tensor(11.8228, grad_fn=<DivBackward0>), tensor(29.2414, grad_fn=<DivBackward0>), tensor(22.5085, grad_fn=<DivBackward0>), tensor(27.0831, grad_fn=<DivBackward0>), tensor(27.4102, grad_fn=<DivBackward0>), tensor(25.5497, grad_fn=<DivBackward0>), tensor(23.2124, grad_fn=<DivBackward0>), tensor(21.6733, grad_fn=<DivBackward0>), tensor(35.0111, grad_fn=<DivBackward0>), tensor(16.5817, grad_fn=<DivBackward0>), tensor(23.5504, grad_fn=<DivBackward0>), tensor(33.4846, grad_fn=<DivBackward0>), tensor(8.4281, grad_fn=<DivBackward0>), tensor(24.0464, grad_fn=<DivBackward0>), tensor(24.1695, grad_fn=<DivBackward0>), tensor(27.6635, grad_fn=<DivBackward0>), tensor(22.3616, grad_fn=<DivBackward0>), tensor(22.7507, grad_fn=<DivBackward0>), tensor(25.4656, grad_fn=<DivBackward0>), tensor(28.2137, grad_fn=<DivBackward0>), tensor(22.7424, grad_fn=<DivBackward0>), tensor(12.2647, grad_fn=<DivBackward0>), tensor(23.6392, grad_fn=<DivBackward0>), tensor(23.7757, grad_fn=<DivBackward0>), tensor(25.4465, grad_fn=<DivBackward0>), tensor(25.1647, grad_fn=<DivBackward0>), tensor(6.6399, grad_fn=<DivBackward0>), tensor(21.0662, grad_fn=<DivBackward0>), tensor(24.3732, grad_fn=<DivBackward0>), tensor(22.6737, grad_fn=<DivBackward0>), tensor(10.1082, grad_fn=<DivBackward0>), tensor(20.3958, grad_fn=<DivBackward0>), tensor(20.9224, grad_fn=<DivBackward0>), tensor(7.8995, grad_fn=<DivBackward0>), tensor(24.2240, grad_fn=<DivBackward0>), tensor(10.1581, grad_fn=<DivBackward0>), tensor(21.2001, grad_fn=<DivBackward0>), tensor(20.9909, grad_fn=<DivBackward0>), tensor(14.1949, grad_fn=<DivBackward0>), tensor(9.1831, grad_fn=<DivBackward0>)] \n",
            "\n"
          ],
          "name": "stdout"
        }
      ]
    },
    {
      "metadata": {
        "id": "vQm13wRFperH",
        "colab_type": "code",
        "outputId": "dffa982d-07b9-43b9-ff36-f384050279f4",
        "colab": {
          "base_uri": "https://localhost:8080/"
        }
      },
      "cell_type": "code",
      "source": [
        "#!sudo pip3 install PyOpenGL\n",
        "#!sudo pip3 install piglet\n",
        "#!sudo pip3 install pyglet\n",
        "\n",
        "#from pyglet.gl import base\n",
        "class CartPoleConfig:\n",
        "  env = \"CartPole-v0\"\n",
        "  seed = 0  # for reproducibility0\n",
        "  gamma = 0.99  # discount factor for future rewards\n",
        "  batch_size = 1  # in trajectories (episodes)\n",
        "  learning_rate = 0.01\n",
        "  use_images = True\n",
        "  \n",
        "\n",
        "entropic_agent = Agent(CartPoleConfig, use_entropies=True)\n",
        "agent = Agent(CartPoleConfig, use_entropies=False)\n",
        "\n",
        "n_experiments = 10\n",
        "entropic_rewards=[]\n",
        "normal_rewards= []\n",
        "# Training on 3000 episodes takes around 3:30min on CPU\n",
        "for _i in range(n_experiments):\n",
        "  print(\"Experiment: {}\".format(_i+1))\n",
        "  reward,loss = agent.train(num_episodes=1200)\n",
        "  print (\" Loss: {} Reward: {} \\n\".format(reward, loss))\n",
        "  normal_rewards.append(reward)\n",
        "  reward,loss = entropic_agent.train(num_episodes=1200)\n",
        "  entropic_rewards.append(reward)\n",
        "  #upss, dont forget to go back to dumb agent!!!\n",
        "  entropic_agent = Agent(CartPoleConfig, use_entropies=True)\n",
        "  agent = Agent(CartPoleConfig, use_entropies=False)\n",
        "  print(\"Entropic Loss: {} Reward: {} \\n\".format(reward, loss))\n",
        "  CartPoleConfig.seed+=1\n",
        "  break\n"
      ],
      "execution_count": 1,
      "outputs": [
        {
          "output_type": "error",
          "ename": "NameError",
          "evalue": "ignored",
          "traceback": [
            "\u001b[0;31m---------------------------------------------------------------------------\u001b[0m",
            "\u001b[0;31mNameError\u001b[0m                                 Traceback (most recent call last)",
            "\u001b[0;32m<ipython-input-1-f9e47ee39fb3>\u001b[0m in \u001b[0;36m<module>\u001b[0;34m()\u001b[0m\n\u001b[1;32m      8\u001b[0m \u001b[0;34m\u001b[0m\u001b[0m\n\u001b[1;32m      9\u001b[0m \u001b[0;34m\u001b[0m\u001b[0m\n\u001b[0;32m---> 10\u001b[0;31m \u001b[0mentropic_agent\u001b[0m \u001b[0;34m=\u001b[0m \u001b[0mAgent\u001b[0m\u001b[0;34m(\u001b[0m\u001b[0mCartPoleConfig\u001b[0m\u001b[0;34m,\u001b[0m \u001b[0muse_entropies\u001b[0m\u001b[0;34m=\u001b[0m\u001b[0;32mTrue\u001b[0m\u001b[0;34m)\u001b[0m\u001b[0;34m\u001b[0m\u001b[0;34m\u001b[0m\u001b[0m\n\u001b[0m\u001b[1;32m     11\u001b[0m \u001b[0magent\u001b[0m \u001b[0;34m=\u001b[0m \u001b[0mAgent\u001b[0m\u001b[0;34m(\u001b[0m\u001b[0mCartPoleConfig\u001b[0m\u001b[0;34m,\u001b[0m \u001b[0muse_entropies\u001b[0m\u001b[0;34m=\u001b[0m\u001b[0;32mFalse\u001b[0m\u001b[0;34m)\u001b[0m\u001b[0;34m\u001b[0m\u001b[0;34m\u001b[0m\u001b[0m\n\u001b[1;32m     12\u001b[0m \u001b[0;34m\u001b[0m\u001b[0m\n",
            "\u001b[0;31mNameError\u001b[0m: name 'Agent' is not defined"
          ]
        }
      ]
    },
    {
      "metadata": {
        "id": "vg98qwN9ioiZ",
        "colab_type": "code",
        "colab": {}
      },
      "cell_type": "code",
      "source": [
        "#upss importing her\n",
        "import pandas as pd\n",
        "def ewma(x, alpha):\n",
        "    \"\"\"\n",
        "    Exponential Weighted Moving Average.\n",
        "    Source: https://stackoverflow.com/a/42905202\n",
        "    \"\"\"\n",
        "    x = np.array(x)\n",
        "    n = x.size\n",
        "    w0 = np.ones(shape=(n,n)) * (1-alpha) \n",
        "    p = np.vstack([np.arange(i,i-n,-1) for i in range(n)])\n",
        "    w = np.tril(w0**p,0)\n",
        "    return np.dot(w, x[::np.newaxis]) / w.sum(axis=1)\n",
        "\n",
        "\n",
        "# Plot the reward, with and without EWMA smoothing\n",
        "f = plt.figure(figsize=(20,6))\n",
        "\n",
        "'''\n",
        "window = int(episodes/20)\n",
        "\n",
        "fig, ((ax1), (ax2)) = plt.subplots(2, 1, sharey=True, figsize=[9,9]);\n",
        "rolling_mean = pd.Series(policy.reward_history).rolling(window).mean()\n",
        "std = pd.Series(policy.reward_history).rolling(window).std()\n",
        "ax1.plot(rolling_mean)\n",
        "ax1.fill_between(range(len(policy.reward_history)),rolling_mean-std, rolling_mean+std, color='orange', alpha=0.2)\n",
        "'''\n",
        "\n",
        "#avg rewards\n",
        "\n",
        "\n",
        "#Change name, if u run it twiche u will loose ut rewards...\n",
        "normal_rewards_a=np.mean(np.array(normal_rewards),axis=0)\n",
        "entropic_rewards_a=np.mean(np.array(entropic_rewards),axis=0)\n",
        "\n",
        "window = int(normal_rewards_a.shape[0]/20)\n",
        "print(np.array(normal_rewards_a).shape)\n",
        "\n",
        "entropic_std = pd.Series(entropic_rewards_a).rolling(window).std()\n",
        "normal_std = pd.Series(normal_rewards_a).rolling(window).std()\n",
        "\n",
        "axarr = plt.subplot(1,2,1)\n",
        "axarr.plot(ewma(normal_rewards_a, alpha=1.))\n",
        "axarr.plot(ewma(entropic_rewards_a, alpha=1.))\n",
        "\n",
        "axarr.set_title('(Raw) Cumulative Reward')\n",
        "axarr.set_ylabel('Cumulative reward')\n",
        "axarr.set_xlabel('SGD steps')\n",
        "\n",
        "axarr = plt.subplot(1,2,2)\n",
        "axarr.set_title('Smoothed Cumulative Reward')\n",
        "axarr.plot(ewma(normal_rewards_a, alpha=0.1),color='blue')\n",
        "axarr.plot(ewma(entropic_rewards_a, alpha=0.1),color='red')\n",
        "axarr.fill_between(range(normal_rewards_a.shape[0]),normal_rewards_a-normal_std, normal_rewards_a+normal_std, color='blue', alpha=0.2)\n",
        "axarr.fill_between(range(normal_rewards_a.shape[0]),entropic_rewards_a-entropic_std, entropic_rewards_a+entropic_std, color='red', alpha=0.2)\n",
        "\n",
        "\n",
        "axarr.set_ylabel('Cumulative reward')\n",
        "axarr.set_xlabel('SGD steps')\n",
        "\n",
        "plt.show()"
      ],
      "execution_count": 0,
      "outputs": []
    },
    {
      "metadata": {
        "id": "W7JZPOxE_Vug",
        "colab_type": "code",
        "colab": {}
      },
      "cell_type": "code",
      "source": [
        "# Plot the reward, with and without EWMA smoothing\n",
        "f = plt.figure(figsize=(20,6))\n",
        "print(len(normal_rewards))\n",
        "print(normal_rewards[0]==normal_rewards[3])\n",
        "axarr = plt.subplot(1,2,1)\n",
        "for _i in range(len(normal_rewards)):\n",
        "  axarr.plot(ewma(normal_rewards[_i], alpha=1.))\n",
        "\n",
        "axarr.set_title('(Raw) Cumulative Reward')\n",
        "axarr.set_ylabel('Cumulative reward')\n",
        "axarr.set_xlabel('SGD steps')\n",
        "\n",
        "axarr = plt.subplot(1,2,2)\n",
        "axarr.set_title('Smoothed Cumulative Reward')\n",
        "for _i in range(len(normal_rewards)):\n",
        "  axarr.plot(ewma(normal_rewards[_i], alpha=0.1))\n",
        "\n",
        "axarr.set_ylabel('Cumulative reward')\n",
        "axarr.set_xlabel('SGD steps')\n",
        "\n",
        "plt.show()"
      ],
      "execution_count": 0,
      "outputs": []
    },
    {
      "metadata": {
        "id": "7n5NQpQyoBbt",
        "colab_type": "code",
        "colab": {}
      },
      "cell_type": "code",
      "source": [
        "# Let's visualize our trained policy\n",
        "rews, frames = entropic_agent.play(render=True)\n",
        "print(\"Cumulative reward:\", np.sum(rews))\n",
        "\n",
        "plt.figure(figsize=(frames[0].shape[1] / 72.0, frames[0].shape[0] / 72.0), \n",
        "           dpi=72)\n",
        "patch = plt.imshow(frames[0])\n",
        "plt.axis('off')\n",
        "animate = lambda i: patch.set_data(frames[i])\n",
        "ani = matplotlib.animation.FuncAnimation(plt.gcf(), animate, frames=len(frames),\n",
        "                                         interval=50)\n",
        "HTML(ani.to_jshtml())"
      ],
      "execution_count": 0,
      "outputs": []
    },
    {
      "metadata": {
        "id": "SvFfiKafCgsQ",
        "colab_type": "code",
        "colab": {}
      },
      "cell_type": "code",
      "source": [
        "\n",
        "\n",
        "probs = torch.Tensor([[0.1 ,0.9]]) \n",
        "print(probs)\n",
        "\n",
        "action = probs.multinomial(num_samples=1).data\n",
        "print(action)\n",
        "\n",
        "prob = probs[:, action[0,0]].view(1, -1)\n",
        "print(prob)\n",
        "\n",
        "log_prob = prob.log()\n",
        "print(log_prob)\n",
        "\n",
        "entropy = - (probs*probs.log()).sum()\n",
        "print(entropy)\n"
      ],
      "execution_count": 0,
      "outputs": []
    }
  ]
}